{
 "cells": [
  {
   "cell_type": "code",
   "execution_count": null,
   "metadata": {},
   "outputs": [],
   "source": [
    "'''\n",
    "Biopython \n",
    "* started in 1999-2000. \n",
    "* is an open source community project.\n",
    "* has various modules.\n",
    "\n",
    "https://biopython.org/DIST/docs/api/Bio-module.html\n",
    "\n",
    "We will discuss how Bio can be applied to \n",
    "* work with sequences, \n",
    "* different data formats \n",
    "* and retrieving info from biological DBs.\n",
    "'''"
   ]
  },
  {
   "cell_type": "code",
   "execution_count": null,
   "metadata": {},
   "outputs": [],
   "source": [
    "# ==================================== Sequences ================================================"
   ]
  },
  {
   "cell_type": "code",
   "execution_count": 1,
   "metadata": {},
   "outputs": [],
   "source": [
    "from Bio.Seq import Seq\n",
    "my_seq = Seq(\"AGTACACTGGT\")"
   ]
  },
  {
   "cell_type": "code",
   "execution_count": 2,
   "metadata": {},
   "outputs": [
    {
     "data": {
      "text/plain": [
       "Seq('AGTACACTGGT')"
      ]
     },
     "execution_count": 2,
     "metadata": {},
     "output_type": "execute_result"
    }
   ],
   "source": [
    "my_seq"
   ]
  },
  {
   "cell_type": "code",
   "execution_count": null,
   "metadata": {},
   "outputs": [],
   "source": [
    "'''\n",
    "We haven’t specified an alphabet so we end up with a default generic alphabet. \n",
    "Biopython doesn’t know if this is a nucleotide sequence \n",
    "or a protein rich in alanines (A), glycines (G), cysteines (C) and threonines (T). \n",
    "If you know, you should supply this information:\n",
    "'''"
   ]
  },
  {
   "cell_type": "code",
   "execution_count": 4,
   "metadata": {},
   "outputs": [],
   "source": [
    "# help(Seq)"
   ]
  },
  {
   "cell_type": "code",
   "execution_count": 5,
   "metadata": {},
   "outputs": [
    {
     "name": "stdout",
     "output_type": "stream",
     "text": [
      "Alphabet()\n"
     ]
    }
   ],
   "source": [
    "print(my_seq.alphabet)"
   ]
  },
  {
   "cell_type": "code",
   "execution_count": 6,
   "metadata": {},
   "outputs": [],
   "source": [
    "from Bio.Alphabet import generic_dna, generic_protein"
   ]
  },
  {
   "cell_type": "code",
   "execution_count": 7,
   "metadata": {},
   "outputs": [
    {
     "name": "stdout",
     "output_type": "stream",
     "text": [
      "AGTACACTGGT\n"
     ]
    }
   ],
   "source": [
    "my_dna = Seq(\"AGTACACTGGT\", alphabet=generic_dna)\n",
    "print(my_dna)"
   ]
  },
  {
   "cell_type": "code",
   "execution_count": 8,
   "metadata": {},
   "outputs": [
    {
     "data": {
      "text/plain": [
       "DNAAlphabet()"
      ]
     },
     "execution_count": 8,
     "metadata": {},
     "output_type": "execute_result"
    }
   ],
   "source": [
    "my_dna.alphabet"
   ]
  },
  {
   "cell_type": "code",
   "execution_count": 9,
   "metadata": {},
   "outputs": [
    {
     "name": "stdout",
     "output_type": "stream",
     "text": [
      "AGTACACTGGT\n"
     ]
    }
   ],
   "source": [
    "my_protein = Seq(\"AGTACACTGGT\", alphabet=generic_protein)\n",
    "print(my_protein)"
   ]
  },
  {
   "cell_type": "code",
   "execution_count": 10,
   "metadata": {},
   "outputs": [
    {
     "data": {
      "text/plain": [
       "ProteinAlphabet()"
      ]
     },
     "execution_count": 10,
     "metadata": {},
     "output_type": "execute_result"
    }
   ],
   "source": [
    "my_protein.alphabet"
   ]
  },
  {
   "cell_type": "code",
   "execution_count": 11,
   "metadata": {},
   "outputs": [],
   "source": [
    "# https://biopython.org/DIST/docs/api/Bio.Alphabet-module.html\n",
    "\n",
    "import Bio.Alphabet"
   ]
  },
  {
   "cell_type": "code",
   "execution_count": 12,
   "metadata": {},
   "outputs": [
    {
     "name": "stdout",
     "output_type": "stream",
     "text": [
      "GATC\n",
      "GATCRYWSMKHBVDN\n"
     ]
    }
   ],
   "source": [
    "print(Bio.Alphabet.IUPAC.unambiguous_dna.letters)\n",
    "print(Bio.Alphabet.IUPAC.ambiguous_dna.letters)"
   ]
  },
  {
   "cell_type": "code",
   "execution_count": 13,
   "metadata": {},
   "outputs": [
    {
     "name": "stdout",
     "output_type": "stream",
     "text": [
      "A\n",
      "AG\n",
      "CT\n",
      "CG\n"
     ]
    }
   ],
   "source": [
    "print(Bio.Data.IUPACData.ambiguous_dna_values[\"A\"])\n",
    "print(Bio.Data.IUPACData.ambiguous_dna_values[\"R\"])\n",
    "print(Bio.Data.IUPACData.ambiguous_dna_values[\"Y\"])\n",
    "print(Bio.Data.IUPACData.ambiguous_dna_values[\"S\"])"
   ]
  },
  {
   "cell_type": "code",
   "execution_count": 14,
   "metadata": {},
   "outputs": [
    {
     "name": "stdout",
     "output_type": "stream",
     "text": [
      "24\n",
      "['Ala', 'Asx', 'Cys', 'Asp', 'Glu', 'Phe', 'Gly', 'His', 'Ile', 'Lys', 'Leu', 'Met', 'Asn', 'Pro', 'Gln', 'Arg', 'Ser', 'Thr', 'Sec', 'Val', 'Trp', 'Xaa', 'Tyr', 'Glx']\n"
     ]
    }
   ],
   "source": [
    "print(len(Bio.Alphabet.ThreeLetterProtein.letters))\n",
    "print(Bio.Alphabet.ThreeLetterProtein.letters)\n",
    "# Selenocysteine (Sec), Pyrrolysine (Pyl) -- these are not normally found in proteins,\n",
    "# Asx - Asparagine (Asn) or aspartic acid (Asp)\n",
    "# Xaa - Unspecified or unknown amino acid"
   ]
  },
  {
   "cell_type": "code",
   "execution_count": 15,
   "metadata": {},
   "outputs": [
    {
     "name": "stdout",
     "output_type": "stream",
     "text": [
      "HSTC\n"
     ]
    }
   ],
   "source": [
    "print(Bio.Alphabet.SecondaryStructure.letters) \n",
    "# H - helix\n",
    "# S - strand \n",
    "# T - turn\n",
    "# C - coil"
   ]
  },
  {
   "cell_type": "code",
   "execution_count": null,
   "metadata": {},
   "outputs": [],
   "source": [
    "# ==================================== Back to Sequences ================================================"
   ]
  },
  {
   "cell_type": "code",
   "execution_count": 16,
   "metadata": {},
   "outputs": [
    {
     "name": "stdout",
     "output_type": "stream",
     "text": [
      "ATGGCCATTGTAATGGGCCGCTGAAAGGGTGCCCGATAG\n"
     ]
    }
   ],
   "source": [
    "coding_dna = Seq(\"ATGGCCATTGTAATGGGCCGCTGAAAGGGTGCCCGATAG\", alphabet=generic_dna)\n",
    "print(coding_dna)"
   ]
  },
  {
   "cell_type": "code",
   "execution_count": 17,
   "metadata": {},
   "outputs": [
    {
     "name": "stdout",
     "output_type": "stream",
     "text": [
      "AUGGCCAUUGUAAUGGGCCGCUGAAAGGGUGCCCGAUAG\n"
     ]
    }
   ],
   "source": [
    "messenger_rna = coding_dna.transcribe()\n",
    "print(messenger_rna)"
   ]
  },
  {
   "cell_type": "code",
   "execution_count": 18,
   "metadata": {
    "scrolled": true
   },
   "outputs": [
    {
     "data": {
      "text/plain": [
       "RNAAlphabet()"
      ]
     },
     "execution_count": 18,
     "metadata": {},
     "output_type": "execute_result"
    }
   ],
   "source": [
    "messenger_rna.alphabet"
   ]
  },
  {
   "cell_type": "code",
   "execution_count": 19,
   "metadata": {},
   "outputs": [
    {
     "name": "stdout",
     "output_type": "stream",
     "text": [
      "ATGGCCATTGTAATGGGCCGCTGAAAGGGTGCCCGATAG\n"
     ]
    }
   ],
   "source": [
    "cDNA = messenger_rna.back_transcribe()\n",
    "print(cDNA)"
   ]
  },
  {
   "cell_type": "code",
   "execution_count": 20,
   "metadata": {
    "scrolled": true
   },
   "outputs": [
    {
     "data": {
      "text/plain": [
       "DNAAlphabet()"
      ]
     },
     "execution_count": 20,
     "metadata": {},
     "output_type": "execute_result"
    }
   ],
   "source": [
    "cDNA.alphabet"
   ]
  },
  {
   "cell_type": "code",
   "execution_count": 21,
   "metadata": {},
   "outputs": [
    {
     "name": "stdout",
     "output_type": "stream",
     "text": [
      "MAIVMGR*KGAR*\n",
      "MAIVMGR*KGAR*\n"
     ]
    }
   ],
   "source": [
    "protein1 = coding_dna.translate()\n",
    "protein2 = messenger_rna.translate()\n",
    "\n",
    "print(protein1)\n",
    "print(protein2)"
   ]
  },
  {
   "cell_type": "code",
   "execution_count": 22,
   "metadata": {},
   "outputs": [
    {
     "data": {
      "text/plain": [
       "HasStopCodon(ExtendedIUPACProtein(), '*')"
      ]
     },
     "execution_count": 22,
     "metadata": {},
     "output_type": "execute_result"
    }
   ],
   "source": [
    "protein1.alphabet"
   ]
  },
  {
   "cell_type": "code",
   "execution_count": 23,
   "metadata": {},
   "outputs": [
    {
     "data": {
      "text/plain": [
       "HasStopCodon(ExtendedIUPACProtein(), '*')"
      ]
     },
     "execution_count": 23,
     "metadata": {},
     "output_type": "execute_result"
    }
   ],
   "source": [
    "protein2.alphabet"
   ]
  },
  {
   "cell_type": "code",
   "execution_count": null,
   "metadata": {},
   "outputs": [],
   "source": [
    "# Examples of errors\n",
    "# 1:"
   ]
  },
  {
   "cell_type": "code",
   "execution_count": 24,
   "metadata": {},
   "outputs": [
    {
     "name": "stderr",
     "output_type": "stream",
     "text": [
      "/home/octopus/miniconda3/lib/python3.7/site-packages/Bio/Seq.py:2859: BiopythonWarning: Partial codon, len(sequence) not a multiple of three. Explicitly trim the sequence or add trailing N before translation. This may become an error in future.\n",
      "  BiopythonWarning,\n"
     ]
    },
    {
     "data": {
      "text/plain": [
       "Seq('MP', ExtendedIUPACProtein())"
      ]
     },
     "execution_count": 24,
     "metadata": {},
     "output_type": "execute_result"
    }
   ],
   "source": [
    "Seq(\"ATGCCCAA\").translate()"
   ]
  },
  {
   "cell_type": "code",
   "execution_count": null,
   "metadata": {},
   "outputs": [],
   "source": [
    "# 2:"
   ]
  },
  {
   "cell_type": "code",
   "execution_count": 25,
   "metadata": {},
   "outputs": [],
   "source": [
    "rna_seq = Seq(\"CCGGGUU\", alphabet = Bio.Alphabet.IUPAC.unambiguous_rna)"
   ]
  },
  {
   "cell_type": "code",
   "execution_count": 26,
   "metadata": {},
   "outputs": [
    {
     "ename": "ValueError",
     "evalue": "RNA cannot be transcribed!",
     "output_type": "error",
     "traceback": [
      "\u001b[0;31m---------------------------------------------------------------------------\u001b[0m",
      "\u001b[0;31mValueError\u001b[0m                                Traceback (most recent call last)",
      "\u001b[0;32m<ipython-input-26-0e06c0df68bc>\u001b[0m in \u001b[0;36m<module>\u001b[0;34m\u001b[0m\n\u001b[0;32m----> 1\u001b[0;31m \u001b[0mrna_seq\u001b[0m\u001b[0;34m.\u001b[0m\u001b[0mtranscribe\u001b[0m\u001b[0;34m(\u001b[0m\u001b[0;34m)\u001b[0m\u001b[0;34m\u001b[0m\u001b[0;34m\u001b[0m\u001b[0m\n\u001b[0m",
      "\u001b[0;32m~/miniconda3/lib/python3.7/site-packages/Bio/Seq.py\u001b[0m in \u001b[0;36mtranscribe\u001b[0;34m(self)\u001b[0m\n\u001b[1;32m   1081\u001b[0m             \u001b[0;32mraise\u001b[0m \u001b[0mValueError\u001b[0m\u001b[0;34m(\u001b[0m\u001b[0;34m\"Proteins cannot be transcribed!\"\u001b[0m\u001b[0;34m)\u001b[0m\u001b[0;34m\u001b[0m\u001b[0;34m\u001b[0m\u001b[0m\n\u001b[1;32m   1082\u001b[0m         \u001b[0;32mif\u001b[0m \u001b[0misinstance\u001b[0m\u001b[0;34m(\u001b[0m\u001b[0mbase\u001b[0m\u001b[0;34m,\u001b[0m \u001b[0mAlphabet\u001b[0m\u001b[0;34m.\u001b[0m\u001b[0mRNAAlphabet\u001b[0m\u001b[0;34m)\u001b[0m\u001b[0;34m:\u001b[0m\u001b[0;34m\u001b[0m\u001b[0;34m\u001b[0m\u001b[0m\n\u001b[0;32m-> 1083\u001b[0;31m             \u001b[0;32mraise\u001b[0m \u001b[0mValueError\u001b[0m\u001b[0;34m(\u001b[0m\u001b[0;34m\"RNA cannot be transcribed!\"\u001b[0m\u001b[0;34m)\u001b[0m\u001b[0;34m\u001b[0m\u001b[0;34m\u001b[0m\u001b[0m\n\u001b[0m\u001b[1;32m   1084\u001b[0m \u001b[0;34m\u001b[0m\u001b[0m\n\u001b[1;32m   1085\u001b[0m         \u001b[0;32mif\u001b[0m \u001b[0mself\u001b[0m\u001b[0;34m.\u001b[0m\u001b[0malphabet\u001b[0m \u001b[0;34m==\u001b[0m \u001b[0mIUPAC\u001b[0m\u001b[0;34m.\u001b[0m\u001b[0munambiguous_dna\u001b[0m\u001b[0;34m:\u001b[0m\u001b[0;34m\u001b[0m\u001b[0;34m\u001b[0m\u001b[0m\n",
      "\u001b[0;31mValueError\u001b[0m: RNA cannot be transcribed!"
     ]
    }
   ],
   "source": [
    "rna_seq.transcribe()"
   ]
  },
  {
   "cell_type": "code",
   "execution_count": null,
   "metadata": {},
   "outputs": [],
   "source": [
    "# 3:"
   ]
  },
  {
   "cell_type": "code",
   "execution_count": 27,
   "metadata": {},
   "outputs": [
    {
     "name": "stdout",
     "output_type": "stream",
     "text": [
      "CCGGGTT\n",
      "CCGGG\n",
      "C\n"
     ]
    },
    {
     "ename": "TypeError",
     "evalue": "'Seq' object does not support item assignment",
     "output_type": "error",
     "traceback": [
      "\u001b[0;31m---------------------------------------------------------------------------\u001b[0m",
      "\u001b[0;31mTypeError\u001b[0m                                 Traceback (most recent call last)",
      "\u001b[0;32m<ipython-input-27-c993ec13cb63>\u001b[0m in \u001b[0;36m<module>\u001b[0;34m\u001b[0m\n\u001b[1;32m      3\u001b[0m \u001b[0mprint\u001b[0m\u001b[0;34m(\u001b[0m\u001b[0mseq\u001b[0m\u001b[0;34m[\u001b[0m\u001b[0;34m:\u001b[0m\u001b[0;36m5\u001b[0m\u001b[0;34m]\u001b[0m\u001b[0;34m)\u001b[0m \u001b[0;31m# it behaves almost like a string\u001b[0m\u001b[0;34m\u001b[0m\u001b[0;34m\u001b[0m\u001b[0m\n\u001b[1;32m      4\u001b[0m \u001b[0mprint\u001b[0m\u001b[0;34m(\u001b[0m\u001b[0mseq\u001b[0m\u001b[0;34m[\u001b[0m\u001b[0;36m0\u001b[0m\u001b[0;34m]\u001b[0m\u001b[0;34m)\u001b[0m\u001b[0;34m\u001b[0m\u001b[0;34m\u001b[0m\u001b[0m\n\u001b[0;32m----> 5\u001b[0;31m \u001b[0mseq\u001b[0m\u001b[0;34m[\u001b[0m\u001b[0;36m0\u001b[0m\u001b[0;34m]\u001b[0m\u001b[0;34m=\u001b[0m\u001b[0;34m\"T\"\u001b[0m \u001b[0;31m# they are immutable\u001b[0m\u001b[0;34m\u001b[0m\u001b[0;34m\u001b[0m\u001b[0m\n\u001b[0m",
      "\u001b[0;31mTypeError\u001b[0m: 'Seq' object does not support item assignment"
     ]
    }
   ],
   "source": [
    "seq = Seq(\"CCGGGTT\")\n",
    "print(seq)\n",
    "print(seq[:5]) # it behaves almost like a string \n",
    "print(seq[0])\n",
    "seq[0]=\"T\" # they are immutable"
   ]
  },
  {
   "cell_type": "code",
   "execution_count": 28,
   "metadata": {},
   "outputs": [
    {
     "data": {
      "text/plain": [
       "MutableSeq('CCGGGTT')"
      ]
     },
     "execution_count": 28,
     "metadata": {},
     "output_type": "execute_result"
    }
   ],
   "source": [
    "# Seq objects are not mutable but...\n",
    "\n",
    "mut_seq = seq.tomutable()\n",
    "mut_seq"
   ]
  },
  {
   "cell_type": "code",
   "execution_count": null,
   "metadata": {},
   "outputs": [],
   "source": []
  },
  {
   "cell_type": "code",
   "execution_count": 29,
   "metadata": {},
   "outputs": [
    {
     "name": "stdout",
     "output_type": "stream",
     "text": [
      "TCGGGTT\n"
     ]
    }
   ],
   "source": [
    "mut_seq[0]=\"T\"\n",
    "print(mut_seq)\n",
    "# append(), insert(), pop(), remove()... --> check all methods via `tab`"
   ]
  },
  {
   "cell_type": "code",
   "execution_count": 30,
   "metadata": {},
   "outputs": [
    {
     "name": "stdout",
     "output_type": "stream",
     "text": [
      "\n",
      "reversed: TTGGGCT\n",
      "\n",
      "complement: AACCCGA\n",
      "\n",
      "reverse_complement: TCGGGTT\n",
      "\n",
      "Note, Seq isn't mutable and thus method reverse() isn't applicable there:\n"
     ]
    },
    {
     "ename": "AttributeError",
     "evalue": "'Seq' object has no attribute 'reverse'",
     "output_type": "error",
     "traceback": [
      "\u001b[0;31m---------------------------------------------------------------------------\u001b[0m",
      "\u001b[0;31mAttributeError\u001b[0m                            Traceback (most recent call last)",
      "\u001b[0;32m<ipython-input-30-1c88d265b81b>\u001b[0m in \u001b[0;36m<module>\u001b[0;34m\u001b[0m\n\u001b[1;32m     10\u001b[0m \u001b[0;34m\u001b[0m\u001b[0m\n\u001b[1;32m     11\u001b[0m \u001b[0mprint\u001b[0m\u001b[0;34m(\u001b[0m\u001b[0;34m\"\\nNote, Seq isn't mutable and thus method reverse() isn't applicable there:\"\u001b[0m\u001b[0;34m)\u001b[0m\u001b[0;34m\u001b[0m\u001b[0;34m\u001b[0m\u001b[0m\n\u001b[0;32m---> 12\u001b[0;31m \u001b[0mseq\u001b[0m\u001b[0;34m.\u001b[0m\u001b[0mreverse\u001b[0m\u001b[0;34m(\u001b[0m\u001b[0;34m)\u001b[0m\u001b[0;34m\u001b[0m\u001b[0;34m\u001b[0m\u001b[0m\n\u001b[0m",
      "\u001b[0;31mAttributeError\u001b[0m: 'Seq' object has no attribute 'reverse'"
     ]
    }
   ],
   "source": [
    "# There are also some methods specific for changing a DNA sequence:\n",
    "mut_seq.reverse()\n",
    "print(\"\\nreversed: %s\" % (mut_seq))\n",
    "\n",
    "mut_seq.complement()\n",
    "print(\"\\ncomplement: %s\" % (mut_seq))\n",
    "\n",
    "mut_seq.reverse_complement()\n",
    "print(\"\\nreverse_complement: %s\" % (mut_seq))\n",
    "\n",
    "print(\"\\nNote, Seq isn't mutable and thus method reverse() isn't applicable there:\")\n",
    "seq.reverse()"
   ]
  },
  {
   "cell_type": "code",
   "execution_count": null,
   "metadata": {},
   "outputs": [],
   "source": []
  },
  {
   "cell_type": "code",
   "execution_count": null,
   "metadata": {},
   "outputs": [],
   "source": [
    "# ==================================== Sequence Records ================================================"
   ]
  },
  {
   "cell_type": "code",
   "execution_count": 31,
   "metadata": {},
   "outputs": [],
   "source": [
    "# SeqRecord is a Seq object with associated metadata:\n",
    "\n",
    "from Bio.SeqRecord import SeqRecord\n",
    "\n",
    "# let's define out Seq as SeqRecord\n",
    "seq_rec = SeqRecord(seq, \n",
    "                    id=\"001\", \n",
    "                    name=\"My Sequence\", \n",
    "                    description=\"Gene ***\",\n",
    "                    dbxrefs=[\"Pfam:PF05077\", \"InterPro:IPR007769\", \"DIP:2186N\"])\n",
    "                    # dbxrefs A list of strings, each string is a database cross reference id."
   ]
  },
  {
   "cell_type": "code",
   "execution_count": 33,
   "metadata": {},
   "outputs": [],
   "source": [
    "# help(SeqRecord)"
   ]
  },
  {
   "cell_type": "code",
   "execution_count": 34,
   "metadata": {},
   "outputs": [
    {
     "data": {
      "text/plain": [
       "SeqRecord(seq=Seq('CCGGGTT'), id='001', name='My Sequence', description='Gene ***', dbxrefs=['Pfam:PF05077', 'InterPro:IPR007769', 'DIP:2186N'])"
      ]
     },
     "execution_count": 34,
     "metadata": {},
     "output_type": "execute_result"
    }
   ],
   "source": [
    "seq_rec"
   ]
  },
  {
   "cell_type": "code",
   "execution_count": 35,
   "metadata": {},
   "outputs": [],
   "source": [
    "# changing features post-factum:\n",
    "seq_rec.description = \"gene of toxic membrane protein\""
   ]
  },
  {
   "cell_type": "code",
   "execution_count": 36,
   "metadata": {},
   "outputs": [
    {
     "data": {
      "text/plain": [
       "SeqRecord(seq=Seq('CCGGGTT'), id='001', name='My Sequence', description='gene of toxic membrane protein', dbxrefs=['Pfam:PF05077', 'InterPro:IPR007769', 'DIP:2186N'])"
      ]
     },
     "execution_count": 36,
     "metadata": {},
     "output_type": "execute_result"
    }
   ],
   "source": [
    "seq_rec"
   ]
  },
  {
   "cell_type": "code",
   "execution_count": null,
   "metadata": {},
   "outputs": [],
   "source": []
  },
  {
   "cell_type": "code",
   "execution_count": null,
   "metadata": {},
   "outputs": [],
   "source": []
  },
  {
   "cell_type": "code",
   "execution_count": 37,
   "metadata": {},
   "outputs": [
    {
     "name": "stdout",
     "output_type": "stream",
     "text": [
      ">001 gene of toxic membrane protein\n",
      "CCGGGTT\n",
      "\n"
     ]
    }
   ],
   "source": [
    "print(seq_rec.format(\"fasta\"))"
   ]
  },
  {
   "cell_type": "code",
   "execution_count": null,
   "metadata": {},
   "outputs": [],
   "source": []
  },
  {
   "cell_type": "code",
   "execution_count": 41,
   "metadata": {},
   "outputs": [
    {
     "name": "stdout",
     "output_type": "stream",
     "text": [
      "------------------\n",
      "gi|2765658|emb|Z78533.1|CIZ78533\n",
      "Seq('CGTAACAAGGTTTCCGTAGGTGAACCTGCGGAAGGATCATTGATGAGACCGTGG...CGC', SingleLetterAlphabet())\n",
      "740\n",
      "=============================\n",
      "------------------\n",
      "gi|2765657|emb|Z78532.1|CCZ78532\n",
      "Seq('CGTAACAAGGTTTCCGTAGGTGAACCTGCGGAAGGATCATTGTTGAGACAACAG...GGC', SingleLetterAlphabet())\n",
      "753\n",
      "=============================\n",
      "------------------\n",
      "gi|2765656|emb|Z78531.1|CFZ78531\n",
      "Seq('CGTAACAAGGTTTCCGTAGGTGAACCTGCGGAAGGATCATTGTTGAGACAGCAG...TAA', SingleLetterAlphabet())\n",
      "748\n",
      "=============================\n",
      "------------------\n",
      "gi|2765655|emb|Z78530.1|CMZ78530\n",
      "Seq('CGTAACAAGGTTTCCGTAGGTGAACCTGCGGAAGGATCATTGTTGAAACAACAT...CAT', SingleLetterAlphabet())\n",
      "744\n",
      "=============================\n",
      "------------------\n",
      "gi|2765654|emb|Z78529.1|CLZ78529\n",
      "Seq('ACGGCGAGCTGCCGAAGGACATTGTTGAGACAGCAGAATATACGATTGAGTGAA...AAA', SingleLetterAlphabet())\n",
      "733\n",
      "=============================\n",
      "------------------\n",
      "gi|2765652|emb|Z78527.1|CYZ78527\n",
      "Seq('CGTAACAAGGTTTCCGTAGGTGAACCTGCGGAAGGATCATTGTTGAGACAGTAG...CCC', SingleLetterAlphabet())\n",
      "718\n",
      "=============================\n",
      "------------------\n",
      "gi|2765651|emb|Z78526.1|CGZ78526\n",
      "Seq('CGTAACAAGGTTTCCGTAGGTGAACCTGCGGAAGGATCATTGTTGAGACAGTAG...TGT', SingleLetterAlphabet())\n",
      "730\n",
      "=============================\n",
      "------------------\n",
      "gi|2765650|emb|Z78525.1|CAZ78525\n",
      "Seq('TGTTGAGATAGCAGAATATACATCGAGTGAATCCGGAGGACCTGTGGTTATTCG...GCA', SingleLetterAlphabet())\n",
      "704\n",
      "=============================\n",
      "------------------\n",
      "gi|2765649|emb|Z78524.1|CFZ78524\n",
      "Seq('CGTAACAAGGTTTCCGTAGGTGAACCTGCGGAAGGATCATTGTTGAGATAGTAG...AGC', SingleLetterAlphabet())\n",
      "740\n",
      "=============================\n",
      "------------------\n",
      "gi|2765648|emb|Z78523.1|CHZ78523\n",
      "Seq('CGTAACCAGGTTTCCGTAGGTGAACCTGCGGCAGGATCATTGTTGAGACAGCAG...AAG', SingleLetterAlphabet())\n",
      "709\n",
      "=============================\n",
      "------------------\n",
      "gi|2765647|emb|Z78522.1|CMZ78522\n",
      "Seq('CGTAACAAGGTTTCCGTAGGTGAACCTGCGGAAGGATCATTGTTGAGACAGCAG...GAG', SingleLetterAlphabet())\n",
      "700\n",
      "=============================\n",
      "------------------\n",
      "gi|2765646|emb|Z78521.1|CCZ78521\n",
      "Seq('GTAGGTGAACCTGCGGAAGGATCATTGTTGAGACAGTAGAATATATGATCGAGT...ACC', SingleLetterAlphabet())\n",
      "726\n",
      "=============================\n",
      "------------------\n",
      "gi|2765645|emb|Z78520.1|CSZ78520\n",
      "Seq('CGTAACAAGGTTTCCGTAGGTGAACCTGCGGAAGGATCATTGTTGAGACAGCAG...TTT', SingleLetterAlphabet())\n",
      "753\n",
      "=============================\n",
      "------------------\n",
      "gi|2765644|emb|Z78519.1|CPZ78519\n",
      "Seq('ATATGATCGAGTGAATCTGGTGGACTTGTGGTTACTCAGCTCGCCATAGGCTTT...TTA', SingleLetterAlphabet())\n",
      "699\n",
      "=============================\n",
      "------------------\n",
      "gi|2765643|emb|Z78518.1|CRZ78518\n",
      "Seq('CGTAACAAGGTTTCCGTAGGTGAACCTGCGGGAGGATCATTGTTGAGATAGTAG...TCC', SingleLetterAlphabet())\n",
      "658\n",
      "=============================\n",
      "------------------\n",
      "gi|2765642|emb|Z78517.1|CFZ78517\n",
      "Seq('CGTAACAAGGTTTCCGTAGGTGAACCTGCGGAAGGATCATTGTTGAGACAGTAG...AGC', SingleLetterAlphabet())\n",
      "752\n",
      "=============================\n",
      "------------------\n",
      "gi|2765641|emb|Z78516.1|CPZ78516\n",
      "Seq('CGTAACAAGGTTTCCGTAGGTGAACCTGCGGAAGGATCATTGTTGAGACAGTAT...TAA', SingleLetterAlphabet())\n",
      "726\n",
      "=============================\n",
      "------------------\n",
      "gi|2765640|emb|Z78515.1|MXZ78515\n",
      "Seq('CGTAACAAGGTTTCCGTAGGTGAACCTGCGGAAGGATCATTGCTGAGACCGTAG...AGC', SingleLetterAlphabet())\n",
      "765\n",
      "=============================\n",
      "------------------\n",
      "gi|2765639|emb|Z78514.1|PSZ78514\n",
      "Seq('CGTAACAAGGTTTCCGTAGGTGGACCTTCGGGAGGATCATTTTTGAAGCCCCCA...CTA', SingleLetterAlphabet())\n",
      "755\n",
      "=============================\n",
      "------------------\n",
      "gi|2765638|emb|Z78513.1|PBZ78513\n",
      "Seq('CGTAACAAGGTTTCCGTAGGTGAACCTGCGGAAGGATCATTGTTGAGACCGCCA...GAG', SingleLetterAlphabet())\n",
      "742\n",
      "=============================\n",
      "------------------\n",
      "gi|2765637|emb|Z78512.1|PWZ78512\n",
      "Seq('CGTAACAAGGTTTCCGTAGGTGGACCTTCGGGAGGATCATTTTTGAAGCCCCCA...AGC', SingleLetterAlphabet())\n",
      "762\n",
      "=============================\n",
      "------------------\n",
      "gi|2765636|emb|Z78511.1|PEZ78511\n",
      "Seq('CGTAACAAGGTTTCCGTAGGTGAACCTTCGGAAGGATCATTGTTGAGACCCCCA...GGA', SingleLetterAlphabet())\n",
      "745\n",
      "=============================\n",
      "------------------\n",
      "gi|2765635|emb|Z78510.1|PCZ78510\n",
      "Seq('CTAACCAGGGTTCCGAGGTGACCTTCGGGAGGATTCCTTTTTAAGCCCCCGAAA...TTA', SingleLetterAlphabet())\n",
      "750\n",
      "=============================\n",
      "------------------\n",
      "gi|2765634|emb|Z78509.1|PPZ78509\n",
      "Seq('CGTAACAAGGTTTCCGTAGGTGAACCTGCGGAAGGATCATTGTTGAGACCGCCA...GGA', SingleLetterAlphabet())\n",
      "731\n",
      "=============================\n",
      "------------------\n",
      "gi|2765633|emb|Z78508.1|PLZ78508\n",
      "Seq('CGTAACAAGGTTTCCGTAGGTGAACCTGCGGAAGGATCATTGTTGAGACCGCCA...TGA', SingleLetterAlphabet())\n",
      "741\n",
      "=============================\n",
      "------------------\n",
      "gi|2765632|emb|Z78507.1|PLZ78507\n",
      "Seq('CGTAACAAGGTTTCCGTAGGTGAACCTGCGGAAGGATCATTGTTGAGACCCCCA...TGA', SingleLetterAlphabet())\n",
      "740\n",
      "=============================\n",
      "------------------\n",
      "gi|2765631|emb|Z78506.1|PLZ78506\n",
      "Seq('CGTAACAAGGTTTCCGTAGGTGAACCTGCGGAAGGATCATTGTTGAGACCGCAA...TGA', SingleLetterAlphabet())\n",
      "727\n",
      "=============================\n",
      "------------------\n",
      "gi|2765630|emb|Z78505.1|PSZ78505\n",
      "Seq('CGTAACAAGGTTTCCGTAGGTGAACCTGCGGAAGGATCATTGTTGAGACCGCCA...TTT', SingleLetterAlphabet())\n",
      "711\n",
      "=============================\n",
      "------------------\n",
      "gi|2765629|emb|Z78504.1|PKZ78504\n",
      "Seq('CGTAACAAGGTTTCCGTAGGTGAACCTTCGGAAGGATCATTGTTGAGACCGCAA...TAA', SingleLetterAlphabet())\n",
      "743\n",
      "=============================\n",
      "------------------\n",
      "gi|2765628|emb|Z78503.1|PCZ78503\n",
      "Seq('CGTAACCAGGTTTCCGTAGGTGAACCTCCGGAAGGATCCTTGTTGAGACCGCCA...TAA', SingleLetterAlphabet())\n",
      "727\n",
      "=============================\n",
      "------------------\n",
      "gi|2765627|emb|Z78502.1|PBZ78502\n",
      "Seq('CGTAACCAGGTTTCCGTAGGTGAACCTCCGGAAGGATCATTGTTGAGACCGCCA...CGC', SingleLetterAlphabet())\n",
      "757\n",
      "=============================\n",
      "------------------\n",
      "gi|2765626|emb|Z78501.1|PCZ78501\n",
      "Seq('CGTAACAAGGTTTCCGTAGGTGAACCTGCGGAAGGATCATTGTTGAGACCGCAA...AGA', SingleLetterAlphabet())\n",
      "770\n",
      "=============================\n",
      "------------------\n",
      "gi|2765625|emb|Z78500.1|PWZ78500\n",
      "Seq('CGTAACAAGGTTTCCGTAGGTGAACCTGCGGAAGGCTCATTGTTGAGACCGCAA...AAG', SingleLetterAlphabet())\n",
      "767\n",
      "=============================\n",
      "------------------\n",
      "gi|2765624|emb|Z78499.1|PMZ78499\n",
      "Seq('CGTAACAAGGTTTCCGTAGGTGAACCTGCGGAGGGATCATTGTTGAGATCGCAT...ACC', SingleLetterAlphabet())\n",
      "759\n",
      "=============================\n",
      "------------------\n",
      "gi|2765623|emb|Z78498.1|PMZ78498\n",
      "Seq('CGTAACAAGGTTTCCGTAGGTGAACCTGCGGAAAGGTCATTGTTGAGATCACAT...AGC', SingleLetterAlphabet())\n",
      "750\n",
      "=============================\n",
      "------------------\n",
      "gi|2765622|emb|Z78497.1|PDZ78497\n",
      "Seq('CGTAACAAGGTTTCCGTAGGTGAACCTGCGGAAGGATCATTGTTGAGATCACAT...AGC', SingleLetterAlphabet())\n",
      "788\n",
      "=============================\n",
      "------------------\n",
      "gi|2765621|emb|Z78496.1|PAZ78496\n",
      "Seq('CGTAACAAGGTTTCCGTAGGTGAACCTGCGGAAGGATCATTGTTGAGATCGCAT...AGC', SingleLetterAlphabet())\n",
      "774\n",
      "=============================\n",
      "------------------\n",
      "gi|2765620|emb|Z78495.1|PEZ78495\n",
      "Seq('CGTAACAAGGTTTCCGTAGGTGAACCTCCGGAAGGATCATTGTTGAGATCACAT...GTG', SingleLetterAlphabet())\n",
      "789\n",
      "=============================\n",
      "------------------\n",
      "gi|2765619|emb|Z78494.1|PNZ78494\n",
      "Seq('CGTAACAAGGTTTCCGTAGGTGAACCTGCGGAAGGATCATTGTTGAGGTCGCAT...AAG', SingleLetterAlphabet())\n",
      "688\n",
      "=============================\n",
      "------------------\n",
      "gi|2765618|emb|Z78493.1|PGZ78493\n",
      "Seq('CGTAACAAGGATTCCGTAGGTGAACCTGCGGAAGGATCATTGTTGAGATCGCAT...CCC', SingleLetterAlphabet())\n",
      "719\n",
      "=============================\n",
      "------------------\n",
      "gi|2765617|emb|Z78492.1|PBZ78492\n",
      "Seq('CGTAACAAGGTTTCCGTAGGTGAACCTGCGGAAGGATCATTGTTGAGATCGCAT...ATA', SingleLetterAlphabet())\n",
      "743\n",
      "=============================\n",
      "------------------\n",
      "gi|2765616|emb|Z78491.1|PCZ78491\n",
      "Seq('CGTAACAAGGTTTCCGTAGGTGAACCTGCGGAAGGATCATTGTTGAGATCGCAT...AGC', SingleLetterAlphabet())\n",
      "737\n",
      "=============================\n",
      "------------------\n",
      "gi|2765615|emb|Z78490.1|PFZ78490\n",
      "Seq('CGTAACAAGGTTTCCGTAGGTGAACCTGCGGAAGGATCATTGTTGAGATCACAT...TGA', SingleLetterAlphabet())\n",
      "728\n",
      "=============================\n",
      "------------------\n",
      "gi|2765614|emb|Z78489.1|PDZ78489\n",
      "Seq('CGTAACAAGGTTTCCGTAGGTGAACCTGCGGAAGGATCATTGTTGAGATCACAT...GGC', SingleLetterAlphabet())\n",
      "740\n",
      "=============================\n",
      "------------------\n",
      "gi|2765613|emb|Z78488.1|PTZ78488\n",
      "Seq('CTGTAGGTGAACCTGCGGAAGGATCATTGTTGAGATCACGCAATAATTGATCGA...GCT', SingleLetterAlphabet())\n",
      "696\n",
      "=============================\n",
      "------------------\n",
      "gi|2765612|emb|Z78487.1|PHZ78487\n",
      "Seq('CGTAACAAGGTTTCCGTAGGTGAACCTGCGGAAGGATCATTGTTGAGATCACAT...TAA', SingleLetterAlphabet())\n",
      "732\n",
      "=============================\n",
      "------------------\n",
      "gi|2765611|emb|Z78486.1|PBZ78486\n",
      "Seq('CGTCACGAGGTTTCCGTAGGTGAATCTGCGGGAGGATCATTGTTGAGATCACAT...TGA', SingleLetterAlphabet())\n",
      "731\n",
      "=============================\n",
      "------------------\n",
      "gi|2765610|emb|Z78485.1|PHZ78485\n",
      "Seq('CTGAACCTGGTGTCCGAAGGTGAATCTGCGGATGGATCATTGTTGAGATATCAT...GTA', SingleLetterAlphabet())\n",
      "735\n",
      "=============================\n",
      "------------------\n",
      "gi|2765609|emb|Z78484.1|PCZ78484\n",
      "Seq('CGTAACAAGGTTTCCGTAGGTGAACCTGGGGAAGGATCATTGTTGAGATCACAT...TTT', SingleLetterAlphabet())\n",
      "720\n",
      "=============================\n",
      "------------------\n",
      "gi|2765608|emb|Z78483.1|PVZ78483\n",
      "Seq('CGTAACAAGGTTTCCGTAGGTGAACCTGCGGAAGGATCATTGTTGAGATCACAT...GCA', SingleLetterAlphabet())\n",
      "740\n",
      "=============================\n",
      "------------------\n",
      "gi|2765607|emb|Z78482.1|PEZ78482\n",
      "Seq('TCTACTGCAGTGACCGAGATTTGCCATCGAGCCTCCTGGGAGCTTTCTTGCTGG...GCA', SingleLetterAlphabet())\n",
      "629\n",
      "=============================\n",
      "------------------\n",
      "gi|2765606|emb|Z78481.1|PIZ78481\n",
      "Seq('CGTAACAAGGTTTCCGTAGGTGAACCTGCGGAAGGATCATTGTTGAGATCACAT...TGA', SingleLetterAlphabet())\n",
      "572\n",
      "=============================\n",
      "------------------\n",
      "gi|2765605|emb|Z78480.1|PGZ78480\n",
      "Seq('CGTAACAAGGTTTCCGTAGGTGAACCTGCGGAAGGATCATTGTTGAGATCACAT...TGA', SingleLetterAlphabet())\n",
      "587\n",
      "=============================\n",
      "------------------\n",
      "gi|2765604|emb|Z78479.1|PPZ78479\n",
      "Seq('CGTAACAAGGTTTCCGTAGGTGAACCTGCGGAAGGATCATTGTTGAGATCACAT...AGT', SingleLetterAlphabet())\n",
      "700\n",
      "=============================\n",
      "------------------\n",
      "gi|2765603|emb|Z78478.1|PVZ78478\n",
      "Seq('CGTAACAAGGTTTCCGTAGGTGAACCTCCGGAAGGATCAGTGTTGAGATCACAT...GGC', SingleLetterAlphabet())\n",
      "636\n",
      "=============================\n",
      "------------------\n",
      "gi|2765602|emb|Z78477.1|PVZ78477\n",
      "Seq('CGTAACAAGGTTTCCGTAGGTGAACCTGCGGAAGGATCATTGTTGAGATCACAT...TGC', SingleLetterAlphabet())\n",
      "716\n",
      "=============================\n",
      "------------------\n",
      "gi|2765601|emb|Z78476.1|PGZ78476\n",
      "Seq('CGTAACAAGGTTTCCGTAGGTGAACCTGCGGAAGGATCATTGTTGAGATCACAT...CCC', SingleLetterAlphabet())\n",
      "592\n",
      "=============================\n",
      "------------------\n",
      "gi|2765600|emb|Z78475.1|PSZ78475\n",
      "Seq('CGTAACAAGGTTTCCGTAGGTGAACCTGCGGAAGGATCATTGTTGAGATCACAT...GGT', SingleLetterAlphabet())\n",
      "716\n",
      "=============================\n",
      "------------------\n",
      "gi|2765599|emb|Z78474.1|PKZ78474\n",
      "Seq('CGTAACAAGGTTTCCGTAGGTGAACCTGCGGAAGGATCATTGTTGAGATCACGT...CTT', SingleLetterAlphabet())\n",
      "733\n",
      "=============================\n",
      "------------------\n",
      "gi|2765598|emb|Z78473.1|PSZ78473\n",
      "Seq('CGTAACAAGGTTTCCGTAGGTGAACCTGCGGAAGGATCATTGTTGAGATCACAT...AGG', SingleLetterAlphabet())\n",
      "626\n",
      "=============================\n",
      "------------------\n",
      "gi|2765597|emb|Z78472.1|PLZ78472\n",
      "Seq('CGTAACAAGGTTTCCGTAGGTGAACCTGCGGAAGGATCATTGTTGAGATCACAT...AGC', SingleLetterAlphabet())\n",
      "737\n",
      "=============================\n",
      "------------------\n",
      "gi|2765596|emb|Z78471.1|PDZ78471\n",
      "Seq('CGTAACAAGGTTTCCGTAGGTGAACCTGCGGAAGGATCATTGTTGAGATCACAT...AGC', SingleLetterAlphabet())\n",
      "740\n",
      "=============================\n",
      "------------------\n",
      "gi|2765595|emb|Z78470.1|PPZ78470\n",
      "Seq('CGTAACAAGGTTTCCGTAGGTGAACCTGCGGAAGGATCATTGTTGAGATCACAT...GTT', SingleLetterAlphabet())\n",
      "574\n",
      "=============================\n",
      "------------------\n",
      "gi|2765594|emb|Z78469.1|PHZ78469\n",
      "Seq('CGTAACAAGGTTTCCGTAGGTGAACCTGCGGAAGGATCATTGTTGAGATCACAT...GTT', SingleLetterAlphabet())\n",
      "594\n",
      "=============================\n",
      "------------------\n",
      "gi|2765593|emb|Z78468.1|PAZ78468\n",
      "Seq('CGTAACAAGGTTTCCGTAGGTGAACCTGCGGAAGGATCATTGTTGAGATCGCAT...GTT', SingleLetterAlphabet())\n",
      "610\n",
      "=============================\n",
      "------------------\n",
      "gi|2765592|emb|Z78467.1|PSZ78467\n",
      "Seq('CGTAACAAGGTTTCCGTAGGTGAACCTGCGGAAGGATCATTGTTGAGATCACAT...TGA', SingleLetterAlphabet())\n",
      "730\n",
      "=============================\n",
      "------------------\n",
      "gi|2765591|emb|Z78466.1|PPZ78466\n",
      "Seq('CGTAACAAGGTTTCCGTAGGTGAACCTGCGGAAGGATCATTGTTGAGATCACAT...CCC', SingleLetterAlphabet())\n",
      "641\n",
      "=============================\n",
      "------------------\n",
      "gi|2765590|emb|Z78465.1|PRZ78465\n",
      "Seq('CGTAACAAGGTTTCCGTAGGTGAACCTGCGGAAGGATCATTGTTGAGATCACAT...TGC', SingleLetterAlphabet())\n",
      "702\n",
      "=============================\n",
      "------------------\n",
      "gi|2765589|emb|Z78464.1|PGZ78464\n",
      "Seq('CGTAACAAGGTTTCCGTAGGTGAGCGGAAGGGTCATTGTTGAGATCACATAATA...AGC', SingleLetterAlphabet())\n",
      "733\n",
      "=============================\n",
      "------------------\n",
      "gi|2765588|emb|Z78463.1|PGZ78463\n",
      "Seq('CGTAACAAGGTTTCCGTAGGTGAACCTGCGGAAGGTTCATTGTTGAGATCACAT...AGC', SingleLetterAlphabet())\n",
      "738\n",
      "=============================\n",
      "------------------\n",
      "gi|2765587|emb|Z78462.1|PSZ78462\n",
      "Seq('CGTCACGAGGTCTCCGGATGTGACCCTGCGGAAGGATCATTGTTGAGATCACAT...CAT', SingleLetterAlphabet())\n",
      "736\n",
      "=============================\n",
      "------------------\n",
      "gi|2765586|emb|Z78461.1|PWZ78461\n",
      "Seq('CGTAACAAGGTTTCCGTAGGTGAACCTCCGGAAGGATCATTGTTGAGATCACAT...TAA', SingleLetterAlphabet())\n",
      "732\n",
      "=============================\n",
      "------------------\n",
      "gi|2765585|emb|Z78460.1|PCZ78460\n",
      "Seq('CGTAACAAGGTTTCCGTAGGTGAACCTCCGGAAGGATCATTGTTGAGATCACAT...TTA', SingleLetterAlphabet())\n",
      "745\n",
      "=============================\n",
      "------------------\n",
      "gi|2765584|emb|Z78459.1|PDZ78459\n",
      "Seq('CGTAACAAGGTTTCCGTAGGTGAACCTGCGGAAGGATCATTGTTGAGATCACAT...TTT', SingleLetterAlphabet())\n",
      "744\n",
      "=============================\n",
      "------------------\n",
      "gi|2765583|emb|Z78458.1|PHZ78458\n",
      "Seq('CGTAACAAGGTTTCCGTAGGTGAACCTGCGGAAGGATCATTGTTGAGATCACAT...TTG', SingleLetterAlphabet())\n",
      "738\n",
      "=============================\n",
      "------------------\n",
      "gi|2765582|emb|Z78457.1|PCZ78457\n",
      "Seq('CGTAACAAGGTTTCCGTAGGTGAACCTCCGGAAGGATCATTGTTGAGATCACAT...GAG', SingleLetterAlphabet())\n",
      "739\n",
      "=============================\n",
      "------------------\n",
      "gi|2765581|emb|Z78456.1|PTZ78456\n",
      "Seq('CGTAACAAGGTTTCCGTAGGTGAACCTGCGGAAGGATCATTGTTGAGATCACAT...AGC', SingleLetterAlphabet())\n",
      "740\n",
      "=============================\n",
      "------------------\n",
      "gi|2765580|emb|Z78455.1|PJZ78455\n",
      "Seq('CGTAACCAGGTTTCCGTAGGTGGACCTTCGGGAGGATCATTTTTGAGATCACAT...GCA', SingleLetterAlphabet())\n",
      "745\n",
      "=============================\n",
      "------------------\n",
      "gi|2765579|emb|Z78454.1|PFZ78454\n",
      "Seq('CGTAACAAGGTTTCCGTAGGTGAACCTGCGGAAGGATCATTGTTGAGATCACAT...AAC', SingleLetterAlphabet())\n",
      "695\n",
      "=============================\n",
      "------------------\n",
      "gi|2765578|emb|Z78453.1|PSZ78453\n",
      "Seq('CGTAACAAGGTTTCCGTAGGTGAACCTGCGGAAGGATCATTGTTGAGATCACAT...GCA', SingleLetterAlphabet())\n",
      "745\n",
      "=============================\n",
      "------------------\n",
      "gi|2765577|emb|Z78452.1|PBZ78452\n",
      "Seq('CGTAACAAGGTTTCCGTAGGTGAACCTGCGGAAGGATCATTGTTGAGATCACAT...GCA', SingleLetterAlphabet())\n",
      "743\n",
      "=============================\n",
      "------------------\n",
      "gi|2765576|emb|Z78451.1|PHZ78451\n",
      "Seq('CGTAACAAGGTTTCCGTAGGTGTACCTCCGGAAGGATCATTGTTGAGATCACAT...AGC', SingleLetterAlphabet())\n",
      "730\n",
      "=============================\n",
      "------------------\n",
      "gi|2765575|emb|Z78450.1|PPZ78450\n",
      "Seq('GGAAGGATCATTGCTGATATCACATAATAATTGATCGAGTTAAGCTGGAGGATC...GAG', SingleLetterAlphabet())\n",
      "706\n",
      "=============================\n",
      "------------------\n",
      "gi|2765574|emb|Z78449.1|PMZ78449\n",
      "Seq('CGTAACAAGGTTTCCGTAGGTGAACCTGCGGAAGGATCATTGTTGAGATCACAT...TGC', SingleLetterAlphabet())\n",
      "744\n",
      "=============================\n",
      "------------------\n",
      "gi|2765573|emb|Z78448.1|PAZ78448\n",
      "Seq('CGTAACAAGGTTTCCGTAGGTGAACCTGCGGAAGGATCATTGTTGAGATCACAT...AGG', SingleLetterAlphabet())\n",
      "742\n",
      "=============================\n",
      "------------------\n",
      "gi|2765572|emb|Z78447.1|PVZ78447\n",
      "Seq('CGTAACAAGGATTCCGTAGGTGAACCTGCGGGAGGATCATTGTTGAGATCACAT...AGC', SingleLetterAlphabet())\n",
      "694\n",
      "=============================\n",
      "------------------\n",
      "gi|2765571|emb|Z78446.1|PAZ78446\n",
      "Seq('CGTAACAAGGTTTCCGTAGGTGAACCTCCGGAAGGATCATTGTTGAGATCACAT...CCC', SingleLetterAlphabet())\n",
      "712\n",
      "=============================\n",
      "------------------\n",
      "gi|2765570|emb|Z78445.1|PUZ78445\n",
      "Seq('CGTAACAAGGTTTCCGTAGGTGAACCTGCGGAAGGATCATTGTTGAGATCACAT...TGT', SingleLetterAlphabet())\n",
      "715\n",
      "=============================\n",
      "------------------\n",
      "gi|2765569|emb|Z78444.1|PAZ78444\n",
      "Seq('CGTAACAAGGTTTCCGTAGGGTGAACTGCGGAAGGATCATTGTTGAGATCACAT...ATT', SingleLetterAlphabet())\n",
      "688\n",
      "=============================\n",
      "------------------\n",
      "gi|2765568|emb|Z78443.1|PLZ78443\n",
      "Seq('CGTAACAAGGTTTCCGTAGGTGAACCTGCGGAAGGATCATTGTTGAGATCACAT...AGG', SingleLetterAlphabet())\n",
      "784\n",
      "=============================\n",
      "------------------\n",
      "gi|2765567|emb|Z78442.1|PBZ78442\n",
      "Seq('GTAGGTGAACCTGCGGAAGGATCATTGTTGAGATCACATAATAATTGATCGAGT...AGT', SingleLetterAlphabet())\n",
      "721\n",
      "=============================\n",
      "------------------\n",
      "gi|2765566|emb|Z78441.1|PSZ78441\n",
      "Seq('GGAAGGTCATTGCCGATATCACATAATAATTGATCGAGTTAATCTGGAGGATCT...GAG', SingleLetterAlphabet())\n",
      "703\n",
      "=============================\n",
      "------------------\n",
      "gi|2765565|emb|Z78440.1|PPZ78440\n",
      "Seq('CGTAACAAGGTTTCCGTAGGTGGACCTCCGGGAGGATCATTGTTGAGATCACAT...GCA', SingleLetterAlphabet())\n",
      "744\n",
      "=============================\n",
      "------------------\n",
      "gi|2765564|emb|Z78439.1|PBZ78439\n",
      "Seq('CATTGTTGAGATCACATAATAATTGATCGAGTTAATCTGGAGGATCTGTTTACT...GCC', SingleLetterAlphabet())\n",
      "592\n",
      "=============================\n"
     ]
    }
   ],
   "source": [
    "# Bio.SeqIO is a common interface to input (read) and output (write) sequence file formats. \n",
    "\n",
    "# Sequences retrieved with this interface are passed to your program as SeqRecord objects.\n",
    "\n",
    "from Bio import SeqIO\n",
    "\n",
    "for seq_record in SeqIO.parse(\"/home/octopus/Documents/2scripts/ScientificPython/1_Basics/Lecture5_Bio/data/ls_orchid.fasta\", \n",
    "                              \"fasta\"):\n",
    "#     print(seq_record)\n",
    "    print(\"------------------\")\n",
    "    print(seq_record.id)\n",
    "#     print(seq_record.seq)\n",
    "    print(repr(seq_record.seq))\n",
    "    print(len(seq_record.seq))\n",
    "    print(\"=============================\")"
   ]
  },
  {
   "cell_type": "code",
   "execution_count": 43,
   "metadata": {},
   "outputs": [
    {
     "name": "stdout",
     "output_type": "stream",
     "text": [
      "------------------\n",
      "Z78533.1\n",
      "Seq('CGTAACAAGGTTTCCGTAGGTGAACCTGCGGAAGGATCATTGATGAGACCGTGG...CGC', IUPACAmbiguousDNA())\n",
      "740\n",
      "=============================\n",
      "------------------\n",
      "Z78532.1\n",
      "Seq('CGTAACAAGGTTTCCGTAGGTGAACCTGCGGAAGGATCATTGTTGAGACAACAG...GGC', IUPACAmbiguousDNA())\n",
      "753\n",
      "=============================\n",
      "------------------\n",
      "Z78531.1\n",
      "Seq('CGTAACAAGGTTTCCGTAGGTGAACCTGCGGAAGGATCATTGTTGAGACAGCAG...TAA', IUPACAmbiguousDNA())\n",
      "748\n",
      "=============================\n",
      "------------------\n",
      "Z78530.1\n",
      "Seq('CGTAACAAGGTTTCCGTAGGTGAACCTGCGGAAGGATCATTGTTGAAACAACAT...CAT', IUPACAmbiguousDNA())\n",
      "744\n",
      "=============================\n",
      "------------------\n",
      "Z78529.1\n",
      "Seq('ACGGCGAGCTGCCGAAGGACATTGTTGAGACAGCAGAATATACGATTGAGTGAA...AAA', IUPACAmbiguousDNA())\n",
      "733\n",
      "=============================\n",
      "------------------\n",
      "Z78527.1\n",
      "Seq('CGTAACAAGGTTTCCGTAGGTGAACCTGCGGAAGGATCATTGTTGAGACAGTAG...CCC', IUPACAmbiguousDNA())\n",
      "718\n",
      "=============================\n",
      "------------------\n",
      "Z78526.1\n",
      "Seq('CGTAACAAGGTTTCCGTAGGTGAACCTGCGGAAGGATCATTGTTGAGACAGTAG...TGT', IUPACAmbiguousDNA())\n",
      "730\n",
      "=============================\n",
      "------------------\n",
      "Z78525.1\n",
      "Seq('TGTTGAGATAGCAGAATATACATCGAGTGAATCCGGAGGACCTGTGGTTATTCG...GCA', IUPACAmbiguousDNA())\n",
      "704\n",
      "=============================\n",
      "------------------\n",
      "Z78524.1\n",
      "Seq('CGTAACAAGGTTTCCGTAGGTGAACCTGCGGAAGGATCATTGTTGAGATAGTAG...AGC', IUPACAmbiguousDNA())\n",
      "740\n",
      "=============================\n",
      "------------------\n",
      "Z78523.1\n",
      "Seq('CGTAACCAGGTTTCCGTAGGTGAACCTGCGGCAGGATCATTGTTGAGACAGCAG...AAG', IUPACAmbiguousDNA())\n",
      "709\n",
      "=============================\n",
      "------------------\n",
      "Z78522.1\n",
      "Seq('CGTAACAAGGTTTCCGTAGGTGAACCTGCGGAAGGATCATTGTTGAGACAGCAG...GAG', IUPACAmbiguousDNA())\n",
      "700\n",
      "=============================\n",
      "------------------\n",
      "Z78521.1\n",
      "Seq('GTAGGTGAACCTGCGGAAGGATCATTGTTGAGACAGTAGAATATATGATCGAGT...ACC', IUPACAmbiguousDNA())\n",
      "726\n",
      "=============================\n",
      "------------------\n",
      "Z78520.1\n",
      "Seq('CGTAACAAGGTTTCCGTAGGTGAACCTGCGGAAGGATCATTGTTGAGACAGCAG...TTT', IUPACAmbiguousDNA())\n",
      "753\n",
      "=============================\n",
      "------------------\n",
      "Z78519.1\n",
      "Seq('ATATGATCGAGTGAATCTGGTGGACTTGTGGTTACTCAGCTCGCCATAGGCTTT...TTA', IUPACAmbiguousDNA())\n",
      "699\n",
      "=============================\n",
      "------------------\n",
      "Z78518.1\n",
      "Seq('CGTAACAAGGTTTCCGTAGGTGAACCTGCGGGAGGATCATTGTTGAGATAGTAG...TCC', IUPACAmbiguousDNA())\n",
      "658\n",
      "=============================\n",
      "------------------\n",
      "Z78517.1\n",
      "Seq('CGTAACAAGGTTTCCGTAGGTGAACCTGCGGAAGGATCATTGTTGAGACAGTAG...AGC', IUPACAmbiguousDNA())\n",
      "752\n",
      "=============================\n",
      "------------------\n",
      "Z78516.1\n",
      "Seq('CGTAACAAGGTTTCCGTAGGTGAACCTGCGGAAGGATCATTGTTGAGACAGTAT...TAA', IUPACAmbiguousDNA())\n",
      "726\n",
      "=============================\n",
      "------------------\n",
      "Z78515.1\n",
      "Seq('CGTAACAAGGTTTCCGTAGGTGAACCTGCGGAAGGATCATTGCTGAGACCGTAG...AGC', IUPACAmbiguousDNA())\n",
      "765\n",
      "=============================\n",
      "------------------\n",
      "Z78514.1\n",
      "Seq('CGTAACAAGGTTTCCGTAGGTGGACCTTCGGGAGGATCATTTTTGAAGCCCCCA...CTA', IUPACAmbiguousDNA())\n",
      "755\n",
      "=============================\n",
      "------------------\n",
      "Z78513.1\n",
      "Seq('CGTAACAAGGTTTCCGTAGGTGAACCTGCGGAAGGATCATTGTTGAGACCGCCA...GAG', IUPACAmbiguousDNA())\n",
      "742\n",
      "=============================\n",
      "------------------\n",
      "Z78512.1\n",
      "Seq('CGTAACAAGGTTTCCGTAGGTGGACCTTCGGGAGGATCATTTTTGAAGCCCCCA...AGC', IUPACAmbiguousDNA())\n",
      "762\n",
      "=============================\n",
      "------------------\n",
      "Z78511.1\n",
      "Seq('CGTAACAAGGTTTCCGTAGGTGAACCTTCGGAAGGATCATTGTTGAGACCCCCA...GGA', IUPACAmbiguousDNA())\n",
      "745\n",
      "=============================\n",
      "------------------\n",
      "Z78510.1\n",
      "Seq('CTAACCAGGGTTCCGAGGTGACCTTCGGGAGGATTCCTTTTTAAGCCCCCGAAA...TTA', IUPACAmbiguousDNA())\n",
      "750\n",
      "=============================\n",
      "------------------\n",
      "Z78509.1\n",
      "Seq('CGTAACAAGGTTTCCGTAGGTGAACCTGCGGAAGGATCATTGTTGAGACCGCCA...GGA', IUPACAmbiguousDNA())\n",
      "731\n",
      "=============================\n",
      "------------------\n",
      "Z78508.1\n",
      "Seq('CGTAACAAGGTTTCCGTAGGTGAACCTGCGGAAGGATCATTGTTGAGACCGCCA...TGA', IUPACAmbiguousDNA())\n",
      "741\n",
      "=============================\n",
      "------------------\n",
      "Z78507.1\n",
      "Seq('CGTAACAAGGTTTCCGTAGGTGAACCTGCGGAAGGATCATTGTTGAGACCCCCA...TGA', IUPACAmbiguousDNA())\n",
      "740\n",
      "=============================\n",
      "------------------\n",
      "Z78506.1\n",
      "Seq('CGTAACAAGGTTTCCGTAGGTGAACCTGCGGAAGGATCATTGTTGAGACCGCAA...TGA', IUPACAmbiguousDNA())\n",
      "727\n",
      "=============================\n",
      "------------------\n",
      "Z78505.1\n",
      "Seq('CGTAACAAGGTTTCCGTAGGTGAACCTGCGGAAGGATCATTGTTGAGACCGCCA...TTT', IUPACAmbiguousDNA())\n",
      "711\n",
      "=============================\n",
      "------------------\n",
      "Z78504.1\n",
      "Seq('CGTAACAAGGTTTCCGTAGGTGAACCTTCGGAAGGATCATTGTTGAGACCGCAA...TAA', IUPACAmbiguousDNA())\n",
      "743\n",
      "=============================\n",
      "------------------\n",
      "Z78503.1\n",
      "Seq('CGTAACCAGGTTTCCGTAGGTGAACCTCCGGAAGGATCCTTGTTGAGACCGCCA...TAA', IUPACAmbiguousDNA())\n",
      "727\n",
      "=============================\n",
      "------------------\n",
      "Z78502.1\n",
      "Seq('CGTAACCAGGTTTCCGTAGGTGAACCTCCGGAAGGATCATTGTTGAGACCGCCA...CGC', IUPACAmbiguousDNA())\n",
      "757\n",
      "=============================\n",
      "------------------\n",
      "Z78501.1\n",
      "Seq('CGTAACAAGGTTTCCGTAGGTGAACCTGCGGAAGGATCATTGTTGAGACCGCAA...AGA', IUPACAmbiguousDNA())\n",
      "770\n",
      "=============================\n",
      "------------------\n",
      "Z78500.1\n",
      "Seq('CGTAACAAGGTTTCCGTAGGTGAACCTGCGGAAGGCTCATTGTTGAGACCGCAA...AAG', IUPACAmbiguousDNA())\n",
      "767\n",
      "=============================\n",
      "------------------\n",
      "Z78499.1\n",
      "Seq('CGTAACAAGGTTTCCGTAGGTGAACCTGCGGAGGGATCATTGTTGAGATCGCAT...ACC', IUPACAmbiguousDNA())\n",
      "759\n",
      "=============================\n",
      "------------------\n",
      "Z78498.1\n",
      "Seq('CGTAACAAGGTTTCCGTAGGTGAACCTGCGGAAAGGTCATTGTTGAGATCACAT...AGC', IUPACAmbiguousDNA())\n",
      "750\n",
      "=============================\n",
      "------------------\n",
      "Z78497.1\n",
      "Seq('CGTAACAAGGTTTCCGTAGGTGAACCTGCGGAAGGATCATTGTTGAGATCACAT...AGC', IUPACAmbiguousDNA())\n",
      "788\n",
      "=============================\n",
      "------------------\n",
      "Z78496.1\n",
      "Seq('CGTAACAAGGTTTCCGTAGGTGAACCTGCGGAAGGATCATTGTTGAGATCGCAT...AGC', IUPACAmbiguousDNA())\n",
      "774\n",
      "=============================\n",
      "------------------\n",
      "Z78495.1\n",
      "Seq('CGTAACAAGGTTTCCGTAGGTGAACCTCCGGAAGGATCATTGTTGAGATCACAT...GTG', IUPACAmbiguousDNA())\n",
      "789\n",
      "=============================\n",
      "------------------\n",
      "Z78494.1\n",
      "Seq('CGTAACAAGGTTTCCGTAGGTGAACCTGCGGAAGGATCATTGTTGAGGTCGCAT...AAG', IUPACAmbiguousDNA())\n",
      "688\n",
      "=============================\n",
      "------------------\n",
      "Z78493.1\n",
      "Seq('CGTAACAAGGATTCCGTAGGTGAACCTGCGGAAGGATCATTGTTGAGATCGCAT...CCC', IUPACAmbiguousDNA())\n",
      "719\n",
      "=============================\n",
      "------------------\n",
      "Z78492.1\n",
      "Seq('CGTAACAAGGTTTCCGTAGGTGAACCTGCGGAAGGATCATTGTTGAGATCGCAT...ATA', IUPACAmbiguousDNA())\n",
      "743\n",
      "=============================\n",
      "------------------\n",
      "Z78491.1\n",
      "Seq('CGTAACAAGGTTTCCGTAGGTGAACCTGCGGAAGGATCATTGTTGAGATCGCAT...AGC', IUPACAmbiguousDNA())\n",
      "737\n",
      "=============================\n",
      "------------------\n",
      "Z78490.1\n",
      "Seq('CGTAACAAGGTTTCCGTAGGTGAACCTGCGGAAGGATCATTGTTGAGATCACAT...TGA', IUPACAmbiguousDNA())\n",
      "728\n",
      "=============================\n",
      "------------------\n",
      "Z78489.1\n",
      "Seq('CGTAACAAGGTTTCCGTAGGTGAACCTGCGGAAGGATCATTGTTGAGATCACAT...GGC', IUPACAmbiguousDNA())\n",
      "740\n",
      "=============================\n",
      "------------------\n",
      "Z78488.1\n",
      "Seq('CTGTAGGTGAACCTGCGGAAGGATCATTGTTGAGATCACGCAATAATTGATCGA...GCT', IUPACAmbiguousDNA())\n",
      "696\n",
      "=============================\n",
      "------------------\n",
      "Z78487.1\n",
      "Seq('CGTAACAAGGTTTCCGTAGGTGAACCTGCGGAAGGATCATTGTTGAGATCACAT...TAA', IUPACAmbiguousDNA())\n",
      "732\n",
      "=============================\n",
      "------------------\n",
      "Z78486.1\n",
      "Seq('CGTCACGAGGTTTCCGTAGGTGAATCTGCGGGAGGATCATTGTTGAGATCACAT...TGA', IUPACAmbiguousDNA())\n",
      "731\n",
      "=============================\n",
      "------------------\n",
      "Z78485.1\n",
      "Seq('CTGAACCTGGTGTCCGAAGGTGAATCTGCGGATGGATCATTGTTGAGATATCAT...GTA', IUPACAmbiguousDNA())\n",
      "735\n",
      "=============================\n",
      "------------------\n",
      "Z78484.1\n",
      "Seq('CGTAACAAGGTTTCCGTAGGTGAACCTGGGGAAGGATCATTGTTGAGATCACAT...TTT', IUPACAmbiguousDNA())\n",
      "720\n",
      "=============================\n",
      "------------------\n",
      "Z78483.1\n",
      "Seq('CGTAACAAGGTTTCCGTAGGTGAACCTGCGGAAGGATCATTGTTGAGATCACAT...GCA', IUPACAmbiguousDNA())\n",
      "740\n",
      "=============================\n",
      "------------------\n",
      "Z78482.1\n",
      "Seq('TCTACTGCAGTGACCGAGATTTGCCATCGAGCCTCCTGGGAGCTTTCTTGCTGG...GCA', IUPACAmbiguousDNA())\n",
      "629\n",
      "=============================\n",
      "------------------\n",
      "Z78481.1\n",
      "Seq('CGTAACAAGGTTTCCGTAGGTGAACCTGCGGAAGGATCATTGTTGAGATCACAT...TGA', IUPACAmbiguousDNA())\n",
      "572\n",
      "=============================\n",
      "------------------\n",
      "Z78480.1\n",
      "Seq('CGTAACAAGGTTTCCGTAGGTGAACCTGCGGAAGGATCATTGTTGAGATCACAT...TGA', IUPACAmbiguousDNA())\n",
      "587\n",
      "=============================\n",
      "------------------\n",
      "Z78479.1\n",
      "Seq('CGTAACAAGGTTTCCGTAGGTGAACCTGCGGAAGGATCATTGTTGAGATCACAT...AGT', IUPACAmbiguousDNA())\n",
      "700\n",
      "=============================\n",
      "------------------\n",
      "Z78478.1\n",
      "Seq('CGTAACAAGGTTTCCGTAGGTGAACCTCCGGAAGGATCAGTGTTGAGATCACAT...GGC', IUPACAmbiguousDNA())\n",
      "636\n",
      "=============================\n",
      "------------------\n",
      "Z78477.1\n",
      "Seq('CGTAACAAGGTTTCCGTAGGTGAACCTGCGGAAGGATCATTGTTGAGATCACAT...TGC', IUPACAmbiguousDNA())\n",
      "716\n",
      "=============================\n",
      "------------------\n",
      "Z78476.1\n",
      "Seq('CGTAACAAGGTTTCCGTAGGTGAACCTGCGGAAGGATCATTGTTGAGATCACAT...CCC', IUPACAmbiguousDNA())\n",
      "592\n",
      "=============================\n",
      "------------------\n",
      "Z78475.1\n",
      "Seq('CGTAACAAGGTTTCCGTAGGTGAACCTGCGGAAGGATCATTGTTGAGATCACAT...GGT', IUPACAmbiguousDNA())\n",
      "716\n",
      "=============================\n",
      "------------------\n",
      "Z78474.1\n",
      "Seq('CGTAACAAGGTTTCCGTAGGTGAACCTGCGGAAGGATCATTGTTGAGATCACGT...CTT', IUPACAmbiguousDNA())\n",
      "733\n",
      "=============================\n",
      "------------------\n",
      "Z78473.1\n",
      "Seq('CGTAACAAGGTTTCCGTAGGTGAACCTGCGGAAGGATCATTGTTGAGATCACAT...AGG', IUPACAmbiguousDNA())\n",
      "626\n",
      "=============================\n",
      "------------------\n",
      "Z78472.1\n",
      "Seq('CGTAACAAGGTTTCCGTAGGTGAACCTGCGGAAGGATCATTGTTGAGATCACAT...AGC', IUPACAmbiguousDNA())\n",
      "737\n",
      "=============================\n",
      "------------------\n",
      "Z78471.1\n",
      "Seq('CGTAACAAGGTTTCCGTAGGTGAACCTGCGGAAGGATCATTGTTGAGATCACAT...AGC', IUPACAmbiguousDNA())\n",
      "740\n",
      "=============================\n",
      "------------------\n",
      "Z78470.1\n",
      "Seq('CGTAACAAGGTTTCCGTAGGTGAACCTGCGGAAGGATCATTGTTGAGATCACAT...GTT', IUPACAmbiguousDNA())\n",
      "574\n",
      "=============================\n",
      "------------------\n",
      "Z78469.1\n",
      "Seq('CGTAACAAGGTTTCCGTAGGTGAACCTGCGGAAGGATCATTGTTGAGATCACAT...GTT', IUPACAmbiguousDNA())\n",
      "594\n",
      "=============================\n",
      "------------------\n",
      "Z78468.1\n",
      "Seq('CGTAACAAGGTTTCCGTAGGTGAACCTGCGGAAGGATCATTGTTGAGATCGCAT...GTT', IUPACAmbiguousDNA())\n",
      "610\n",
      "=============================\n",
      "------------------\n",
      "Z78467.1\n",
      "Seq('CGTAACAAGGTTTCCGTAGGTGAACCTGCGGAAGGATCATTGTTGAGATCACAT...TGA', IUPACAmbiguousDNA())\n",
      "730\n",
      "=============================\n",
      "------------------\n",
      "Z78466.1\n",
      "Seq('CGTAACAAGGTTTCCGTAGGTGAACCTGCGGAAGGATCATTGTTGAGATCACAT...CCC', IUPACAmbiguousDNA())\n",
      "641\n",
      "=============================\n",
      "------------------\n",
      "Z78465.1\n",
      "Seq('CGTAACAAGGTTTCCGTAGGTGAACCTGCGGAAGGATCATTGTTGAGATCACAT...TGC', IUPACAmbiguousDNA())\n",
      "702\n",
      "=============================\n",
      "------------------\n",
      "Z78464.1\n",
      "Seq('CGTAACAAGGTTTCCGTAGGTGAGCGGAAGGGTCATTGTTGAGATCACATAATA...AGC', IUPACAmbiguousDNA())\n",
      "733\n",
      "=============================\n",
      "------------------\n",
      "Z78463.1\n",
      "Seq('CGTAACAAGGTTTCCGTAGGTGAACCTGCGGAAGGTTCATTGTTGAGATCACAT...AGC', IUPACAmbiguousDNA())\n",
      "738\n",
      "=============================\n",
      "------------------\n",
      "Z78462.1\n",
      "Seq('CGTCACGAGGTCTCCGGATGTGACCCTGCGGAAGGATCATTGTTGAGATCACAT...CAT', IUPACAmbiguousDNA())\n",
      "736\n",
      "=============================\n",
      "------------------\n",
      "Z78461.1\n",
      "Seq('CGTAACAAGGTTTCCGTAGGTGAACCTCCGGAAGGATCATTGTTGAGATCACAT...TAA', IUPACAmbiguousDNA())\n",
      "732\n",
      "=============================\n",
      "------------------\n",
      "Z78460.1\n",
      "Seq('CGTAACAAGGTTTCCGTAGGTGAACCTCCGGAAGGATCATTGTTGAGATCACAT...TTA', IUPACAmbiguousDNA())\n",
      "745\n",
      "=============================\n",
      "------------------\n",
      "Z78459.1\n",
      "Seq('CGTAACAAGGTTTCCGTAGGTGAACCTGCGGAAGGATCATTGTTGAGATCACAT...TTT', IUPACAmbiguousDNA())\n",
      "744\n",
      "=============================\n",
      "------------------\n",
      "Z78458.1\n",
      "Seq('CGTAACAAGGTTTCCGTAGGTGAACCTGCGGAAGGATCATTGTTGAGATCACAT...TTG', IUPACAmbiguousDNA())\n",
      "738\n",
      "=============================\n",
      "------------------\n",
      "Z78457.1\n",
      "Seq('CGTAACAAGGTTTCCGTAGGTGAACCTCCGGAAGGATCATTGTTGAGATCACAT...GAG', IUPACAmbiguousDNA())\n",
      "739\n",
      "=============================\n",
      "------------------\n",
      "Z78456.1\n",
      "Seq('CGTAACAAGGTTTCCGTAGGTGAACCTGCGGAAGGATCATTGTTGAGATCACAT...AGC', IUPACAmbiguousDNA())\n",
      "740\n",
      "=============================\n",
      "------------------\n",
      "Z78455.1\n",
      "Seq('CGTAACCAGGTTTCCGTAGGTGGACCTTCGGGAGGATCATTTTTGAGATCACAT...GCA', IUPACAmbiguousDNA())\n",
      "745\n",
      "=============================\n",
      "------------------\n",
      "Z78454.1\n",
      "Seq('CGTAACAAGGTTTCCGTAGGTGAACCTGCGGAAGGATCATTGTTGAGATCACAT...AAC', IUPACAmbiguousDNA())\n",
      "695\n",
      "=============================\n",
      "------------------\n",
      "Z78453.1\n",
      "Seq('CGTAACAAGGTTTCCGTAGGTGAACCTGCGGAAGGATCATTGTTGAGATCACAT...GCA', IUPACAmbiguousDNA())\n",
      "745\n",
      "=============================\n",
      "------------------\n",
      "Z78452.1\n",
      "Seq('CGTAACAAGGTTTCCGTAGGTGAACCTGCGGAAGGATCATTGTTGAGATCACAT...GCA', IUPACAmbiguousDNA())\n",
      "743\n",
      "=============================\n",
      "------------------\n",
      "Z78451.1\n",
      "Seq('CGTAACAAGGTTTCCGTAGGTGTACCTCCGGAAGGATCATTGTTGAGATCACAT...AGC', IUPACAmbiguousDNA())\n",
      "730\n",
      "=============================\n",
      "------------------\n",
      "Z78450.1\n",
      "Seq('GGAAGGATCATTGCTGATATCACATAATAATTGATCGAGTTAAGCTGGAGGATC...GAG', IUPACAmbiguousDNA())\n",
      "706\n",
      "=============================\n",
      "------------------\n",
      "Z78449.1\n",
      "Seq('CGTAACAAGGTTTCCGTAGGTGAACCTGCGGAAGGATCATTGTTGAGATCACAT...TGC', IUPACAmbiguousDNA())\n",
      "744\n",
      "=============================\n",
      "------------------\n",
      "Z78448.1\n",
      "Seq('CGTAACAAGGTTTCCGTAGGTGAACCTGCGGAAGGATCATTGTTGAGATCACAT...AGG', IUPACAmbiguousDNA())\n",
      "742\n",
      "=============================\n",
      "------------------\n",
      "Z78447.1\n",
      "Seq('CGTAACAAGGATTCCGTAGGTGAACCTGCGGGAGGATCATTGTTGAGATCACAT...AGC', IUPACAmbiguousDNA())\n",
      "694\n",
      "=============================\n",
      "------------------\n",
      "Z78446.1\n",
      "Seq('CGTAACAAGGTTTCCGTAGGTGAACCTCCGGAAGGATCATTGTTGAGATCACAT...CCC', IUPACAmbiguousDNA())\n",
      "712\n",
      "=============================\n",
      "------------------\n",
      "Z78445.1\n",
      "Seq('CGTAACAAGGTTTCCGTAGGTGAACCTGCGGAAGGATCATTGTTGAGATCACAT...TGT', IUPACAmbiguousDNA())\n",
      "715\n",
      "=============================\n",
      "------------------\n",
      "Z78444.1\n",
      "Seq('CGTAACAAGGTTTCCGTAGGGTGAACTGCGGAAGGATCATTGTTGAGATCACAT...ATT', IUPACAmbiguousDNA())\n",
      "688\n",
      "=============================\n",
      "------------------\n",
      "Z78443.1\n",
      "Seq('CGTAACAAGGTTTCCGTAGGTGAACCTGCGGAAGGATCATTGTTGAGATCACAT...AGG', IUPACAmbiguousDNA())\n",
      "784\n",
      "=============================\n",
      "------------------\n",
      "Z78442.1\n",
      "Seq('GTAGGTGAACCTGCGGAAGGATCATTGTTGAGATCACATAATAATTGATCGAGT...AGT', IUPACAmbiguousDNA())\n",
      "721\n",
      "=============================\n",
      "------------------\n",
      "Z78441.1\n",
      "Seq('GGAAGGTCATTGCCGATATCACATAATAATTGATCGAGTTAATCTGGAGGATCT...GAG', IUPACAmbiguousDNA())\n",
      "703\n",
      "=============================\n",
      "------------------\n",
      "Z78440.1\n",
      "Seq('CGTAACAAGGTTTCCGTAGGTGGACCTCCGGGAGGATCATTGTTGAGATCACAT...GCA', IUPACAmbiguousDNA())\n",
      "744\n",
      "=============================\n",
      "------------------\n",
      "Z78439.1\n",
      "Seq('CATTGTTGAGATCACATAATAATTGATCGAGTTAATCTGGAGGATCTGTTTACT...GCC', IUPACAmbiguousDNA())\n",
      "592\n",
      "=============================\n"
     ]
    }
   ],
   "source": [
    "# GenBank file\n",
    "\n",
    "for seq_record in SeqIO.parse(\"/home/octopus/Documents/2scripts/ScientificPython/1_Basics/Lecture5_Bio/data/ls_orchid.gbk\", \n",
    "                              \"genbank\"):\n",
    "#     print(seq_record)\n",
    "    print(\"------------------\")\n",
    "    print(seq_record.id)\n",
    "    print(repr(seq_record.seq))\n",
    "    print(len(seq_record.seq))\n",
    "    print(\"=============================\")"
   ]
  },
  {
   "cell_type": "code",
   "execution_count": 44,
   "metadata": {},
   "outputs": [],
   "source": [
    "record = SeqIO.parse(\"/home/octopus/Documents/2scripts/ScientificPython/1_Basics/Lecture5_Bio/data/ls_orchid.gbk\",\n",
    "                     \"genbank\")"
   ]
  },
  {
   "cell_type": "code",
   "execution_count": 45,
   "metadata": {},
   "outputs": [
    {
     "data": {
      "text/plain": [
       "<generator object InsdcScanner.parse_records at 0x7f6fa86ee4d0>"
      ]
     },
     "execution_count": 45,
     "metadata": {},
     "output_type": "execute_result"
    }
   ],
   "source": [
    "record"
   ]
  },
  {
   "cell_type": "code",
   "execution_count": null,
   "metadata": {},
   "outputs": [],
   "source": []
  },
  {
   "cell_type": "code",
   "execution_count": 46,
   "metadata": {},
   "outputs": [],
   "source": [
    "record_dict = SeqIO.to_dict(record)"
   ]
  },
  {
   "cell_type": "code",
   "execution_count": 47,
   "metadata": {},
   "outputs": [
    {
     "data": {
      "text/plain": [
       "{'Z78533.1': SeqRecord(seq=Seq('CGTAACAAGGTTTCCGTAGGTGAACCTGCGGAAGGATCATTGATGAGACCGTGG...CGC', IUPACAmbiguousDNA()), id='Z78533.1', name='Z78533', description='C.irapeanum 5.8S rRNA gene and ITS1 and ITS2 DNA', dbxrefs=[]),\n",
       " 'Z78532.1': SeqRecord(seq=Seq('CGTAACAAGGTTTCCGTAGGTGAACCTGCGGAAGGATCATTGTTGAGACAACAG...GGC', IUPACAmbiguousDNA()), id='Z78532.1', name='Z78532', description='C.californicum 5.8S rRNA gene and ITS1 and ITS2 DNA', dbxrefs=[]),\n",
       " 'Z78531.1': SeqRecord(seq=Seq('CGTAACAAGGTTTCCGTAGGTGAACCTGCGGAAGGATCATTGTTGAGACAGCAG...TAA', IUPACAmbiguousDNA()), id='Z78531.1', name='Z78531', description='C.fasciculatum 5.8S rRNA gene and ITS1 and ITS2 DNA', dbxrefs=[]),\n",
       " 'Z78530.1': SeqRecord(seq=Seq('CGTAACAAGGTTTCCGTAGGTGAACCTGCGGAAGGATCATTGTTGAAACAACAT...CAT', IUPACAmbiguousDNA()), id='Z78530.1', name='Z78530', description='C.margaritaceum 5.8S rRNA gene and ITS1 and ITS2 DNA', dbxrefs=[]),\n",
       " 'Z78529.1': SeqRecord(seq=Seq('ACGGCGAGCTGCCGAAGGACATTGTTGAGACAGCAGAATATACGATTGAGTGAA...AAA', IUPACAmbiguousDNA()), id='Z78529.1', name='Z78529', description='C.lichiangense 5.8S rRNA gene and ITS1 and ITS2 DNA', dbxrefs=[]),\n",
       " 'Z78527.1': SeqRecord(seq=Seq('CGTAACAAGGTTTCCGTAGGTGAACCTGCGGAAGGATCATTGTTGAGACAGTAG...CCC', IUPACAmbiguousDNA()), id='Z78527.1', name='Z78527', description='C.yatabeanum 5.8S rRNA gene and ITS1 and ITS2 DNA', dbxrefs=[]),\n",
       " 'Z78526.1': SeqRecord(seq=Seq('CGTAACAAGGTTTCCGTAGGTGAACCTGCGGAAGGATCATTGTTGAGACAGTAG...TGT', IUPACAmbiguousDNA()), id='Z78526.1', name='Z78526', description='C.guttatum 5.8S rRNA gene and ITS1 and ITS2 DNA', dbxrefs=[]),\n",
       " 'Z78525.1': SeqRecord(seq=Seq('TGTTGAGATAGCAGAATATACATCGAGTGAATCCGGAGGACCTGTGGTTATTCG...GCA', IUPACAmbiguousDNA()), id='Z78525.1', name='Z78525', description='C.acaule 5.8S rRNA gene and ITS1 and ITS2 DNA', dbxrefs=[]),\n",
       " 'Z78524.1': SeqRecord(seq=Seq('CGTAACAAGGTTTCCGTAGGTGAACCTGCGGAAGGATCATTGTTGAGATAGTAG...AGC', IUPACAmbiguousDNA()), id='Z78524.1', name='Z78524', description='C.formosanum 5.8S rRNA gene and ITS1 and ITS2 DNA', dbxrefs=[]),\n",
       " 'Z78523.1': SeqRecord(seq=Seq('CGTAACCAGGTTTCCGTAGGTGAACCTGCGGCAGGATCATTGTTGAGACAGCAG...AAG', IUPACAmbiguousDNA()), id='Z78523.1', name='Z78523', description='C.himalaicum 5.8S rRNA gene and ITS1 and ITS2 DNA', dbxrefs=[]),\n",
       " 'Z78522.1': SeqRecord(seq=Seq('CGTAACAAGGTTTCCGTAGGTGAACCTGCGGAAGGATCATTGTTGAGACAGCAG...GAG', IUPACAmbiguousDNA()), id='Z78522.1', name='Z78522', description='C.macranthum 5.8S rRNA gene and ITS1 and ITS2 DNA', dbxrefs=[]),\n",
       " 'Z78521.1': SeqRecord(seq=Seq('GTAGGTGAACCTGCGGAAGGATCATTGTTGAGACAGTAGAATATATGATCGAGT...ACC', IUPACAmbiguousDNA()), id='Z78521.1', name='Z78521', description='C.calceolus 5.8S rRNA gene and ITS1 and ITS2 DNA', dbxrefs=[]),\n",
       " 'Z78520.1': SeqRecord(seq=Seq('CGTAACAAGGTTTCCGTAGGTGAACCTGCGGAAGGATCATTGTTGAGACAGCAG...TTT', IUPACAmbiguousDNA()), id='Z78520.1', name='Z78520', description='C.segawai 5.8S rRNA gene and ITS1 and ITS2 DNA', dbxrefs=[]),\n",
       " 'Z78519.1': SeqRecord(seq=Seq('ATATGATCGAGTGAATCTGGTGGACTTGTGGTTACTCAGCTCGCCATAGGCTTT...TTA', IUPACAmbiguousDNA()), id='Z78519.1', name='Z78519', description='C.pubescens 5.8S rRNA gene and ITS1 and ITS2 DNA', dbxrefs=[]),\n",
       " 'Z78518.1': SeqRecord(seq=Seq('CGTAACAAGGTTTCCGTAGGTGAACCTGCGGGAGGATCATTGTTGAGATAGTAG...TCC', IUPACAmbiguousDNA()), id='Z78518.1', name='Z78518', description='C.reginae 5.8S rRNA gene and ITS1 and ITS2 DNA', dbxrefs=[]),\n",
       " 'Z78517.1': SeqRecord(seq=Seq('CGTAACAAGGTTTCCGTAGGTGAACCTGCGGAAGGATCATTGTTGAGACAGTAG...AGC', IUPACAmbiguousDNA()), id='Z78517.1', name='Z78517', description='C.flavum 5.8S rRNA gene and ITS1 and ITS2 DNA', dbxrefs=[]),\n",
       " 'Z78516.1': SeqRecord(seq=Seq('CGTAACAAGGTTTCCGTAGGTGAACCTGCGGAAGGATCATTGTTGAGACAGTAT...TAA', IUPACAmbiguousDNA()), id='Z78516.1', name='Z78516', description='C.passerinum 5.8S rRNA gene and ITS1 and ITS2 DNA', dbxrefs=[]),\n",
       " 'Z78515.1': SeqRecord(seq=Seq('CGTAACAAGGTTTCCGTAGGTGAACCTGCGGAAGGATCATTGCTGAGACCGTAG...AGC', IUPACAmbiguousDNA()), id='Z78515.1', name='Z78515', description='M.xerophyticum 5.8S rRNA gene and ITS1 and ITS2 DNA', dbxrefs=[]),\n",
       " 'Z78514.1': SeqRecord(seq=Seq('CGTAACAAGGTTTCCGTAGGTGGACCTTCGGGAGGATCATTTTTGAAGCCCCCA...CTA', IUPACAmbiguousDNA()), id='Z78514.1', name='Z78514', description='P.schlimii 5.8S rRNA gene and ITS1 and ITS2 DNA', dbxrefs=[]),\n",
       " 'Z78513.1': SeqRecord(seq=Seq('CGTAACAAGGTTTCCGTAGGTGAACCTGCGGAAGGATCATTGTTGAGACCGCCA...GAG', IUPACAmbiguousDNA()), id='Z78513.1', name='Z78513', description='P.besseae 5.8S rRNA gene and ITS1 and ITS2 DNA', dbxrefs=[]),\n",
       " 'Z78512.1': SeqRecord(seq=Seq('CGTAACAAGGTTTCCGTAGGTGGACCTTCGGGAGGATCATTTTTGAAGCCCCCA...AGC', IUPACAmbiguousDNA()), id='Z78512.1', name='Z78512', description='P.wallisii 5.8S rRNA gene and ITS1 and ITS2 DNA', dbxrefs=[]),\n",
       " 'Z78511.1': SeqRecord(seq=Seq('CGTAACAAGGTTTCCGTAGGTGAACCTTCGGAAGGATCATTGTTGAGACCCCCA...GGA', IUPACAmbiguousDNA()), id='Z78511.1', name='Z78511', description='P.exstaminodium 5.8S rRNA gene and ITS1 and ITS2 DNA', dbxrefs=[]),\n",
       " 'Z78510.1': SeqRecord(seq=Seq('CTAACCAGGGTTCCGAGGTGACCTTCGGGAGGATTCCTTTTTAAGCCCCCGAAA...TTA', IUPACAmbiguousDNA()), id='Z78510.1', name='Z78510', description='P.caricinum 5.8S rRNA gene and ITS1 and ITS2 DNA', dbxrefs=[]),\n",
       " 'Z78509.1': SeqRecord(seq=Seq('CGTAACAAGGTTTCCGTAGGTGAACCTGCGGAAGGATCATTGTTGAGACCGCCA...GGA', IUPACAmbiguousDNA()), id='Z78509.1', name='Z78509', description='P.pearcei 5.8S rRNA gene and ITS1 and ITS2 DNA', dbxrefs=[]),\n",
       " 'Z78508.1': SeqRecord(seq=Seq('CGTAACAAGGTTTCCGTAGGTGAACCTGCGGAAGGATCATTGTTGAGACCGCCA...TGA', IUPACAmbiguousDNA()), id='Z78508.1', name='Z78508', description='P.longifolium 5.8S rRNA gene and ITS1 and ITS2 DNA', dbxrefs=[]),\n",
       " 'Z78507.1': SeqRecord(seq=Seq('CGTAACAAGGTTTCCGTAGGTGAACCTGCGGAAGGATCATTGTTGAGACCCCCA...TGA', IUPACAmbiguousDNA()), id='Z78507.1', name='Z78507', description='P.lindenii 5.8S rRNA gene and ITS1 and ITS2 DNA', dbxrefs=[]),\n",
       " 'Z78506.1': SeqRecord(seq=Seq('CGTAACAAGGTTTCCGTAGGTGAACCTGCGGAAGGATCATTGTTGAGACCGCAA...TGA', IUPACAmbiguousDNA()), id='Z78506.1', name='Z78506', description='P.lindleyanum 5.8S rRNA gene and ITS1 and ITS2 DNA', dbxrefs=[]),\n",
       " 'Z78505.1': SeqRecord(seq=Seq('CGTAACAAGGTTTCCGTAGGTGAACCTGCGGAAGGATCATTGTTGAGACCGCCA...TTT', IUPACAmbiguousDNA()), id='Z78505.1', name='Z78505', description='P.sargentianum 5.8S rRNA gene and ITS1 and ITS2 DNA', dbxrefs=[]),\n",
       " 'Z78504.1': SeqRecord(seq=Seq('CGTAACAAGGTTTCCGTAGGTGAACCTTCGGAAGGATCATTGTTGAGACCGCAA...TAA', IUPACAmbiguousDNA()), id='Z78504.1', name='Z78504', description='P.kaiteurum 5.8S rRNA gene and ITS1 and ITS2 DNA', dbxrefs=[]),\n",
       " 'Z78503.1': SeqRecord(seq=Seq('CGTAACCAGGTTTCCGTAGGTGAACCTCCGGAAGGATCCTTGTTGAGACCGCCA...TAA', IUPACAmbiguousDNA()), id='Z78503.1', name='Z78503', description='P.czerwiakowianum 5.8S rRNA gene and ITS1 and ITS2 DNA', dbxrefs=[]),\n",
       " 'Z78502.1': SeqRecord(seq=Seq('CGTAACCAGGTTTCCGTAGGTGAACCTCCGGAAGGATCATTGTTGAGACCGCCA...CGC', IUPACAmbiguousDNA()), id='Z78502.1', name='Z78502', description='P.boissierianum 5.8S rRNA gene and ITS1 and ITS2 DNA', dbxrefs=[]),\n",
       " 'Z78501.1': SeqRecord(seq=Seq('CGTAACAAGGTTTCCGTAGGTGAACCTGCGGAAGGATCATTGTTGAGACCGCAA...AGA', IUPACAmbiguousDNA()), id='Z78501.1', name='Z78501', description='P.caudatum 5.8S rRNA gene and ITS1 and ITS2 DNA', dbxrefs=[]),\n",
       " 'Z78500.1': SeqRecord(seq=Seq('CGTAACAAGGTTTCCGTAGGTGAACCTGCGGAAGGCTCATTGTTGAGACCGCAA...AAG', IUPACAmbiguousDNA()), id='Z78500.1', name='Z78500', description='P.warszewiczianum 5.8S rRNA gene and ITS1 and ITS2 DNA', dbxrefs=[]),\n",
       " 'Z78499.1': SeqRecord(seq=Seq('CGTAACAAGGTTTCCGTAGGTGAACCTGCGGAGGGATCATTGTTGAGATCGCAT...ACC', IUPACAmbiguousDNA()), id='Z78499.1', name='Z78499', description='P.micranthum 5.8S rRNA gene and ITS1 and ITS2 DNA', dbxrefs=[]),\n",
       " 'Z78498.1': SeqRecord(seq=Seq('CGTAACAAGGTTTCCGTAGGTGAACCTGCGGAAAGGTCATTGTTGAGATCACAT...AGC', IUPACAmbiguousDNA()), id='Z78498.1', name='Z78498', description='P.malipoense 5.8S rRNA gene and ITS1 and ITS2 DNA', dbxrefs=[]),\n",
       " 'Z78497.1': SeqRecord(seq=Seq('CGTAACAAGGTTTCCGTAGGTGAACCTGCGGAAGGATCATTGTTGAGATCACAT...AGC', IUPACAmbiguousDNA()), id='Z78497.1', name='Z78497', description='P.delenatii 5.8S rRNA gene and ITS1 and ITS2 DNA', dbxrefs=[]),\n",
       " 'Z78496.1': SeqRecord(seq=Seq('CGTAACAAGGTTTCCGTAGGTGAACCTGCGGAAGGATCATTGTTGAGATCGCAT...AGC', IUPACAmbiguousDNA()), id='Z78496.1', name='Z78496', description='P.armeniacum 5.8S rRNA gene and ITS1 and ITS2 DNA', dbxrefs=[]),\n",
       " 'Z78495.1': SeqRecord(seq=Seq('CGTAACAAGGTTTCCGTAGGTGAACCTCCGGAAGGATCATTGTTGAGATCACAT...GTG', IUPACAmbiguousDNA()), id='Z78495.1', name='Z78495', description='P.emersonii 5.8S rRNA gene and ITS1 and ITS2 DNA', dbxrefs=[]),\n",
       " 'Z78494.1': SeqRecord(seq=Seq('CGTAACAAGGTTTCCGTAGGTGAACCTGCGGAAGGATCATTGTTGAGGTCGCAT...AAG', IUPACAmbiguousDNA()), id='Z78494.1', name='Z78494', description='P.niveum 5.8S rRNA gene and ITS1 and ITS2 DNA', dbxrefs=[]),\n",
       " 'Z78493.1': SeqRecord(seq=Seq('CGTAACAAGGATTCCGTAGGTGAACCTGCGGAAGGATCATTGTTGAGATCGCAT...CCC', IUPACAmbiguousDNA()), id='Z78493.1', name='Z78493', description='P.godefroyae 5.8S rRNA gene and ITS1 and ITS2 DNA', dbxrefs=[]),\n",
       " 'Z78492.1': SeqRecord(seq=Seq('CGTAACAAGGTTTCCGTAGGTGAACCTGCGGAAGGATCATTGTTGAGATCGCAT...ATA', IUPACAmbiguousDNA()), id='Z78492.1', name='Z78492', description='P.bellatulum 5.8S rRNA gene and ITS1 and ITS2 DNA', dbxrefs=[]),\n",
       " 'Z78491.1': SeqRecord(seq=Seq('CGTAACAAGGTTTCCGTAGGTGAACCTGCGGAAGGATCATTGTTGAGATCGCAT...AGC', IUPACAmbiguousDNA()), id='Z78491.1', name='Z78491', description='P.concolor 5.8S rRNA gene and ITS1 and ITS2 DNA', dbxrefs=[]),\n",
       " 'Z78490.1': SeqRecord(seq=Seq('CGTAACAAGGTTTCCGTAGGTGAACCTGCGGAAGGATCATTGTTGAGATCACAT...TGA', IUPACAmbiguousDNA()), id='Z78490.1', name='Z78490', description='P.fairrieanum 5.8S rRNA gene and ITS1 and ITS2 DNA', dbxrefs=[]),\n",
       " 'Z78489.1': SeqRecord(seq=Seq('CGTAACAAGGTTTCCGTAGGTGAACCTGCGGAAGGATCATTGTTGAGATCACAT...GGC', IUPACAmbiguousDNA()), id='Z78489.1', name='Z78489', description='P.druryi 5.8S rRNA gene and ITS1 and ITS2 DNA', dbxrefs=[]),\n",
       " 'Z78488.1': SeqRecord(seq=Seq('CTGTAGGTGAACCTGCGGAAGGATCATTGTTGAGATCACGCAATAATTGATCGA...GCT', IUPACAmbiguousDNA()), id='Z78488.1', name='Z78488', description='P.tigrinum 5.8S rRNA gene and ITS1 and ITS2 DNA', dbxrefs=[]),\n",
       " 'Z78487.1': SeqRecord(seq=Seq('CGTAACAAGGTTTCCGTAGGTGAACCTGCGGAAGGATCATTGTTGAGATCACAT...TAA', IUPACAmbiguousDNA()), id='Z78487.1', name='Z78487', description='P.hirsutissimum 5.8S rRNA gene and ITS1 and ITS2 DNA', dbxrefs=[]),\n",
       " 'Z78486.1': SeqRecord(seq=Seq('CGTCACGAGGTTTCCGTAGGTGAATCTGCGGGAGGATCATTGTTGAGATCACAT...TGA', IUPACAmbiguousDNA()), id='Z78486.1', name='Z78486', description='P.barbigerum 5.8S rRNA gene and ITS1 and ITS2 DNA', dbxrefs=[]),\n",
       " 'Z78485.1': SeqRecord(seq=Seq('CTGAACCTGGTGTCCGAAGGTGAATCTGCGGATGGATCATTGTTGAGATATCAT...GTA', IUPACAmbiguousDNA()), id='Z78485.1', name='Z78485', description='P.henryanum 5.8S rRNA gene and ITS1 and ITS2 DNA', dbxrefs=[]),\n",
       " 'Z78484.1': SeqRecord(seq=Seq('CGTAACAAGGTTTCCGTAGGTGAACCTGGGGAAGGATCATTGTTGAGATCACAT...TTT', IUPACAmbiguousDNA()), id='Z78484.1', name='Z78484', description='P.charlesworthii 5.8S rRNA gene and ITS1 and ITS2 DNA', dbxrefs=[]),\n",
       " 'Z78483.1': SeqRecord(seq=Seq('CGTAACAAGGTTTCCGTAGGTGAACCTGCGGAAGGATCATTGTTGAGATCACAT...GCA', IUPACAmbiguousDNA()), id='Z78483.1', name='Z78483', description='P.villosum 5.8S rRNA gene and ITS1 and ITS2 DNA', dbxrefs=[]),\n",
       " 'Z78482.1': SeqRecord(seq=Seq('TCTACTGCAGTGACCGAGATTTGCCATCGAGCCTCCTGGGAGCTTTCTTGCTGG...GCA', IUPACAmbiguousDNA()), id='Z78482.1', name='Z78482', description='P.exul 5.8S rRNA gene and ITS1 and ITS2 DNA', dbxrefs=[]),\n",
       " 'Z78481.1': SeqRecord(seq=Seq('CGTAACAAGGTTTCCGTAGGTGAACCTGCGGAAGGATCATTGTTGAGATCACAT...TGA', IUPACAmbiguousDNA()), id='Z78481.1', name='Z78481', description='P.insigne 5.8S rRNA gene and ITS1 and ITS2 DNA', dbxrefs=[]),\n",
       " 'Z78480.1': SeqRecord(seq=Seq('CGTAACAAGGTTTCCGTAGGTGAACCTGCGGAAGGATCATTGTTGAGATCACAT...TGA', IUPACAmbiguousDNA()), id='Z78480.1', name='Z78480', description='P.gratrixianum 5.8S rRNA gene and ITS1 and ITS2 DNA', dbxrefs=[]),\n",
       " 'Z78479.1': SeqRecord(seq=Seq('CGTAACAAGGTTTCCGTAGGTGAACCTGCGGAAGGATCATTGTTGAGATCACAT...AGT', IUPACAmbiguousDNA()), id='Z78479.1', name='Z78479', description='P.primulinum 5.8S rRNA gene and ITS1 and ITS2 DNA', dbxrefs=[]),\n",
       " 'Z78478.1': SeqRecord(seq=Seq('CGTAACAAGGTTTCCGTAGGTGAACCTCCGGAAGGATCAGTGTTGAGATCACAT...GGC', IUPACAmbiguousDNA()), id='Z78478.1', name='Z78478', description='P.victoria 5.8S rRNA gene and ITS1 and ITS2 DNA', dbxrefs=[]),\n",
       " 'Z78477.1': SeqRecord(seq=Seq('CGTAACAAGGTTTCCGTAGGTGAACCTGCGGAAGGATCATTGTTGAGATCACAT...TGC', IUPACAmbiguousDNA()), id='Z78477.1', name='Z78477', description='P.victoria 5.8S rRNA gene and ITS1 and ITS2 DNA', dbxrefs=[]),\n",
       " 'Z78476.1': SeqRecord(seq=Seq('CGTAACAAGGTTTCCGTAGGTGAACCTGCGGAAGGATCATTGTTGAGATCACAT...CCC', IUPACAmbiguousDNA()), id='Z78476.1', name='Z78476', description='P.glaucophyllum 5.8S rRNA gene and ITS1 and ITS2 DNA', dbxrefs=[]),\n",
       " 'Z78475.1': SeqRecord(seq=Seq('CGTAACAAGGTTTCCGTAGGTGAACCTGCGGAAGGATCATTGTTGAGATCACAT...GGT', IUPACAmbiguousDNA()), id='Z78475.1', name='Z78475', description='P.supardii 5.8S rRNA gene and ITS1 and ITS2 DNA', dbxrefs=[]),\n",
       " 'Z78474.1': SeqRecord(seq=Seq('CGTAACAAGGTTTCCGTAGGTGAACCTGCGGAAGGATCATTGTTGAGATCACGT...CTT', IUPACAmbiguousDNA()), id='Z78474.1', name='Z78474', description='P.kolopakingii 5.8S rRNA gene and ITS1 and ITS2 DNA', dbxrefs=[]),\n",
       " 'Z78473.1': SeqRecord(seq=Seq('CGTAACAAGGTTTCCGTAGGTGAACCTGCGGAAGGATCATTGTTGAGATCACAT...AGG', IUPACAmbiguousDNA()), id='Z78473.1', name='Z78473', description='P.sanderianum 5.8S rRNA gene and ITS1 and ITS2 DNA', dbxrefs=[]),\n",
       " 'Z78472.1': SeqRecord(seq=Seq('CGTAACAAGGTTTCCGTAGGTGAACCTGCGGAAGGATCATTGTTGAGATCACAT...AGC', IUPACAmbiguousDNA()), id='Z78472.1', name='Z78472', description='P.lowii 5.8S rRNA gene and ITS1 and ITS2 DNA', dbxrefs=[]),\n",
       " 'Z78471.1': SeqRecord(seq=Seq('CGTAACAAGGTTTCCGTAGGTGAACCTGCGGAAGGATCATTGTTGAGATCACAT...AGC', IUPACAmbiguousDNA()), id='Z78471.1', name='Z78471', description='P.dianthum 5.8S rRNA gene and ITS1 and ITS2 DNA', dbxrefs=[]),\n",
       " 'Z78470.1': SeqRecord(seq=Seq('CGTAACAAGGTTTCCGTAGGTGAACCTGCGGAAGGATCATTGTTGAGATCACAT...GTT', IUPACAmbiguousDNA()), id='Z78470.1', name='Z78470', description='P.parishii 5.8S rRNA gene and ITS1 and ITS2 DNA', dbxrefs=[]),\n",
       " 'Z78469.1': SeqRecord(seq=Seq('CGTAACAAGGTTTCCGTAGGTGAACCTGCGGAAGGATCATTGTTGAGATCACAT...GTT', IUPACAmbiguousDNA()), id='Z78469.1', name='Z78469', description='P.haynaldianum 5.8S rRNA gene and ITS1 and ITS2 DNA', dbxrefs=[]),\n",
       " 'Z78468.1': SeqRecord(seq=Seq('CGTAACAAGGTTTCCGTAGGTGAACCTGCGGAAGGATCATTGTTGAGATCGCAT...GTT', IUPACAmbiguousDNA()), id='Z78468.1', name='Z78468', description='P.adductum 5.8S rRNA gene and ITS1 and ITS2 DNA', dbxrefs=[]),\n",
       " 'Z78467.1': SeqRecord(seq=Seq('CGTAACAAGGTTTCCGTAGGTGAACCTGCGGAAGGATCATTGTTGAGATCACAT...TGA', IUPACAmbiguousDNA()), id='Z78467.1', name='Z78467', description='P.stonei 5.8S rRNA gene and ITS1 and ITS2 DNA', dbxrefs=[]),\n",
       " 'Z78466.1': SeqRecord(seq=Seq('CGTAACAAGGTTTCCGTAGGTGAACCTGCGGAAGGATCATTGTTGAGATCACAT...CCC', IUPACAmbiguousDNA()), id='Z78466.1', name='Z78466', description='P.philippinense 5.8S rRNA gene and ITS1 and ITS2 DNA', dbxrefs=[]),\n",
       " 'Z78465.1': SeqRecord(seq=Seq('CGTAACAAGGTTTCCGTAGGTGAACCTGCGGAAGGATCATTGTTGAGATCACAT...TGC', IUPACAmbiguousDNA()), id='Z78465.1', name='Z78465', description='P.rothschildianum 5.8S rRNA gene and ITS1 and ITS2 DNA', dbxrefs=[]),\n",
       " 'Z78464.1': SeqRecord(seq=Seq('CGTAACAAGGTTTCCGTAGGTGAGCGGAAGGGTCATTGTTGAGATCACATAATA...AGC', IUPACAmbiguousDNA()), id='Z78464.1', name='Z78464', description='P.glanduliferum 5.8S rRNA gene and ITS1 and ITS2 DNA', dbxrefs=[]),\n",
       " 'Z78463.1': SeqRecord(seq=Seq('CGTAACAAGGTTTCCGTAGGTGAACCTGCGGAAGGTTCATTGTTGAGATCACAT...AGC', IUPACAmbiguousDNA()), id='Z78463.1', name='Z78463', description='P.glanduliferum 5.8S rRNA gene and ITS1 and ITS2 DNA', dbxrefs=[]),\n",
       " 'Z78462.1': SeqRecord(seq=Seq('CGTCACGAGGTCTCCGGATGTGACCCTGCGGAAGGATCATTGTTGAGATCACAT...CAT', IUPACAmbiguousDNA()), id='Z78462.1', name='Z78462', description='P.sukhakulii 5.8S rRNA gene and ITS1 and ITS2 DNA', dbxrefs=[]),\n",
       " 'Z78461.1': SeqRecord(seq=Seq('CGTAACAAGGTTTCCGTAGGTGAACCTCCGGAAGGATCATTGTTGAGATCACAT...TAA', IUPACAmbiguousDNA()), id='Z78461.1', name='Z78461', description='P.wardii 5.8S rRNA gene and ITS1 and ITS2 DNA', dbxrefs=[]),\n",
       " 'Z78460.1': SeqRecord(seq=Seq('CGTAACAAGGTTTCCGTAGGTGAACCTCCGGAAGGATCATTGTTGAGATCACAT...TTA', IUPACAmbiguousDNA()), id='Z78460.1', name='Z78460', description='P.ciliolare 5.8S rRNA gene and ITS1 and ITS2 DNA', dbxrefs=[]),\n",
       " 'Z78459.1': SeqRecord(seq=Seq('CGTAACAAGGTTTCCGTAGGTGAACCTGCGGAAGGATCATTGTTGAGATCACAT...TTT', IUPACAmbiguousDNA()), id='Z78459.1', name='Z78459', description='P.dayanum 5.8S rRNA gene and ITS1 and ITS2 DNA', dbxrefs=[]),\n",
       " 'Z78458.1': SeqRecord(seq=Seq('CGTAACAAGGTTTCCGTAGGTGAACCTGCGGAAGGATCATTGTTGAGATCACAT...TTG', IUPACAmbiguousDNA()), id='Z78458.1', name='Z78458', description='P.hennisianum 5.8S rRNA gene and ITS1 and ITS2 DNA', dbxrefs=[]),\n",
       " 'Z78457.1': SeqRecord(seq=Seq('CGTAACAAGGTTTCCGTAGGTGAACCTCCGGAAGGATCATTGTTGAGATCACAT...GAG', IUPACAmbiguousDNA()), id='Z78457.1', name='Z78457', description='P.callosum 5.8S rRNA gene and ITS1 and ITS2 DNA', dbxrefs=[]),\n",
       " 'Z78456.1': SeqRecord(seq=Seq('CGTAACAAGGTTTCCGTAGGTGAACCTGCGGAAGGATCATTGTTGAGATCACAT...AGC', IUPACAmbiguousDNA()), id='Z78456.1', name='Z78456', description='P.tonsum 5.8S rRNA gene and ITS1 and ITS2 DNA', dbxrefs=[]),\n",
       " 'Z78455.1': SeqRecord(seq=Seq('CGTAACCAGGTTTCCGTAGGTGGACCTTCGGGAGGATCATTTTTGAGATCACAT...GCA', IUPACAmbiguousDNA()), id='Z78455.1', name='Z78455', description='P.javanicum 5.8S rRNA gene and ITS1 and ITS2 DNA', dbxrefs=[]),\n",
       " 'Z78454.1': SeqRecord(seq=Seq('CGTAACAAGGTTTCCGTAGGTGAACCTGCGGAAGGATCATTGTTGAGATCACAT...AAC', IUPACAmbiguousDNA()), id='Z78454.1', name='Z78454', description='P.fowliei 5.8S rRNA gene and ITS1 and ITS2 DNA', dbxrefs=[]),\n",
       " 'Z78453.1': SeqRecord(seq=Seq('CGTAACAAGGTTTCCGTAGGTGAACCTGCGGAAGGATCATTGTTGAGATCACAT...GCA', IUPACAmbiguousDNA()), id='Z78453.1', name='Z78453', description='P.schoseri 5.8S rRNA gene and ITS1 and ITS2 DNA', dbxrefs=[]),\n",
       " 'Z78452.1': SeqRecord(seq=Seq('CGTAACAAGGTTTCCGTAGGTGAACCTGCGGAAGGATCATTGTTGAGATCACAT...GCA', IUPACAmbiguousDNA()), id='Z78452.1', name='Z78452', description='P.bougainvilleanum 5.8S rRNA gene and ITS1 and ITS2 DNA', dbxrefs=[]),\n",
       " 'Z78451.1': SeqRecord(seq=Seq('CGTAACAAGGTTTCCGTAGGTGTACCTCCGGAAGGATCATTGTTGAGATCACAT...AGC', IUPACAmbiguousDNA()), id='Z78451.1', name='Z78451', description='P.hookerae 5.8S rRNA gene and ITS1 and ITS2 DNA', dbxrefs=[]),\n",
       " 'Z78450.1': SeqRecord(seq=Seq('GGAAGGATCATTGCTGATATCACATAATAATTGATCGAGTTAAGCTGGAGGATC...GAG', IUPACAmbiguousDNA()), id='Z78450.1', name='Z78450', description='P.papuanum 5.8S rRNA gene and ITS1 and ITS2 DNA', dbxrefs=[]),\n",
       " 'Z78449.1': SeqRecord(seq=Seq('CGTAACAAGGTTTCCGTAGGTGAACCTGCGGAAGGATCATTGTTGAGATCACAT...TGC', IUPACAmbiguousDNA()), id='Z78449.1', name='Z78449', description='P.mastersianum 5.8S rRNA gene and ITS1 and ITS2 DNA', dbxrefs=[]),\n",
       " 'Z78448.1': SeqRecord(seq=Seq('CGTAACAAGGTTTCCGTAGGTGAACCTGCGGAAGGATCATTGTTGAGATCACAT...AGG', IUPACAmbiguousDNA()), id='Z78448.1', name='Z78448', description='P.argus 5.8S rRNA gene and ITS1 and ITS2 DNA', dbxrefs=[]),\n",
       " 'Z78447.1': SeqRecord(seq=Seq('CGTAACAAGGATTCCGTAGGTGAACCTGCGGGAGGATCATTGTTGAGATCACAT...AGC', IUPACAmbiguousDNA()), id='Z78447.1', name='Z78447', description='P.venustum 5.8S rRNA gene and ITS1 and ITS2 DNA', dbxrefs=[]),\n",
       " 'Z78446.1': SeqRecord(seq=Seq('CGTAACAAGGTTTCCGTAGGTGAACCTCCGGAAGGATCATTGTTGAGATCACAT...CCC', IUPACAmbiguousDNA()), id='Z78446.1', name='Z78446', description='P.acmodontum 5.8S rRNA gene and ITS1 and ITS2 DNA', dbxrefs=[]),\n",
       " 'Z78445.1': SeqRecord(seq=Seq('CGTAACAAGGTTTCCGTAGGTGAACCTGCGGAAGGATCATTGTTGAGATCACAT...TGT', IUPACAmbiguousDNA()), id='Z78445.1', name='Z78445', description='P.urbanianum 5.8S rRNA gene and ITS1 and ITS2 DNA', dbxrefs=[]),\n",
       " 'Z78444.1': SeqRecord(seq=Seq('CGTAACAAGGTTTCCGTAGGGTGAACTGCGGAAGGATCATTGTTGAGATCACAT...ATT', IUPACAmbiguousDNA()), id='Z78444.1', name='Z78444', description='P.appletonianum 5.8S rRNA gene and ITS1 and ITS2 DNA', dbxrefs=[]),\n",
       " 'Z78443.1': SeqRecord(seq=Seq('CGTAACAAGGTTTCCGTAGGTGAACCTGCGGAAGGATCATTGTTGAGATCACAT...AGG', IUPACAmbiguousDNA()), id='Z78443.1', name='Z78443', description='P.lawrenceanum 5.8S rRNA gene and ITS1 and ITS2 DNA', dbxrefs=[]),\n",
       " 'Z78442.1': SeqRecord(seq=Seq('GTAGGTGAACCTGCGGAAGGATCATTGTTGAGATCACATAATAATTGATCGAGT...AGT', IUPACAmbiguousDNA()), id='Z78442.1', name='Z78442', description='P.bullenianum 5.8S rRNA gene and ITS1 and ITS2 DNA', dbxrefs=[]),\n",
       " 'Z78441.1': SeqRecord(seq=Seq('GGAAGGTCATTGCCGATATCACATAATAATTGATCGAGTTAATCTGGAGGATCT...GAG', IUPACAmbiguousDNA()), id='Z78441.1', name='Z78441', description='P.superbiens 5.8S rRNA gene and ITS1 and ITS2 DNA', dbxrefs=[]),\n",
       " 'Z78440.1': SeqRecord(seq=Seq('CGTAACAAGGTTTCCGTAGGTGGACCTCCGGGAGGATCATTGTTGAGATCACAT...GCA', IUPACAmbiguousDNA()), id='Z78440.1', name='Z78440', description='P.purpuratum 5.8S rRNA gene and ITS1 and ITS2 DNA', dbxrefs=[]),\n",
       " 'Z78439.1': SeqRecord(seq=Seq('CATTGTTGAGATCACATAATAATTGATCGAGTTAATCTGGAGGATCTGTTTACT...GCC', IUPACAmbiguousDNA()), id='Z78439.1', name='Z78439', description='P.barbatum 5.8S rRNA gene and ITS1 and ITS2 DNA', dbxrefs=[])}"
      ]
     },
     "execution_count": 47,
     "metadata": {},
     "output_type": "execute_result"
    }
   ],
   "source": [
    "record_dict"
   ]
  },
  {
   "cell_type": "code",
   "execution_count": 48,
   "metadata": {},
   "outputs": [
    {
     "data": {
      "text/plain": [
       "SeqRecord(seq=Seq('CGTAACAAGGTTTCCGTAGGTGAACCTGCGGAAGGATCATTGATGAGACCGTGG...CGC', IUPACAmbiguousDNA()), id='Z78533.1', name='Z78533', description='C.irapeanum 5.8S rRNA gene and ITS1 and ITS2 DNA', dbxrefs=[])"
      ]
     },
     "execution_count": 48,
     "metadata": {},
     "output_type": "execute_result"
    }
   ],
   "source": [
    "record_dict[\"Z78533.1\"]"
   ]
  },
  {
   "cell_type": "code",
   "execution_count": null,
   "metadata": {},
   "outputs": [],
   "source": []
  },
  {
   "cell_type": "code",
   "execution_count": null,
   "metadata": {},
   "outputs": [],
   "source": []
  },
  {
   "cell_type": "code",
   "execution_count": null,
   "metadata": {},
   "outputs": [],
   "source": [
    "# Let's create our own fasta file from scratch:"
   ]
  },
  {
   "cell_type": "code",
   "execution_count": 49,
   "metadata": {},
   "outputs": [],
   "source": [
    "Rec1 = SeqRecord(Seq(\"ACCA\"), id=\"1\", description=\"\")\n",
    "Rec2 = SeqRecord(Seq(\"CDRFAA\"), id=\"2\", description=\"\")\n",
    "Rec3 = SeqRecord(Seq(\"GRKLM\"), id=\"3\", description=\"\")\n",
    "My_records = [Rec1, Rec2, Rec3]\n",
    "handle = open(\"/home/octopus/Documents/2scripts/ScientificPython/1_Basics/Lecture5_Bio/data/MySeqs.fasta\",\"w\")\n",
    "SeqIO.write(My_records, handle, \"fasta\")\n",
    "handle.close()"
   ]
  },
  {
   "cell_type": "code",
   "execution_count": null,
   "metadata": {},
   "outputs": [],
   "source": []
  },
  {
   "cell_type": "code",
   "execution_count": null,
   "metadata": {},
   "outputs": [],
   "source": [
    "# Converting between sequence file formats has never been easier than it's now:\n",
    "# You can do file conversion by combining Bio.SeqIO.parse() and Bio.SeqIO.write()"
   ]
  },
  {
   "cell_type": "code",
   "execution_count": 50,
   "metadata": {},
   "outputs": [],
   "source": [
    "In_handle = open(\"/home/octopus/Documents/2scripts/ScientificPython/1_Basics/Lecture5_Bio/data/ls_orchid.gbk\", \"r\")\n",
    "Out_handle = open(\"/home/octopus/Documents/2scripts/ScientificPython/1_Basics/Lecture5_Bio/data/manuallyCreated_ls_orchid.fasta\", \"w\")\n",
    "\n",
    "records = SeqIO.parse(In_handle, \"genbank\")\n",
    "\n",
    "SeqIO.write(records, Out_handle, \"fasta\")\n",
    "\n",
    "In_handle.close()\n",
    "Out_handle.close()"
   ]
  },
  {
   "cell_type": "code",
   "execution_count": null,
   "metadata": {},
   "outputs": [],
   "source": []
  },
  {
   "cell_type": "code",
   "execution_count": null,
   "metadata": {},
   "outputs": [],
   "source": []
  },
  {
   "cell_type": "code",
   "execution_count": 51,
   "metadata": {},
   "outputs": [],
   "source": [
    "from Bio.Align import Applications"
   ]
  },
  {
   "cell_type": "code",
   "execution_count": 53,
   "metadata": {},
   "outputs": [],
   "source": [
    "Applications."
   ]
  },
  {
   "cell_type": "code",
   "execution_count": 54,
   "metadata": {},
   "outputs": [
    {
     "data": {
      "text/plain": [
       "[('ACCGT', 'A-CG-', 3.0, 0, 5), ('ACCGT', 'AC-G-', 3.0, 0, 5)]"
      ]
     },
     "execution_count": 54,
     "metadata": {},
     "output_type": "execute_result"
    }
   ],
   "source": [
    "from Bio import pairwise2\n",
    "# https://biopython.org/docs/1.75/api/Bio.pairwise2.html\n",
    "alignments = pairwise2.align.globalxx(\"ACCGT\", \"ACG\")\n",
    "alignments"
   ]
  },
  {
   "cell_type": "code",
   "execution_count": 55,
   "metadata": {},
   "outputs": [
    {
     "name": "stdout",
     "output_type": "stream",
     "text": [
      "ACCGT\n",
      "| || \n",
      "A-CG-\n",
      "  Score=3\n",
      "\n"
     ]
    }
   ],
   "source": [
    "from Bio.pairwise2 import format_alignment\n",
    "print(format_alignment(*alignments[0]))"
   ]
  },
  {
   "cell_type": "code",
   "execution_count": 56,
   "metadata": {},
   "outputs": [
    {
     "name": "stdout",
     "output_type": "stream",
     "text": [
      "SingleLetterAlphabet() alignment with 7 rows and 906 columns\n",
      "TATACATTAAAGAAGGGGGATGCGGATAAATGGAAAGGCGAAAG...AGA gi|6273285|gb|AF191659.1|AF191\n",
      "TATACATTAAAGAAGGGGGATGCGGATAAATGGAAAGGCGAAAG...AGA gi|6273284|gb|AF191658.1|AF191\n",
      "TATACATTAAAGAAGGGGGATGCGGATAAATGGAAAGGCGAAAG...AGA gi|6273287|gb|AF191661.1|AF191\n",
      "TATACATAAAAGAAGGGGGATGCGGATAAATGGAAAGGCGAAAG...AGA gi|6273286|gb|AF191660.1|AF191\n",
      "TATACATTAAAGGAGGGGGATGCGGATAAATGGAAAGGCGAAAG...AGA gi|6273290|gb|AF191664.1|AF191\n",
      "TATACATTAAAGGAGGGGGATGCGGATAAATGGAAAGGCGAAAG...AGA gi|6273289|gb|AF191663.1|AF191\n",
      "TATACATTAAAGGAGGGGGATGCGGATAAATGGAAAGGCGAAAG...AGA gi|6273291|gb|AF191665.1|AF191\n"
     ]
    }
   ],
   "source": [
    "from Bio import AlignIO\n",
    "\n",
    "align = AlignIO.read(\"/home/octopus/Documents/2scripts/ScientificPython/1_Basics/Lecture5_Bio/data/opuntia.aln\", \"clustal\")\n",
    "print(align)"
   ]
  },
  {
   "cell_type": "code",
   "execution_count": 57,
   "metadata": {},
   "outputs": [
    {
     "name": "stdout",
     "output_type": "stream",
     "text": [
      "                             _______________ gi|6273291|gb|AF191665.1|AF191665\n",
      "  __________________________|\n",
      " |                          |   ______ gi|6273290|gb|AF191664.1|AF191664\n",
      " |                          |__|\n",
      " |                             |_____ gi|6273289|gb|AF191663.1|AF191663\n",
      " |\n",
      "_|_________________ gi|6273287|gb|AF191661.1|AF191661\n",
      " |\n",
      " |__________ gi|6273286|gb|AF191660.1|AF191660\n",
      " |\n",
      " |    __ gi|6273285|gb|AF191659.1|AF191659\n",
      " |___|\n",
      "     | gi|6273284|gb|AF191658.1|AF191658\n",
      "\n"
     ]
    }
   ],
   "source": [
    "from Bio import Phylo\n",
    "\n",
    "tree = Phylo.read(\"/home/octopus/Documents/2scripts/ScientificPython/1_Basics/Lecture5_Bio/data/opuntia.dnd\", \"newick\")\n",
    "Phylo.draw_ascii(tree)"
   ]
  },
  {
   "cell_type": "code",
   "execution_count": null,
   "metadata": {},
   "outputs": [],
   "source": []
  },
  {
   "cell_type": "code",
   "execution_count": null,
   "metadata": {},
   "outputs": [],
   "source": []
  },
  {
   "cell_type": "code",
   "execution_count": 58,
   "metadata": {},
   "outputs": [
    {
     "name": "stdout",
     "output_type": "stream",
     "text": [
      "AGCTAAAAGTGAGA\n",
      "TCGAAATATGGAGA\n",
      "AACTAATATAGGCC\n",
      "AGCTAATATTGGGA\n",
      "\n",
      "\n",
      "consensus: AGCTAATATTGAGA\n",
      "\n",
      "        0      1      2      3      4      5      6      7      8      9     10     11     12     13\n",
      "A:   3.00   1.00   0.00   1.00   4.00   4.00   1.00   4.00   0.00   1.00   0.00   2.00   0.00   3.00\n",
      "C:   0.00   1.00   3.00   0.00   0.00   0.00   0.00   0.00   0.00   0.00   0.00   0.00   1.00   1.00\n",
      "G:   0.00   2.00   1.00   0.00   0.00   0.00   0.00   0.00   1.00   1.00   4.00   2.00   3.00   0.00\n",
      "T:   1.00   0.00   0.00   3.00   0.00   0.00   3.00   0.00   3.00   2.00   0.00   0.00   0.00   0.00\n",
      "\n"
     ]
    }
   ],
   "source": [
    "from Bio import motifs \n",
    "from Bio.Seq import Seq \n",
    "DNA_motif = [ Seq(\"AGCTAAAAGTGAGA\"), \n",
    "              Seq(\"TCGAAATATGGAGA\"), \n",
    "              Seq(\"AACTAATATAGGCC\"),\n",
    "              Seq(\"AGCTAATATTGGGA\")\n",
    "            ] \n",
    "seq = motifs.create(DNA_motif) \n",
    "print(seq)\n",
    "print(\"\\nconsensus: %s\\n\" % (seq.consensus)) \n",
    "print(seq.counts) "
   ]
  },
  {
   "cell_type": "code",
   "execution_count": 59,
   "metadata": {},
   "outputs": [],
   "source": [
    "seq.weblogo(\"seq.png\")"
   ]
  },
  {
   "cell_type": "code",
   "execution_count": 60,
   "metadata": {},
   "outputs": [
    {
     "data": {
      "text/plain": [
       "'/home/octopus/Documents/2scripts/ScientificPython/1_Basics/Lecture5_Bio'"
      ]
     },
     "execution_count": 60,
     "metadata": {},
     "output_type": "execute_result"
    }
   ],
   "source": [
    "pwd()"
   ]
  },
  {
   "cell_type": "code",
   "execution_count": null,
   "metadata": {},
   "outputs": [],
   "source": []
  },
  {
   "cell_type": "code",
   "execution_count": null,
   "metadata": {},
   "outputs": [],
   "source": []
  },
  {
   "cell_type": "code",
   "execution_count": null,
   "metadata": {},
   "outputs": [],
   "source": []
  },
  {
   "cell_type": "code",
   "execution_count": null,
   "metadata": {},
   "outputs": [],
   "source": [
    "# ==================================== BioData and DataBases ================================================"
   ]
  },
  {
   "cell_type": "code",
   "execution_count": 61,
   "metadata": {
    "scrolled": true
   },
   "outputs": [
    {
     "name": "stdout",
     "output_type": "stream",
     "text": [
      "Table 5 Invertebrate Mitochondrial, SGC4\n",
      "\n",
      "  |  U      |  C      |  A      |  G      |\n",
      "--+---------+---------+---------+---------+--\n",
      "U | UUU F   | UCU S   | UAU Y   | UGU C   | U\n",
      "U | UUC F   | UCC S   | UAC Y   | UGC C   | C\n",
      "U | UUA L   | UCA S   | UAA Stop| UGA W   | A\n",
      "U | UUG L(s)| UCG S   | UAG Stop| UGG W   | G\n",
      "--+---------+---------+---------+---------+--\n",
      "C | CUU L   | CCU P   | CAU H   | CGU R   | U\n",
      "C | CUC L   | CCC P   | CAC H   | CGC R   | C\n",
      "C | CUA L   | CCA P   | CAA Q   | CGA R   | A\n",
      "C | CUG L   | CCG P   | CAG Q   | CGG R   | G\n",
      "--+---------+---------+---------+---------+--\n",
      "A | AUU I(s)| ACU T   | AAU N   | AGU S   | U\n",
      "A | AUC I(s)| ACC T   | AAC N   | AGC S   | C\n",
      "A | AUA M(s)| ACA T   | AAA K   | AGA S   | A\n",
      "A | AUG M(s)| ACG T   | AAG K   | AGG S   | G\n",
      "--+---------+---------+---------+---------+--\n",
      "G | GUU V   | GCU A   | GAU D   | GGU G   | U\n",
      "G | GUC V   | GCC A   | GAC D   | GGC G   | C\n",
      "G | GUA V   | GCA A   | GAA E   | GGA G   | A\n",
      "G | GUG V(s)| GCG A   | GAG E   | GGG G   | G\n",
      "--+---------+---------+---------+---------+--\n"
     ]
    }
   ],
   "source": [
    "from Bio.Data import CodonTable\n",
    "\n",
    "print(CodonTable.generic_by_id[5])"
   ]
  },
  {
   "cell_type": "code",
   "execution_count": 62,
   "metadata": {},
   "outputs": [
    {
     "name": "stdout",
     "output_type": "stream",
     "text": [
      "['TAA', 'UAA', 'TAG', 'UAG']\n"
     ]
    }
   ],
   "source": [
    "print(CodonTable.generic_by_id[5].stop_codons)"
   ]
  },
  {
   "cell_type": "code",
   "execution_count": null,
   "metadata": {},
   "outputs": [],
   "source": []
  },
  {
   "cell_type": "code",
   "execution_count": null,
   "metadata": {},
   "outputs": [],
   "source": [
    "# Each amino acid (represented by a single letter) has an individual weight. \n",
    "\n",
    "# Each amino acid bond release a water molecule (with a weight of 18 units).\n",
    "\n",
    "from Bio.Data.IUPACData import protein_weights as protweight\n",
    "\n",
    "protweight.get(\"A\") # Alanine"
   ]
  },
  {
   "cell_type": "code",
   "execution_count": null,
   "metadata": {},
   "outputs": [],
   "source": [
    "protseq = \"MFPTWYV\"\n",
    "\n",
    "totalW = 0\n",
    "for aa in protseq:\n",
    "    totalW += protweight.get(aa)\n",
    "\n",
    "totalW -= 18 * (len(protseq) - 1)\n",
    "\n",
    "print(totalW)"
   ]
  },
  {
   "cell_type": "code",
   "execution_count": null,
   "metadata": {},
   "outputs": [],
   "source": []
  },
  {
   "cell_type": "code",
   "execution_count": 63,
   "metadata": {},
   "outputs": [
    {
     "name": "stdout",
     "output_type": "stream",
     "text": [
      "43.74\n"
     ]
    }
   ],
   "source": [
    "# This function implements the “nearest neighbor method”\n",
    "# and can be use for both DNA and RNA sequences in primer design task:\n",
    "\n",
    "from Bio.SeqUtils import MeltingTemp\n",
    "\n",
    "mt = MeltingTemp.Tm_staluc(\"TCTTGGCGGAGACA\")\n",
    "print(\"%.2f\" % mt)"
   ]
  },
  {
   "cell_type": "code",
   "execution_count": null,
   "metadata": {},
   "outputs": [],
   "source": []
  },
  {
   "cell_type": "code",
   "execution_count": null,
   "metadata": {},
   "outputs": [],
   "source": []
  },
  {
   "cell_type": "code",
   "execution_count": null,
   "metadata": {},
   "outputs": [],
   "source": [
    "'''\n",
    "Entrez is a search engine, \n",
    "it integrates several health sciences databases at NCBI website.\n",
    "'''"
   ]
  },
  {
   "cell_type": "code",
   "execution_count": 65,
   "metadata": {},
   "outputs": [
    {
     "name": "stdout",
     "output_type": "stream",
     "text": [
      "\n",
      "ESearch:\n",
      "<_io.TextIOWrapper encoding='utf-8'>\n",
      "\n",
      "Record:\n",
      "{'Count': '866', 'RetMax': '20', 'RetStart': '0', 'IdList': ['33899904', '33899162', '33862463', '33859194', '33841646', '33840027', '33795019', '33780051', '33775760', '33762950', '33749263', '33728906', '33719217', '33713917', '33708036', '33691120', '33691097', '33679790', '33672256', '33670656'], 'TranslationSet': [{'From': 'itaconate', 'To': '\"itaconic acid\"[Supplementary Concept] OR \"itaconic acid\"[All Fields] OR \"itaconate\"[All Fields]'}], 'TranslationStack': [{'Term': '\"itaconic acid\"[Supplementary Concept]', 'Field': 'Supplementary Concept', 'Count': '353', 'Explode': 'N'}, {'Term': '\"itaconic acid\"[All Fields]', 'Field': 'All Fields', 'Count': '681', 'Explode': 'N'}, 'OR', {'Term': '\"itaconate\"[All Fields]', 'Field': 'All Fields', 'Count': '324', 'Explode': 'N'}, 'OR', 'GROUP'], 'QueryTranslation': '\"itaconic acid\"[Supplementary Concept] OR \"itaconic acid\"[All Fields] OR \"itaconate\"[All Fields]'}\n",
      "\n",
      "Record_IdList:\n",
      "['33899904', '33899162', '33862463', '33859194', '33841646', '33840027', '33795019', '33780051', '33775760', '33762950', '33749263', '33728906', '33719217', '33713917', '33708036', '33691120', '33691097', '33679790', '33672256', '33670656']\n"
     ]
    }
   ],
   "source": [
    "from Bio import Entrez\n",
    "my_em = \"anastasiia.gainullina@gmail.com\"\n",
    "db = \"pubmed\"\n",
    "\n",
    "# Search in the Entrez databases by keyword(s):\n",
    "h_search = Entrez.esearch(db=db, \n",
    "                          email=my_em, \n",
    "                          term=\"itaconate\") # term=\"Homo sapiens AND mRNA AND MapK\"\n",
    "print(\"\\nESearch:\")\n",
    "print(h_search)\n",
    "\n",
    "record = Entrez.read(h_search)\n",
    "print(\"\\nRecord:\")\n",
    "print(record)\n",
    "\n",
    "# Get the list of Ids returned by previous search\n",
    "print(\"\\nRecord_IdList:\")\n",
    "res_ids = record[\"IdList\"]\n",
    "print(res_ids) # https://www.ncbi.nlm.nih.gov/pubmed/32178247"
   ]
  },
  {
   "cell_type": "code",
   "execution_count": 66,
   "metadata": {},
   "outputs": [
    {
     "name": "stdout",
     "output_type": "stream",
     "text": [
      "Matsuda-Heck arylation of itaconates: a versatile approach to heterocycles from a renewable resource.\n",
      "\n",
      "\n",
      "10.1039/d1ob00392e\n",
      "==============================================\n",
      "Optimization, in vitro release and toxicity evaluation of novel pH sensitive itaconic acid-g-poly(acrylamide)/sterculia gum semi-interpenetrating networks.\n",
      "\n",
      "\n",
      "10.1007/s40199-021-00395-8\n",
      "==============================================\n"
     ]
    }
   ],
   "source": [
    "# For each id in the list\n",
    "for r_id in res_ids[0:2]:\n",
    "    \n",
    "    # Get summary information for each id\n",
    "    h_summ = Entrez.esummary(db=db, \n",
    "                             email=my_em,\n",
    "                             id=r_id)\n",
    "    \n",
    "    # Parse the result with Entrez.read()\n",
    "    summ = Entrez.read(h_summ)\n",
    "    # print(summ[0])\n",
    "    # print(\"\\n\")\n",
    "    print(summ[0][\"Title\"])\n",
    "    print(\"\\n\")\n",
    "    print(summ[0][\"DOI\"])\n",
    "    print(\"==============================================\")"
   ]
  },
  {
   "cell_type": "code",
   "execution_count": null,
   "metadata": {},
   "outputs": [],
   "source": []
  },
  {
   "cell_type": "code",
   "execution_count": null,
   "metadata": {},
   "outputs": [],
   "source": []
  },
  {
   "cell_type": "code",
   "execution_count": null,
   "metadata": {},
   "outputs": [],
   "source": [
    "'''\n",
    "PDB files store information regarding three dimensional structures of molecules held at the Protein Data Bank.\n",
    "(crystallography, NMR, EM, ...)\n",
    "\n",
    "To analyze protein structure data, your need to be able to parse the data from PDB files. \n",
    "This is the role of the Bio.PDB module.\n",
    "\n",
    "To effectively use the Bio.PDB module, you have first to understand the PDB file structure.\n",
    "'''"
   ]
  },
  {
   "cell_type": "code",
   "execution_count": 67,
   "metadata": {},
   "outputs": [
    {
     "name": "stdout",
     "output_type": "stream",
     "text": [
      "<Structure id=some_structure_id>\n"
     ]
    },
    {
     "data": {
      "text/plain": [
       "Bio.PDB.Structure.Structure"
      ]
     },
     "execution_count": 67,
     "metadata": {},
     "output_type": "execute_result"
    }
   ],
   "source": [
    "from Bio.PDB.PDBParser import PDBParser\n",
    "\n",
    "pdbfn = \"/home/octopus/Documents/2scripts/ScientificPython/1_Basics/Lecture5_Bio/data/6w4b.pdb\"\n",
    "parser = PDBParser(PERMISSIVE=1)\n",
    "structure = parser.get_structure(id = \"some_structure_id\", file = pdbfn)\n",
    "print(structure)\n",
    "type(structure)"
   ]
  },
  {
   "cell_type": "code",
   "execution_count": null,
   "metadata": {},
   "outputs": [],
   "source": [
    "# help(PDBParser)"
   ]
  },
  {
   "cell_type": "code",
   "execution_count": 68,
   "metadata": {},
   "outputs": [
    {
     "name": "stdout",
     "output_type": "stream",
     "text": [
      "dict_keys(['name', 'head', 'idcode', 'deposition_date', 'release_date', 'structure_method', 'resolution', 'structure_reference', 'journal_reference', 'author', 'compound', 'source', 'has_missing_residues', 'missing_residues', 'keywords', 'journal'])\n"
     ]
    }
   ],
   "source": [
    "print(structure.header.keys())"
   ]
  },
  {
   "cell_type": "code",
   "execution_count": 69,
   "metadata": {},
   "outputs": [
    {
     "name": "stdout",
     "output_type": "stream",
     "text": [
      "2.95\n"
     ]
    }
   ],
   "source": [
    "print(structure.header[\"resolution\"])"
   ]
  },
  {
   "cell_type": "code",
   "execution_count": 70,
   "metadata": {},
   "outputs": [
    {
     "name": "stdout",
     "output_type": "stream",
     "text": [
      "x-ray diffraction\n"
     ]
    }
   ],
   "source": [
    "print(structure.header[\"structure_method\"])"
   ]
  },
  {
   "cell_type": "code",
   "execution_count": 71,
   "metadata": {},
   "outputs": [
    {
     "name": "stdout",
     "output_type": "stream",
     "text": [
      "<Chain id=A>\n",
      "<Chain id=B>\n"
     ]
    }
   ],
   "source": [
    "for i in structure.get_chains():\n",
    "    print(i)"
   ]
  },
  {
   "cell_type": "code",
   "execution_count": 73,
   "metadata": {},
   "outputs": [],
   "source": [
    "model = structure.get_models()\n",
    "# In a structure derived from an X-ray crystallography experiment, \n",
    "# only a single model will be present (with some exceptions). \n",
    "# NMR structures normally contain many different models."
   ]
  },
  {
   "cell_type": "code",
   "execution_count": 74,
   "metadata": {},
   "outputs": [
    {
     "name": "stdout",
     "output_type": "stream",
     "text": [
      "[<Model id=0>]\n"
     ]
    }
   ],
   "source": [
    "models = list(model)\n",
    "print(models)"
   ]
  },
  {
   "cell_type": "code",
   "execution_count": 75,
   "metadata": {},
   "outputs": [
    {
     "data": {
      "text/plain": [
       "[<Chain id=A>, <Chain id=B>]"
      ]
     },
     "execution_count": 75,
     "metadata": {},
     "output_type": "execute_result"
    }
   ],
   "source": [
    "list(models[0].get_chains())"
   ]
  },
  {
   "cell_type": "code",
   "execution_count": 76,
   "metadata": {},
   "outputs": [],
   "source": [
    "chains = list(models[0].get_chains()) "
   ]
  },
  {
   "cell_type": "code",
   "execution_count": 77,
   "metadata": {},
   "outputs": [
    {
     "name": "stdout",
     "output_type": "stream",
     "text": [
      "[<Residue PRO het=  resseq=7 icode= >, <Residue VAL het=  resseq=8 icode= >, <Residue ALA het=  resseq=9 icode= >, <Residue LEU het=  resseq=10 icode= >]\n",
      "109\n"
     ]
    }
   ],
   "source": [
    "residue = list(chains[0].get_residues())\n",
    "print(residue[1:5])\n",
    "print(len(residue))"
   ]
  },
  {
   "cell_type": "code",
   "execution_count": 78,
   "metadata": {},
   "outputs": [
    {
     "data": {
      "text/plain": [
       "[<Atom N>, <Atom CA>, <Atom C>, <Atom O>, <Atom CB>, <Atom OG>]"
      ]
     },
     "execution_count": 78,
     "metadata": {},
     "output_type": "execute_result"
    }
   ],
   "source": [
    "list(residue[0].get_atoms()) "
   ]
  },
  {
   "cell_type": "code",
   "execution_count": 79,
   "metadata": {},
   "outputs": [
    {
     "data": {
      "text/plain": [
       "<Vector 36.76, -1.24, 13.21>"
      ]
     },
     "execution_count": 79,
     "metadata": {},
     "output_type": "execute_result"
    }
   ],
   "source": [
    "atoms = list(residue[0].get_atoms())\n",
    "atoms[0].get_vector() "
   ]
  },
  {
   "cell_type": "code",
   "execution_count": null,
   "metadata": {},
   "outputs": [],
   "source": []
  },
  {
   "cell_type": "code",
   "execution_count": null,
   "metadata": {},
   "outputs": [],
   "source": []
  },
  {
   "cell_type": "code",
   "execution_count": null,
   "metadata": {},
   "outputs": [],
   "source": [
    "'''\n",
    "KEGG is a collection of databases dealing with genomes, \n",
    "biological pathways, diseases, drugs, and chemical substances.\n",
    "'''"
   ]
  },
  {
   "cell_type": "code",
   "execution_count": 80,
   "metadata": {},
   "outputs": [],
   "source": [
    "from Bio.KEGG import REST\n",
    "# This module aims to make the KEGG online REST-style API easier to use.\n",
    "# See: https://www.kegg.jp/kegg/rest/keggapi.html\n",
    "human_pathways = REST.kegg_list(\"pathway\", \"hsa\").read()"
   ]
  },
  {
   "cell_type": "code",
   "execution_count": 84,
   "metadata": {},
   "outputs": [
    {
     "data": {
      "text/plain": [
       "'ath:hsa00010\\tGlycolysis / Gluconeogenesis - Homo sapiens (human)\\npath:hsa00020\\tCitrate cycle (TCA cycle) - Homo sapiens (human)\\npath:hsa00030\\tPentose phosphate pathway - Homo sapiens (human)\\npath:hsa00040\\tPentose and glucuronate interconversions - Homo sapiens (human)\\npath:hsa00051\\tFructose and mannose metabolism - Homo sapiens (human)\\npath:hsa00052\\tGalactose metabolism - Homo sapiens (human)\\npath:hsa00053\\tAscorbate and aldarate metabolism - Homo sapiens (human)\\npath:hsa00061\\tFatty acid biosynt'"
      ]
     },
     "execution_count": 84,
     "metadata": {},
     "output_type": "execute_result"
    }
   ],
   "source": [
    "human_pathways[1:500]"
   ]
  },
  {
   "cell_type": "code",
   "execution_count": 85,
   "metadata": {},
   "outputs": [
    {
     "name": "stdout",
     "output_type": "stream",
     "text": [
      "path:hsa00010\n",
      "Glycolysis / Gluconeogenesis - Homo sapiens (human)\n",
      "path:hsa00020\n",
      "Citrate cycle (TCA cycle) - Homo sapiens (human)\n",
      "path:hsa00030\n",
      "Pentose phosphate pathway - Homo sapiens (human)\n",
      "path:hsa00040\n",
      "Pentose and glucuronate interconversions - Homo sapiens (human)\n",
      "path:hsa00051\n",
      "Fructose and mannose metabolism - Homo sapiens (human)\n",
      "path:hsa00052\n",
      "Galactose metabolism - Homo sapiens (human)\n",
      "path:hsa00053\n",
      "Ascorbate and aldarate metabolism - Homo sapiens (human)\n",
      "path:hsa00061\n",
      "Fatty acid biosynthesis - Homo sapiens (human)\n",
      "path:hsa00062\n",
      "Fatty acid elongation - Homo sapiens (human)\n",
      "path:hsa00071\n",
      "Fatty acid degradation - Homo sapiens (human)\n",
      "path:hsa00072\n",
      "Synthesis and degradation of ketone bodies - Homo sapiens (human)\n",
      "path:hsa00100\n",
      "Steroid biosynthesis - Homo sapiens (human)\n",
      "path:hsa00120\n",
      "Primary bile acid biosynthesis - Homo sapiens (human)\n",
      "path:hsa00130\n",
      "Ubiquinone and other terpenoid-quinone biosynthesis - Homo sapiens (human)\n",
      "path:hsa00140\n",
      "Steroid hormone biosynthesis - Homo sapiens (human)\n",
      "path:hsa00190\n",
      "Oxidative phosphorylation - Homo sapiens (human)\n",
      "path:hsa00220\n",
      "Arginine biosynthesis - Homo sapiens (human)\n",
      "path:hsa00230\n",
      "Purine metabolism - Homo sapiens (human)\n",
      "path:hsa00232\n",
      "Caffeine metabolism - Homo sapiens (human)\n",
      "path:hsa00240\n",
      "Pyrimidine metabolism - Homo sapiens (human)\n",
      "path:hsa00250\n",
      "Alanine, aspartate and glutamate metabolism - Homo sapiens (human)\n",
      "path:hsa00260\n",
      "Glycine, serine and threonine metabolism - Homo sapiens (human)\n",
      "path:hsa00270\n",
      "Cysteine and methionine metabolism - Homo sapiens (human)\n",
      "path:hsa00280\n",
      "Valine, leucine and isoleucine degradation - Homo sapiens (human)\n",
      "path:hsa00290\n",
      "Valine, leucine and isoleucine biosynthesis - Homo sapiens (human)\n",
      "path:hsa00310\n",
      "Lysine degradation - Homo sapiens (human)\n",
      "path:hsa00330\n",
      "Arginine and proline metabolism - Homo sapiens (human)\n",
      "path:hsa00340\n",
      "Histidine metabolism - Homo sapiens (human)\n",
      "path:hsa00350\n",
      "Tyrosine metabolism - Homo sapiens (human)\n",
      "path:hsa00360\n",
      "Phenylalanine metabolism - Homo sapiens (human)\n",
      "path:hsa00380\n",
      "Tryptophan metabolism - Homo sapiens (human)\n",
      "path:hsa00400\n",
      "Phenylalanine, tyrosine and tryptophan biosynthesis - Homo sapiens (human)\n",
      "path:hsa00410\n",
      "beta-Alanine metabolism - Homo sapiens (human)\n",
      "path:hsa00430\n",
      "Taurine and hypotaurine metabolism - Homo sapiens (human)\n",
      "path:hsa00440\n",
      "Phosphonate and phosphinate metabolism - Homo sapiens (human)\n",
      "path:hsa00450\n",
      "Selenocompound metabolism - Homo sapiens (human)\n",
      "path:hsa00471\n",
      "D-Glutamine and D-glutamate metabolism - Homo sapiens (human)\n",
      "path:hsa00472\n",
      "D-Arginine and D-ornithine metabolism - Homo sapiens (human)\n",
      "path:hsa00480\n",
      "Glutathione metabolism - Homo sapiens (human)\n",
      "path:hsa00500\n",
      "Starch and sucrose metabolism - Homo sapiens (human)\n",
      "path:hsa00510\n",
      "N-Glycan biosynthesis - Homo sapiens (human)\n",
      "path:hsa00511\n",
      "Other glycan degradation - Homo sapiens (human)\n",
      "path:hsa00512\n",
      "Mucin type O-glycan biosynthesis - Homo sapiens (human)\n",
      "path:hsa00513\n",
      "Various types of N-glycan biosynthesis - Homo sapiens (human)\n",
      "path:hsa00514\n",
      "Other types of O-glycan biosynthesis - Homo sapiens (human)\n",
      "path:hsa00515\n",
      "Mannose type O-glycan biosynthesis - Homo sapiens (human)\n",
      "path:hsa00520\n",
      "Amino sugar and nucleotide sugar metabolism - Homo sapiens (human)\n",
      "path:hsa00524\n",
      "Neomycin, kanamycin and gentamicin biosynthesis - Homo sapiens (human)\n",
      "path:hsa00531\n",
      "Glycosaminoglycan degradation - Homo sapiens (human)\n",
      "path:hsa00532\n",
      "Glycosaminoglycan biosynthesis - chondroitin sulfate / dermatan sulfate - Homo sapiens (human)\n",
      "path:hsa00533\n",
      "Glycosaminoglycan biosynthesis - keratan sulfate - Homo sapiens (human)\n",
      "path:hsa00534\n",
      "Glycosaminoglycan biosynthesis - heparan sulfate / heparin - Homo sapiens (human)\n",
      "path:hsa00561\n",
      "Glycerolipid metabolism - Homo sapiens (human)\n",
      "path:hsa00562\n",
      "Inositol phosphate metabolism - Homo sapiens (human)\n",
      "path:hsa00563\n",
      "Glycosylphosphatidylinositol (GPI)-anchor biosynthesis - Homo sapiens (human)\n",
      "path:hsa00564\n",
      "Glycerophospholipid metabolism - Homo sapiens (human)\n",
      "path:hsa00565\n",
      "Ether lipid metabolism - Homo sapiens (human)\n",
      "path:hsa00590\n",
      "Arachidonic acid metabolism - Homo sapiens (human)\n",
      "path:hsa00591\n",
      "Linoleic acid metabolism - Homo sapiens (human)\n",
      "path:hsa00592\n",
      "alpha-Linolenic acid metabolism - Homo sapiens (human)\n",
      "path:hsa00600\n",
      "Sphingolipid metabolism - Homo sapiens (human)\n",
      "path:hsa00601\n",
      "Glycosphingolipid biosynthesis - lacto and neolacto series - Homo sapiens (human)\n",
      "path:hsa00603\n",
      "Glycosphingolipid biosynthesis - globo and isoglobo series - Homo sapiens (human)\n",
      "path:hsa00604\n",
      "Glycosphingolipid biosynthesis - ganglio series - Homo sapiens (human)\n",
      "path:hsa00620\n",
      "Pyruvate metabolism - Homo sapiens (human)\n",
      "path:hsa00630\n",
      "Glyoxylate and dicarboxylate metabolism - Homo sapiens (human)\n",
      "path:hsa00640\n",
      "Propanoate metabolism - Homo sapiens (human)\n",
      "path:hsa00650\n",
      "Butanoate metabolism - Homo sapiens (human)\n",
      "path:hsa00670\n",
      "One carbon pool by folate - Homo sapiens (human)\n",
      "path:hsa00730\n",
      "Thiamine metabolism - Homo sapiens (human)\n",
      "path:hsa00740\n",
      "Riboflavin metabolism - Homo sapiens (human)\n",
      "path:hsa00750\n",
      "Vitamin B6 metabolism - Homo sapiens (human)\n",
      "path:hsa00760\n",
      "Nicotinate and nicotinamide metabolism - Homo sapiens (human)\n",
      "path:hsa00770\n",
      "Pantothenate and CoA biosynthesis - Homo sapiens (human)\n",
      "path:hsa00780\n",
      "Biotin metabolism - Homo sapiens (human)\n",
      "path:hsa00785\n",
      "Lipoic acid metabolism - Homo sapiens (human)\n",
      "path:hsa00790\n",
      "Folate biosynthesis - Homo sapiens (human)\n",
      "path:hsa00830\n",
      "Retinol metabolism - Homo sapiens (human)\n",
      "path:hsa00860\n",
      "Porphyrin and chlorophyll metabolism - Homo sapiens (human)\n",
      "path:hsa00900\n",
      "Terpenoid backbone biosynthesis - Homo sapiens (human)\n",
      "path:hsa00910\n",
      "Nitrogen metabolism - Homo sapiens (human)\n",
      "path:hsa00920\n",
      "Sulfur metabolism - Homo sapiens (human)\n",
      "path:hsa00970\n",
      "Aminoacyl-tRNA biosynthesis - Homo sapiens (human)\n",
      "path:hsa00980\n",
      "Metabolism of xenobiotics by cytochrome P450 - Homo sapiens (human)\n",
      "path:hsa00982\n",
      "Drug metabolism - cytochrome P450 - Homo sapiens (human)\n",
      "path:hsa00983\n",
      "Drug metabolism - other enzymes - Homo sapiens (human)\n",
      "path:hsa01040\n",
      "Biosynthesis of unsaturated fatty acids - Homo sapiens (human)\n",
      "path:hsa01100\n",
      "Metabolic pathways - Homo sapiens (human)\n",
      "path:hsa01200\n",
      "Carbon metabolism - Homo sapiens (human)\n",
      "path:hsa01210\n",
      "2-Oxocarboxylic acid metabolism - Homo sapiens (human)\n",
      "path:hsa01212\n",
      "Fatty acid metabolism - Homo sapiens (human)\n",
      "path:hsa01230\n",
      "Biosynthesis of amino acids - Homo sapiens (human)\n",
      "path:hsa01240\n",
      "Biosynthesis of cofactors - Homo sapiens (human)\n",
      "path:hsa01521\n",
      "EGFR tyrosine kinase inhibitor resistance - Homo sapiens (human)\n",
      "path:hsa01522\n",
      "Endocrine resistance - Homo sapiens (human)\n",
      "path:hsa01523\n",
      "Antifolate resistance - Homo sapiens (human)\n",
      "path:hsa01524\n",
      "Platinum drug resistance - Homo sapiens (human)\n",
      "path:hsa02010\n",
      "ABC transporters - Homo sapiens (human)\n",
      "path:hsa03008\n",
      "Ribosome biogenesis in eukaryotes - Homo sapiens (human)\n",
      "path:hsa03010\n",
      "Ribosome - Homo sapiens (human)\n",
      "path:hsa03013\n",
      "RNA transport - Homo sapiens (human)\n",
      "path:hsa03015\n",
      "mRNA surveillance pathway - Homo sapiens (human)\n",
      "path:hsa03018\n",
      "RNA degradation - Homo sapiens (human)\n",
      "path:hsa03020\n",
      "RNA polymerase - Homo sapiens (human)\n",
      "path:hsa03022\n",
      "Basal transcription factors - Homo sapiens (human)\n",
      "path:hsa03030\n",
      "DNA replication - Homo sapiens (human)\n",
      "path:hsa03040\n",
      "Spliceosome - Homo sapiens (human)\n",
      "path:hsa03050\n",
      "Proteasome - Homo sapiens (human)\n",
      "path:hsa03060\n",
      "Protein export - Homo sapiens (human)\n",
      "path:hsa03320\n",
      "PPAR signaling pathway - Homo sapiens (human)\n",
      "path:hsa03410\n",
      "Base excision repair - Homo sapiens (human)\n",
      "path:hsa03420\n",
      "Nucleotide excision repair - Homo sapiens (human)\n",
      "path:hsa03430\n",
      "Mismatch repair - Homo sapiens (human)\n",
      "path:hsa03440\n",
      "Homologous recombination - Homo sapiens (human)\n",
      "path:hsa03450\n",
      "Non-homologous end-joining - Homo sapiens (human)\n",
      "path:hsa03460\n",
      "Fanconi anemia pathway - Homo sapiens (human)\n",
      "path:hsa04010\n",
      "MAPK signaling pathway - Homo sapiens (human)\n",
      "path:hsa04012\n",
      "ErbB signaling pathway - Homo sapiens (human)\n",
      "path:hsa04014\n",
      "Ras signaling pathway - Homo sapiens (human)\n",
      "path:hsa04015\n",
      "Rap1 signaling pathway - Homo sapiens (human)\n",
      "path:hsa04020\n",
      "Calcium signaling pathway - Homo sapiens (human)\n",
      "path:hsa04022\n",
      "cGMP-PKG signaling pathway - Homo sapiens (human)\n",
      "path:hsa04024\n",
      "cAMP signaling pathway - Homo sapiens (human)\n",
      "path:hsa04060\n",
      "Cytokine-cytokine receptor interaction - Homo sapiens (human)\n",
      "path:hsa04061\n",
      "Viral protein interaction with cytokine and cytokine receptor - Homo sapiens (human)\n",
      "path:hsa04062\n",
      "Chemokine signaling pathway - Homo sapiens (human)\n",
      "path:hsa04064\n",
      "NF-kappa B signaling pathway - Homo sapiens (human)\n",
      "path:hsa04066\n",
      "HIF-1 signaling pathway - Homo sapiens (human)\n",
      "path:hsa04068\n",
      "FoxO signaling pathway - Homo sapiens (human)\n",
      "path:hsa04070\n",
      "Phosphatidylinositol signaling system - Homo sapiens (human)\n",
      "path:hsa04071\n",
      "Sphingolipid signaling pathway - Homo sapiens (human)\n",
      "path:hsa04072\n",
      "Phospholipase D signaling pathway - Homo sapiens (human)\n",
      "path:hsa04080\n",
      "Neuroactive ligand-receptor interaction - Homo sapiens (human)\n",
      "path:hsa04110\n",
      "Cell cycle - Homo sapiens (human)\n",
      "path:hsa04114\n",
      "Oocyte meiosis - Homo sapiens (human)\n",
      "path:hsa04115\n",
      "p53 signaling pathway - Homo sapiens (human)\n",
      "path:hsa04120\n",
      "Ubiquitin mediated proteolysis - Homo sapiens (human)\n",
      "path:hsa04122\n",
      "Sulfur relay system - Homo sapiens (human)\n",
      "path:hsa04130\n",
      "SNARE interactions in vesicular transport - Homo sapiens (human)\n",
      "path:hsa04136\n",
      "Autophagy - other - Homo sapiens (human)\n",
      "path:hsa04137\n",
      "Mitophagy - animal - Homo sapiens (human)\n",
      "path:hsa04140\n",
      "Autophagy - animal - Homo sapiens (human)\n",
      "path:hsa04141\n",
      "Protein processing in endoplasmic reticulum - Homo sapiens (human)\n",
      "path:hsa04142\n",
      "Lysosome - Homo sapiens (human)\n",
      "path:hsa04144\n",
      "Endocytosis - Homo sapiens (human)\n",
      "path:hsa04145\n",
      "Phagosome - Homo sapiens (human)\n",
      "path:hsa04146\n",
      "Peroxisome - Homo sapiens (human)\n",
      "path:hsa04150\n",
      "mTOR signaling pathway - Homo sapiens (human)\n",
      "path:hsa04151\n",
      "PI3K-Akt signaling pathway - Homo sapiens (human)\n",
      "path:hsa04152\n",
      "AMPK signaling pathway - Homo sapiens (human)\n",
      "path:hsa04210\n",
      "Apoptosis - Homo sapiens (human)\n",
      "path:hsa04211\n",
      "Longevity regulating pathway - Homo sapiens (human)\n",
      "path:hsa04213\n",
      "Longevity regulating pathway - multiple species - Homo sapiens (human)\n",
      "path:hsa04215\n",
      "Apoptosis - multiple species - Homo sapiens (human)\n",
      "path:hsa04216\n",
      "Ferroptosis - Homo sapiens (human)\n",
      "path:hsa04217\n",
      "Necroptosis - Homo sapiens (human)\n",
      "path:hsa04218\n",
      "Cellular senescence - Homo sapiens (human)\n",
      "path:hsa04260\n",
      "Cardiac muscle contraction - Homo sapiens (human)\n",
      "path:hsa04261\n",
      "Adrenergic signaling in cardiomyocytes - Homo sapiens (human)\n",
      "path:hsa04270\n",
      "Vascular smooth muscle contraction - Homo sapiens (human)\n",
      "path:hsa04310\n",
      "Wnt signaling pathway - Homo sapiens (human)\n",
      "path:hsa04330\n",
      "Notch signaling pathway - Homo sapiens (human)\n",
      "path:hsa04340\n",
      "Hedgehog signaling pathway - Homo sapiens (human)\n",
      "path:hsa04350\n",
      "TGF-beta signaling pathway - Homo sapiens (human)\n",
      "path:hsa04360\n",
      "Axon guidance - Homo sapiens (human)\n",
      "path:hsa04370\n",
      "VEGF signaling pathway - Homo sapiens (human)\n",
      "path:hsa04371\n",
      "Apelin signaling pathway - Homo sapiens (human)\n",
      "path:hsa04380\n",
      "Osteoclast differentiation - Homo sapiens (human)\n",
      "path:hsa04390\n",
      "Hippo signaling pathway - Homo sapiens (human)\n",
      "path:hsa04392\n",
      "Hippo signaling pathway - multiple species - Homo sapiens (human)\n",
      "path:hsa04510\n",
      "Focal adhesion - Homo sapiens (human)\n",
      "path:hsa04512\n",
      "ECM-receptor interaction - Homo sapiens (human)\n",
      "path:hsa04514\n",
      "Cell adhesion molecules - Homo sapiens (human)\n",
      "path:hsa04520\n",
      "Adherens junction - Homo sapiens (human)\n",
      "path:hsa04530\n",
      "Tight junction - Homo sapiens (human)\n",
      "path:hsa04540\n",
      "Gap junction - Homo sapiens (human)\n",
      "path:hsa04550\n",
      "Signaling pathways regulating pluripotency of stem cells - Homo sapiens (human)\n",
      "path:hsa04610\n",
      "Complement and coagulation cascades - Homo sapiens (human)\n",
      "path:hsa04611\n",
      "Platelet activation - Homo sapiens (human)\n",
      "path:hsa04612\n",
      "Antigen processing and presentation - Homo sapiens (human)\n",
      "path:hsa04613\n",
      "Neutrophil extracellular trap formation - Homo sapiens (human)\n",
      "path:hsa04614\n",
      "Renin-angiotensin system - Homo sapiens (human)\n",
      "path:hsa04620\n",
      "Toll-like receptor signaling pathway - Homo sapiens (human)\n",
      "path:hsa04621\n",
      "NOD-like receptor signaling pathway - Homo sapiens (human)\n",
      "path:hsa04622\n",
      "RIG-I-like receptor signaling pathway - Homo sapiens (human)\n",
      "path:hsa04623\n",
      "Cytosolic DNA-sensing pathway - Homo sapiens (human)\n",
      "path:hsa04625\n",
      "C-type lectin receptor signaling pathway - Homo sapiens (human)\n",
      "path:hsa04630\n",
      "JAK-STAT signaling pathway - Homo sapiens (human)\n",
      "path:hsa04640\n",
      "Hematopoietic cell lineage - Homo sapiens (human)\n",
      "path:hsa04650\n",
      "Natural killer cell mediated cytotoxicity - Homo sapiens (human)\n",
      "path:hsa04657\n",
      "IL-17 signaling pathway - Homo sapiens (human)\n",
      "path:hsa04658\n",
      "Th1 and Th2 cell differentiation - Homo sapiens (human)\n",
      "path:hsa04659\n",
      "Th17 cell differentiation - Homo sapiens (human)\n",
      "path:hsa04660\n",
      "T cell receptor signaling pathway - Homo sapiens (human)\n",
      "path:hsa04662\n",
      "B cell receptor signaling pathway - Homo sapiens (human)\n",
      "path:hsa04664\n",
      "Fc epsilon RI signaling pathway - Homo sapiens (human)\n",
      "path:hsa04666\n",
      "Fc gamma R-mediated phagocytosis - Homo sapiens (human)\n",
      "path:hsa04668\n",
      "TNF signaling pathway - Homo sapiens (human)\n",
      "path:hsa04670\n",
      "Leukocyte transendothelial migration - Homo sapiens (human)\n",
      "path:hsa04672\n",
      "Intestinal immune network for IgA production - Homo sapiens (human)\n",
      "path:hsa04710\n",
      "Circadian rhythm - Homo sapiens (human)\n",
      "path:hsa04713\n",
      "Circadian entrainment - Homo sapiens (human)\n",
      "path:hsa04714\n",
      "Thermogenesis - Homo sapiens (human)\n",
      "path:hsa04720\n",
      "Long-term potentiation - Homo sapiens (human)\n",
      "path:hsa04721\n",
      "Synaptic vesicle cycle - Homo sapiens (human)\n",
      "path:hsa04722\n",
      "Neurotrophin signaling pathway - Homo sapiens (human)\n",
      "path:hsa04723\n",
      "Retrograde endocannabinoid signaling - Homo sapiens (human)\n",
      "path:hsa04724\n",
      "Glutamatergic synapse - Homo sapiens (human)\n",
      "path:hsa04725\n",
      "Cholinergic synapse - Homo sapiens (human)\n",
      "path:hsa04726\n",
      "Serotonergic synapse - Homo sapiens (human)\n",
      "path:hsa04727\n",
      "GABAergic synapse - Homo sapiens (human)\n",
      "path:hsa04728\n",
      "Dopaminergic synapse - Homo sapiens (human)\n",
      "path:hsa04730\n",
      "Long-term depression - Homo sapiens (human)\n",
      "path:hsa04740\n",
      "Olfactory transduction - Homo sapiens (human)\n",
      "path:hsa04742\n",
      "Taste transduction - Homo sapiens (human)\n",
      "path:hsa04744\n",
      "Phototransduction - Homo sapiens (human)\n",
      "path:hsa04750\n",
      "Inflammatory mediator regulation of TRP channels - Homo sapiens (human)\n",
      "path:hsa04810\n",
      "Regulation of actin cytoskeleton - Homo sapiens (human)\n",
      "path:hsa04910\n",
      "Insulin signaling pathway - Homo sapiens (human)\n",
      "path:hsa04911\n",
      "Insulin secretion - Homo sapiens (human)\n",
      "path:hsa04912\n",
      "GnRH signaling pathway - Homo sapiens (human)\n",
      "path:hsa04913\n",
      "Ovarian steroidogenesis - Homo sapiens (human)\n",
      "path:hsa04914\n",
      "Progesterone-mediated oocyte maturation - Homo sapiens (human)\n",
      "path:hsa04915\n",
      "Estrogen signaling pathway - Homo sapiens (human)\n",
      "path:hsa04916\n",
      "Melanogenesis - Homo sapiens (human)\n",
      "path:hsa04917\n",
      "Prolactin signaling pathway - Homo sapiens (human)\n",
      "path:hsa04918\n",
      "Thyroid hormone synthesis - Homo sapiens (human)\n",
      "path:hsa04919\n",
      "Thyroid hormone signaling pathway - Homo sapiens (human)\n",
      "path:hsa04920\n",
      "Adipocytokine signaling pathway - Homo sapiens (human)\n",
      "path:hsa04921\n",
      "Oxytocin signaling pathway - Homo sapiens (human)\n",
      "path:hsa04922\n",
      "Glucagon signaling pathway - Homo sapiens (human)\n",
      "path:hsa04923\n",
      "Regulation of lipolysis in adipocytes - Homo sapiens (human)\n",
      "path:hsa04924\n",
      "Renin secretion - Homo sapiens (human)\n",
      "path:hsa04925\n",
      "Aldosterone synthesis and secretion - Homo sapiens (human)\n",
      "path:hsa04926\n",
      "Relaxin signaling pathway - Homo sapiens (human)\n",
      "path:hsa04927\n",
      "Cortisol synthesis and secretion - Homo sapiens (human)\n",
      "path:hsa04928\n",
      "Parathyroid hormone synthesis, secretion and action - Homo sapiens (human)\n",
      "path:hsa04929\n",
      "GnRH secretion - Homo sapiens (human)\n",
      "path:hsa04930\n",
      "Type II diabetes mellitus - Homo sapiens (human)\n",
      "path:hsa04931\n",
      "Insulin resistance - Homo sapiens (human)\n",
      "path:hsa04932\n",
      "Non-alcoholic fatty liver disease - Homo sapiens (human)\n",
      "path:hsa04933\n",
      "AGE-RAGE signaling pathway in diabetic complications - Homo sapiens (human)\n",
      "path:hsa04934\n",
      "Cushing syndrome - Homo sapiens (human)\n",
      "path:hsa04935\n",
      "Growth hormone synthesis, secretion and action - Homo sapiens (human)\n",
      "path:hsa04940\n",
      "Type I diabetes mellitus - Homo sapiens (human)\n",
      "path:hsa04950\n",
      "Maturity onset diabetes of the young - Homo sapiens (human)\n",
      "path:hsa04960\n",
      "Aldosterone-regulated sodium reabsorption - Homo sapiens (human)\n",
      "path:hsa04961\n",
      "Endocrine and other factor-regulated calcium reabsorption - Homo sapiens (human)\n",
      "path:hsa04962\n",
      "Vasopressin-regulated water reabsorption - Homo sapiens (human)\n",
      "path:hsa04964\n",
      "Proximal tubule bicarbonate reclamation - Homo sapiens (human)\n",
      "path:hsa04966\n",
      "Collecting duct acid secretion - Homo sapiens (human)\n",
      "path:hsa04970\n",
      "Salivary secretion - Homo sapiens (human)\n",
      "path:hsa04971\n",
      "Gastric acid secretion - Homo sapiens (human)\n",
      "path:hsa04972\n",
      "Pancreatic secretion - Homo sapiens (human)\n",
      "path:hsa04973\n",
      "Carbohydrate digestion and absorption - Homo sapiens (human)\n",
      "path:hsa04974\n",
      "Protein digestion and absorption - Homo sapiens (human)\n",
      "path:hsa04975\n",
      "Fat digestion and absorption - Homo sapiens (human)\n",
      "path:hsa04976\n",
      "Bile secretion - Homo sapiens (human)\n",
      "path:hsa04977\n",
      "Vitamin digestion and absorption - Homo sapiens (human)\n",
      "path:hsa04978\n",
      "Mineral absorption - Homo sapiens (human)\n",
      "path:hsa04979\n",
      "Cholesterol metabolism - Homo sapiens (human)\n",
      "path:hsa05010\n",
      "Alzheimer disease - Homo sapiens (human)\n",
      "path:hsa05012\n",
      "Parkinson disease - Homo sapiens (human)\n",
      "path:hsa05014\n",
      "Amyotrophic lateral sclerosis - Homo sapiens (human)\n",
      "path:hsa05016\n",
      "Huntington disease - Homo sapiens (human)\n",
      "path:hsa05017\n",
      "Spinocerebellar ataxia - Homo sapiens (human)\n",
      "path:hsa05020\n",
      "Prion disease - Homo sapiens (human)\n",
      "path:hsa05022\n",
      "Pathways of neurodegeneration - multiple diseases - Homo sapiens (human)\n",
      "path:hsa05030\n",
      "Cocaine addiction - Homo sapiens (human)\n",
      "path:hsa05031\n",
      "Amphetamine addiction - Homo sapiens (human)\n",
      "path:hsa05032\n",
      "Morphine addiction - Homo sapiens (human)\n",
      "path:hsa05033\n",
      "Nicotine addiction - Homo sapiens (human)\n",
      "path:hsa05034\n",
      "Alcoholism - Homo sapiens (human)\n",
      "path:hsa05100\n",
      "Bacterial invasion of epithelial cells - Homo sapiens (human)\n",
      "path:hsa05110\n",
      "Vibrio cholerae infection - Homo sapiens (human)\n",
      "path:hsa05120\n",
      "Epithelial cell signaling in Helicobacter pylori infection - Homo sapiens (human)\n",
      "path:hsa05130\n",
      "Pathogenic Escherichia coli infection - Homo sapiens (human)\n",
      "path:hsa05131\n",
      "Shigellosis - Homo sapiens (human)\n",
      "path:hsa05132\n",
      "Salmonella infection - Homo sapiens (human)\n",
      "path:hsa05133\n",
      "Pertussis - Homo sapiens (human)\n",
      "path:hsa05134\n",
      "Legionellosis - Homo sapiens (human)\n",
      "path:hsa05135\n",
      "Yersinia infection - Homo sapiens (human)\n",
      "path:hsa05140\n",
      "Leishmaniasis - Homo sapiens (human)\n",
      "path:hsa05142\n",
      "Chagas disease - Homo sapiens (human)\n",
      "path:hsa05143\n",
      "African trypanosomiasis - Homo sapiens (human)\n",
      "path:hsa05144\n",
      "Malaria - Homo sapiens (human)\n",
      "path:hsa05145\n",
      "Toxoplasmosis - Homo sapiens (human)\n",
      "path:hsa05146\n",
      "Amoebiasis - Homo sapiens (human)\n",
      "path:hsa05150\n",
      "Staphylococcus aureus infection - Homo sapiens (human)\n",
      "path:hsa05152\n",
      "Tuberculosis - Homo sapiens (human)\n",
      "path:hsa05160\n",
      "Hepatitis C - Homo sapiens (human)\n",
      "path:hsa05161\n",
      "Hepatitis B - Homo sapiens (human)\n",
      "path:hsa05162\n",
      "Measles - Homo sapiens (human)\n",
      "path:hsa05163\n",
      "Human cytomegalovirus infection - Homo sapiens (human)\n",
      "path:hsa05164\n",
      "Influenza A - Homo sapiens (human)\n",
      "path:hsa05165\n",
      "Human papillomavirus infection - Homo sapiens (human)\n",
      "path:hsa05166\n",
      "Human T-cell leukemia virus 1 infection - Homo sapiens (human)\n",
      "path:hsa05167\n",
      "Kaposi sarcoma-associated herpesvirus infection - Homo sapiens (human)\n",
      "path:hsa05168\n",
      "Herpes simplex virus 1 infection - Homo sapiens (human)\n",
      "path:hsa05169\n",
      "Epstein-Barr virus infection - Homo sapiens (human)\n",
      "path:hsa05170\n",
      "Human immunodeficiency virus 1 infection - Homo sapiens (human)\n",
      "path:hsa05171\n",
      "Coronavirus disease - COVID-19 - Homo sapiens (human)\n",
      "path:hsa05200\n",
      "Pathways in cancer - Homo sapiens (human)\n",
      "path:hsa05202\n",
      "Transcriptional misregulation in cancer - Homo sapiens (human)\n",
      "path:hsa05203\n",
      "Viral carcinogenesis - Homo sapiens (human)\n",
      "path:hsa05204\n",
      "Chemical carcinogenesis - Homo sapiens (human)\n",
      "path:hsa05205\n",
      "Proteoglycans in cancer - Homo sapiens (human)\n",
      "path:hsa05206\n",
      "MicroRNAs in cancer - Homo sapiens (human)\n",
      "path:hsa05210\n",
      "Colorectal cancer - Homo sapiens (human)\n",
      "path:hsa05211\n",
      "Renal cell carcinoma - Homo sapiens (human)\n",
      "path:hsa05212\n",
      "Pancreatic cancer - Homo sapiens (human)\n",
      "path:hsa05213\n",
      "Endometrial cancer - Homo sapiens (human)\n",
      "path:hsa05214\n",
      "Glioma - Homo sapiens (human)\n",
      "path:hsa05215\n",
      "Prostate cancer - Homo sapiens (human)\n",
      "path:hsa05216\n",
      "Thyroid cancer - Homo sapiens (human)\n",
      "path:hsa05217\n",
      "Basal cell carcinoma - Homo sapiens (human)\n",
      "path:hsa05218\n",
      "Melanoma - Homo sapiens (human)\n",
      "path:hsa05219\n",
      "Bladder cancer - Homo sapiens (human)\n",
      "path:hsa05220\n",
      "Chronic myeloid leukemia - Homo sapiens (human)\n",
      "path:hsa05221\n",
      "Acute myeloid leukemia - Homo sapiens (human)\n",
      "path:hsa05222\n",
      "Small cell lung cancer - Homo sapiens (human)\n",
      "path:hsa05223\n",
      "Non-small cell lung cancer - Homo sapiens (human)\n",
      "path:hsa05224\n",
      "Breast cancer - Homo sapiens (human)\n",
      "path:hsa05225\n",
      "Hepatocellular carcinoma - Homo sapiens (human)\n",
      "path:hsa05226\n",
      "Gastric cancer - Homo sapiens (human)\n",
      "path:hsa05230\n",
      "Central carbon metabolism in cancer - Homo sapiens (human)\n",
      "path:hsa05231\n",
      "Choline metabolism in cancer - Homo sapiens (human)\n",
      "path:hsa05235\n",
      "PD-L1 expression and PD-1 checkpoint pathway in cancer - Homo sapiens (human)\n",
      "path:hsa05310\n",
      "Asthma - Homo sapiens (human)\n",
      "path:hsa05320\n",
      "Autoimmune thyroid disease - Homo sapiens (human)\n",
      "path:hsa05321\n",
      "Inflammatory bowel disease - Homo sapiens (human)\n",
      "path:hsa05322\n",
      "Systemic lupus erythematosus - Homo sapiens (human)\n",
      "path:hsa05323\n",
      "Rheumatoid arthritis - Homo sapiens (human)\n",
      "path:hsa05330\n",
      "Allograft rejection - Homo sapiens (human)\n",
      "path:hsa05332\n",
      "Graft-versus-host disease - Homo sapiens (human)\n",
      "path:hsa05340\n",
      "Primary immunodeficiency - Homo sapiens (human)\n",
      "path:hsa05410\n",
      "Hypertrophic cardiomyopathy - Homo sapiens (human)\n",
      "path:hsa05412\n",
      "Arrhythmogenic right ventricular cardiomyopathy - Homo sapiens (human)\n",
      "path:hsa05414\n",
      "Dilated cardiomyopathy - Homo sapiens (human)\n",
      "path:hsa05415\n",
      "Diabetic cardiomyopathy - Homo sapiens (human)\n",
      "path:hsa05416\n",
      "Viral myocarditis - Homo sapiens (human)\n",
      "path:hsa05417\n",
      "Lipid and atherosclerosis - Homo sapiens (human)\n",
      "path:hsa05418\n",
      "Fluid shear stress and atherosclerosis - Homo sapiens (human)\n"
     ]
    },
    {
     "ename": "ValueError",
     "evalue": "not enough values to unpack (expected 2, got 1)",
     "output_type": "error",
     "traceback": [
      "\u001b[0;31m---------------------------------------------------------------------------\u001b[0m",
      "\u001b[0;31mValueError\u001b[0m                                Traceback (most recent call last)",
      "\u001b[0;32m<ipython-input-85-0fa6e1d86f29>\u001b[0m in \u001b[0;36m<module>\u001b[0;34m\u001b[0m\n\u001b[1;32m      1\u001b[0m \u001b[0mrepair_pathways\u001b[0m \u001b[0;34m=\u001b[0m \u001b[0;34m[\u001b[0m\u001b[0;34m]\u001b[0m\u001b[0;34m\u001b[0m\u001b[0;34m\u001b[0m\u001b[0m\n\u001b[1;32m      2\u001b[0m \u001b[0;32mfor\u001b[0m \u001b[0mline\u001b[0m \u001b[0;32min\u001b[0m \u001b[0mhuman_pathways\u001b[0m\u001b[0;34m.\u001b[0m\u001b[0msplit\u001b[0m\u001b[0;34m(\u001b[0m\u001b[0;34m\"\\n\"\u001b[0m\u001b[0;34m)\u001b[0m\u001b[0;34m:\u001b[0m\u001b[0;34m\u001b[0m\u001b[0;34m\u001b[0m\u001b[0m\n\u001b[0;32m----> 3\u001b[0;31m     \u001b[0mentry\u001b[0m\u001b[0;34m,\u001b[0m \u001b[0mdescription\u001b[0m \u001b[0;34m=\u001b[0m \u001b[0mline\u001b[0m\u001b[0;34m.\u001b[0m\u001b[0msplit\u001b[0m\u001b[0;34m(\u001b[0m\u001b[0;34m\"\\t\"\u001b[0m\u001b[0;34m)\u001b[0m\u001b[0;34m\u001b[0m\u001b[0;34m\u001b[0m\u001b[0m\n\u001b[0m\u001b[1;32m      4\u001b[0m     \u001b[0mprint\u001b[0m\u001b[0;34m(\u001b[0m\u001b[0mentry\u001b[0m\u001b[0;34m)\u001b[0m\u001b[0;34m\u001b[0m\u001b[0;34m\u001b[0m\u001b[0m\n\u001b[1;32m      5\u001b[0m     \u001b[0mprint\u001b[0m\u001b[0;34m(\u001b[0m\u001b[0mdescription\u001b[0m\u001b[0;34m)\u001b[0m\u001b[0;34m\u001b[0m\u001b[0;34m\u001b[0m\u001b[0m\n",
      "\u001b[0;31mValueError\u001b[0m: not enough values to unpack (expected 2, got 1)"
     ]
    }
   ],
   "source": [
    "repair_pathways = []\n",
    "for line in human_pathways.split(\"\\n\"):\n",
    "    entry, description = line.split(\"\\t\")\n",
    "    print(entry)\n",
    "    print(description)\n",
    "    if \"repair\" in description:\n",
    "        repair_pathways.append(entry)\n",
    "        # Get the genes for pathways and add them to a list"
   ]
  },
  {
   "cell_type": "code",
   "execution_count": 86,
   "metadata": {},
   "outputs": [
    {
     "data": {
      "text/plain": [
       "['path:hsa03410', 'path:hsa03420', 'path:hsa03430']"
      ]
     },
     "execution_count": 86,
     "metadata": {},
     "output_type": "execute_result"
    }
   ],
   "source": [
    "repair_pathways"
   ]
  },
  {
   "cell_type": "code",
   "execution_count": 87,
   "metadata": {},
   "outputs": [
    {
     "data": {
      "text/plain": [
       "'ENTRY       hsa03410                    Pathway\\nNAME        Base excision repair - Homo sapiens (human)\\nDESCRIPTION Base excision repair (BER) is the predominant DNA damage repair pathway for the processing of small base lesions, derived from oxidation and alkylation damages. BER is normally defined as DNA repair initiated by lesion-specific DNA glycosylases and completed by either of the two sub-pathways: short-patch BER where only one nucleotide is replaced and long-patch BER where 2-13 nucleotides are replaced. Each sub-pathway of BER relies on the formation of protein complexes that assemble at the site of the DNA lesion and facilitate repair in a coordinated fashion. This process of complex formation appears to provide an increase in specificity and efficiency to the BER pathway, thereby facilitating the maintenance of genome integrity by preventing the accumulation of highly toxic repair intermediates.\\nCLASS       Genetic Information Processing; Replication and repair\\nPATHWAY_MAP hsa03410  Base excision repair\\nDRUG        D09730  Olaparib (JAN/USAN/INN)\\n            D10079  Rucaparib (USAN/INN)\\n            D10157  Rucaparib phosphate (USAN)\\n            D10732  Talazoparib (USAN/INN)\\n            D10733  Talazoparib tosylate (USAN)\\n            D10982  Rucaparib camsylate (USAN)\\n            D11426  Pamiparib (USAN/INN)\\nDBLINKS     GO: 0006284 0006285 0006286 0006287 0006288\\nORGANISM    Homo sapiens (human) [GN:hsa]\\nGENE        4968  OGG1; 8-oxoguanine DNA glycosylase [KO:K03660] [EC:3.2.2.- 4.2.99.18]\\n            4913  NTHL1; nth like DNA glycosylase 1 [KO:K10773] [EC:4.2.99.18]\\n            79661  NEIL1; nei like DNA glycosylase 1 [KO:K10567] [EC:3.2.2.- 4.2.99.18]\\n            252969  NEIL2; nei like DNA glycosylase 2 [KO:K10568] [EC:3.2.2.- 4.2.99.18]\\n            55247  NEIL3; nei like DNA glycosylase 3 [KO:K10569]\\n            7374  UNG; uracil DNA glycosylase [KO:K03648] [EC:3.2.2.27]\\n            23583  SMUG1; single-strand-selective monofunctional uracil-DNA glycosylase 1 [KO:K10800] [EC:3.2.2.-]\\n            4595  MUTYH; mutY DNA glycosylase [KO:K03575] [EC:3.2.2.31]\\n            4350  MPG; N-methylpurine DNA glycosylase [KO:K03652] [EC:3.2.2.21]\\n            8930  MBD4; methyl-CpG binding domain 4, DNA glycosylase [KO:K10801] [EC:3.2.2.-]\\n            6996  TDG; thymine DNA glycosylase [KO:K20813] [EC:3.2.2.29]\\n            328  APEX1; apurinic/apyrimidinic endodeoxyribonuclease 1 [KO:K10771] [EC:4.2.99.18]\\n            27301  APEX2; apurinic/apyrimidinic endodeoxyribonuclease 2 [KO:K10772] [EC:4.2.99.18]\\n            5423  POLB; DNA polymerase beta [KO:K02330] [EC:2.7.7.7 4.2.99.-]\\n            27343  POLL; DNA polymerase lambda [KO:K03512] [EC:2.7.7.7 4.2.99.-]\\n            3146  HMGB1; high mobility group box 1 [KO:K10802]\\n            7515  XRCC1; X-ray repair cross complementing 1 [KO:K10803]\\n            5111  PCNA; proliferating cell nuclear antigen [KO:K04802]\\n            5424  POLD1; DNA polymerase delta 1, catalytic subunit [KO:K02327] [EC:2.7.7.7]\\n            5425  POLD2; DNA polymerase delta 2, accessory subunit [KO:K02328]\\n            10714  POLD3; DNA polymerase delta 3, accessory subunit [KO:K03504]\\n            57804  POLD4; DNA polymerase delta 4, accessory subunit [KO:K03505]\\n            5426  POLE; DNA polymerase epsilon, catalytic subunit [KO:K02324] [EC:2.7.7.7]\\n            5427  POLE2; DNA polymerase epsilon 2, accessory subunit [KO:K02325] [EC:2.7.7.7]\\n            54107  POLE3; DNA polymerase epsilon 3, accessory subunit [KO:K02326] [EC:2.7.7.7]\\n            56655  POLE4; DNA polymerase epsilon 4, accessory subunit [KO:K03506] [EC:2.7.7.7]\\n            3978  LIG1; DNA ligase 1 [KO:K10747] [EC:6.5.1.1 6.5.1.6 6.5.1.7]\\n            3980  LIG3; DNA ligase 3 [KO:K10776] [EC:6.5.1.1]\\n            142  PARP1; poly(ADP-ribose) polymerase 1 [KO:K24070] [EC:2.4.2.30]\\n            10038  PARP2; poly(ADP-ribose) polymerase 2 [KO:K10798] [EC:2.4.2.30]\\n            10039  PARP3; poly(ADP-ribose) polymerase family member 3 [KO:K10798] [EC:2.4.2.30]\\n            143  PARP4; poly(ADP-ribose) polymerase family member 4 [KO:K10798] [EC:2.4.2.30]\\n            2237  FEN1; flap structure-specific endonuclease 1 [KO:K04799] [EC:3.-.-.-]\\nREFERENCE   PMID:17893748\\n  AUTHORS   Krwawicz J, Arczewska KD, Speina E, Maciejewska A, Grzesiuk E.\\n  TITLE     Bacterial DNA repair genes and their eukaryotic homologues: 1. Mutations in genes involved in base excision repair (BER) and DNA-end processors and their implication in mutagenesis and human disease.\\n  JOURNAL   Acta Biochim Pol 54:413-34 (2007)\\nREFERENCE   PMID:17337257\\n  AUTHORS   Almeida KH, Sobol RW.\\n  TITLE     A unified view of base excision repair: lesion-dependent protein complexes regulated by post-translational modification.\\n  JOURNAL   DNA Repair (Amst) 6:695-711 (2007)\\n            DOI:10.1016/j.dnarep.2007.01.009\\nREFERENCE   PMID:21665970\\n  AUTHORS   Moen MN, Knaevelsrud I, Haugland GT, Grosvik K, Birkeland NK, Klungland A, Bjelland S\\n  TITLE     Uracil-DNA glycosylase of Thermoplasma acidophilum directs long-patch base excision repair, which is promoted by deoxynucleoside triphosphates and ATP/ADP, into short-patch repair.\\n  JOURNAL   J Bacteriol 193:4495-508 (2011)\\n            DOI:10.1128/JB.00233-11\\nREFERENCE   PMID:11436317\\n  AUTHORS   Ikeda S, Seki S.\\n  TITLE     [Base excision repair: DNA glycosylase and AP endonuclease] Japanese\\n  JOURNAL   Tanpakushitsu Kakusan Koso 46:916-23 (2001)\\nKO_PATHWAY  ko03410\\n///\\n'"
      ]
     },
     "execution_count": 87,
     "metadata": {},
     "output_type": "execute_result"
    }
   ],
   "source": [
    "pathway = repair_pathways[0]\n",
    "REST.kegg_get(pathway).read()\n",
    "# https://www.genome.jp/dbget-bin/www_bget?hsa03410"
   ]
  },
  {
   "cell_type": "code",
   "execution_count": 89,
   "metadata": {},
   "outputs": [],
   "source": [
    "repair_genes = []\n",
    "\n",
    "for pathway in repair_pathways:\n",
    "    \n",
    "    pathway_file = REST.kegg_get(pathway).read() # query and read each pathway\n",
    "#     print(pathway_file)\n",
    "    \n",
    "    for line in pathway_file.split(\"\\n\"):\n",
    "        section = line[:12].strip() # section names are within 12 columns (know by specification or empirically)\n",
    "        # print(section)\n",
    "        \n",
    "        if section == \"GENE\":\n",
    "\n",
    "            gene_identifiers, gene_description = line[12:].split(\"; \")\n",
    "            gene_id, gene_symbol = gene_identifiers.split()\n",
    "\n",
    "            if not gene_symbol in repair_genes:\n",
    "                repair_genes.append(gene_symbol)"
   ]
  },
  {
   "cell_type": "code",
   "execution_count": 90,
   "metadata": {},
   "outputs": [
    {
     "name": "stdout",
     "output_type": "stream",
     "text": [
      "There are 3 repair pathways and 3 repair genes. The genes are:\n",
      "OGG1, RBX1, SSBP1\n"
     ]
    }
   ],
   "source": [
    "print(\"There are %d repair pathways and %d repair genes. The genes are:\" \n",
    "      % (len(repair_pathways), len(repair_genes)))\n",
    "print(\", \".join(repair_genes))"
   ]
  }
 ],
 "metadata": {
  "kernelspec": {
   "display_name": "Python 3",
   "language": "python",
   "name": "python3"
  },
  "language_info": {
   "codemirror_mode": {
    "name": "ipython",
    "version": 3
   },
   "file_extension": ".py",
   "mimetype": "text/x-python",
   "name": "python",
   "nbconvert_exporter": "python",
   "pygments_lexer": "ipython3",
   "version": "3.7.6"
  }
 },
 "nbformat": 4,
 "nbformat_minor": 2
}
