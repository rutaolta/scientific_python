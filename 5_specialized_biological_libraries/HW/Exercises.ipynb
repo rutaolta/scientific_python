{
 "cells": [
  {
   "cell_type": "code",
   "execution_count": 1,
   "metadata": {},
   "outputs": [
    {
     "output_type": "stream",
     "name": "stdout",
     "text": [
      "seq0 : FQTWEEFSRAAEKLYLADPMKVRVVLKYRHVDGNLCIKVTDDLVCLVYRTDQAQDVKKIEKF\nseq1 : KYRTWEEFTRAAEKLYQADPMKVRVVLKYRHCDGNLCIKVTDDVVCLLYRTDQAQDVKKIEKFHSQLMRLME LKVTDNKECLKFKTDQAQEAKKMEKLNNIFFTLM\nseq2 : EEYQTWEEFARAAEKLYLTDPMKVRVVLKYRHCDGNLCMKVTDDAVCLQYKTDQAQDVKKVEKLHGK\nseq3 : MYQVWEEFSRAVEKLYLTDPMKVRVVLKYRHCDGNLCIKVTDNSVCLQYKTDQAQDVK\nseq4 : EEFSRAVEKLYLTDPMKVRVVLKYRHCDGNLCIKVTDNSVVSYEMRLFGVQKDNFALEHSLL\nseq5 : SWEEFAKAAEVLYLEDPMKCRMCTKYRHVDHKLVVKLTDNHTVLKYVTDMAQDVKKIEKLTTLLMR\nseq6 : FTNWEEFAKAAERLHSANPEKCRFVTKYNHTKGELVLKLTDDVVCLQYSTNQLQDVKKLEKLSSTLLRSI\nseq7 : SWEEFVERSVQLFRGDPNATRYVMKYRHCEGKLVLKVTDDRECLKFKTDQAQDAKKMEKLNNIFF\nseq8 : SWDEFVDRSVQLFRADPESTRYVMKYRHCDGKLVLKVTDNKECLKFKTDQAQEAKKMEKLNNIFFTLM\nseq9 : KNWEDFEIAAENMYMANPQNCRYTMKYVHSKGHILLKMSDNVKCVQYRAENMPDLKK\nseq10 : FDSWDEFVSKSVELFRNHPDTTRYVVKYRHCEGKLVLKVTDNHECLKFKTDQAQDAKKMEK\n"
     ]
    }
   ],
   "source": [
    "# 1\n",
    "'''\n",
    "Let's remeber how to use dictionaries.\n",
    "Task: return a dictionary where \n",
    "    * keys are IDs of seqs from an input fasta file (prot.fasta),\n",
    "    * key's values are seqs itself. \n",
    "'''\n",
    "\n",
    "def my_own_fasta_parser(inFile):\n",
    "\n",
    "    sequences = {}\n",
    "\n",
    "    with open(inFile, 'r') as file:\n",
    "        for line in file.read().split('\\n')[:-1]:\n",
    "            if line[0] == '>':\n",
    "                seq_id = line[1:]\n",
    "            else:\n",
    "                sequences[seq_id] = line\n",
    "\n",
    "    return sequences\n",
    "\n",
    "print('\\n'.join(f\"{k} : {v}\" for k, v in my_own_fasta_parser('prot.fasta').items()))"
   ]
  },
  {
   "cell_type": "code",
   "execution_count": 2,
   "metadata": {},
   "outputs": [
    {
     "output_type": "stream",
     "name": "stdout",
     "text": [
      "['seq0', 'seq2', 'seq3', 'seq4', 'seq5']\n"
     ]
    }
   ],
   "source": [
    "# 2\n",
    "'''\n",
    "Another super easy task.\n",
    "\n",
    "We have the same fasta file (prot.fasta).\n",
    "Now we want to get a list with the ids of protein seqs that have \n",
    "a relative frequency higher than a given threshold for a given residue.\n",
    "\n",
    "And don't forget to use my_own_fasta_parser function from a previous task!\n",
    "'''\n",
    "\n",
    "def my_own_residue_abundance(input_file, residue, threshold=0.2):\n",
    "    \n",
    "    seq_ids = []\n",
    "    sequences = my_own_fasta_parser(input_file)\n",
    "\n",
    "    for seq_id, sequence in sequences.items():\n",
    "        freq = sequence.count(residue) / len(sequence)\n",
    "        if freq > threshold:\n",
    "            seq_ids.append(seq_id)\n",
    "\n",
    "    return seq_ids\n",
    "\n",
    "print(my_own_residue_abundance('prot.fasta','V', 0.1))"
   ]
  },
  {
   "cell_type": "code",
   "execution_count": 5,
   "metadata": {},
   "outputs": [
    {
     "output_type": "stream",
     "name": "stdout",
     "text": [
      "14.29\n"
     ]
    }
   ],
   "source": [
    "# 3\n",
    "'''\n",
    "Let's practice in Bio package using.\n",
    "Task:\n",
    "1. read fasta file containing several DNA seqs (nucl.fasta)\n",
    "2. subset seqs that have GC content > 45 and coding protein with aromaticity > 0.01\n",
    "3. write a new fasta file with those protein(!) seqs\n",
    "4. return the percentage of seqs that passed your filter\n",
    "Hint: Bio.SeqIO, Bio.SeqRecord, Bio.SeqUtils\n",
    "'''\n",
    "\n",
    "from Bio.SeqUtils import GC\n",
    "from Bio.SeqUtils.ProtParam import ProteinAnalysis\n",
    "import Bio.SeqIO as SeqIO\n",
    "\n",
    "def my_own_filtering(input_file, output_file, filt_gc=45, filt_arom=0.125):\n",
    "    \n",
    "    sequences = {}\n",
    "    c = 0\n",
    "    \n",
    "    with open(input_file, \"r\") as content:\n",
    "        \n",
    "        for record in SeqIO.parse(content, \"fasta\"):\n",
    "            c+=1\n",
    "            \n",
    "            # calculate GC content using Bio\n",
    "            calc_gc = GC(record.seq)\n",
    "\n",
    "            # calculate aromaticity using Bio\n",
    "            prot = record.translate()\n",
    "            X = ProteinAnalysis(str(prot.seq))\n",
    "            calc_arom = X.aromaticity()\n",
    "            \n",
    "            # so, now you can filter\n",
    "            if calc_gc >= filt_gc and calc_arom >= filt_arom:\n",
    "                sequences[record.id] = record.seq\n",
    "\n",
    "    # write a new fasta file with aminoacids\n",
    "    records = []\n",
    "    with open(output_file, \"w\") as output:\n",
    "        for seq_id, seq in sequences.items():\n",
    "            output.write(f\">{seq_id}\\n{seq}\\n\")\n",
    "\n",
    "    print(\"%0.2f\" % (100 * len(sequences) / c))\n",
    "    \n",
    "my_own_filtering('nucl.fasta', 'nucl_filtered.fasta')"
   ]
  },
  {
   "cell_type": "code",
   "execution_count": 2,
   "metadata": {},
   "outputs": [
    {
     "output_type": "stream",
     "name": "stdout",
     "text": [
      "KEVLA\n",
      " ||| \n",
      "-EVL-\n",
      "  Score=13\n",
      "\n",
      "/home/aliya/bioinf/conda/miniconda3/envs/snakemake/lib/python3.9/site-packages/Bio/SubsMat/__init__.py:126: BiopythonDeprecationWarning: Bio.SubsMat has been deprecated, and we intend to remove it in a future release of Biopython. As an alternative, please consider using Bio.Align.substitution_matrices as a replacement, and contact the Biopython developers if you still need the Bio.SubsMat module.\n",
      "  warnings.warn(\n"
     ]
    }
   ],
   "source": [
    "# 4\n",
    "\"\"\"\n",
    "Continue practicing in Bio package using:\n",
    "Task:\n",
    "complete the following code that should be able to return \n",
    "the best alignment of two amino acid seqs (pairwise2.align.globalds)\n",
    "based on BLOSUM62 matrix from Bio.SubsMat.MatrixInfo.\n",
    "http://rosalind.info/glossary/blosum62/\n",
    "\"\"\"\n",
    "\n",
    "import Bio.SubsMat.MatrixInfo as matlist\n",
    "from Bio.pairwise2 import format_alignment, align\n",
    "\n",
    "def balign(first_seq, second_seq):\n",
    "\n",
    "    # Load the matrix\n",
    "    matrix = matlist.blosum62\n",
    "\n",
    "    # Generate the alignments\n",
    "    alns = align.globaldx(first_seq, second_seq, matrix)\n",
    "\n",
    "    # Extract the best alignment (first one in the alns list)\n",
    "    top_aln = alns[0]\n",
    "\n",
    "    # Print the alignment, ...\n",
    "    aln_A, aln_B, score, begin, end = top_aln\n",
    "    print(format_alignment(*top_aln))\n",
    "    # or\n",
    "    # print(format_alignment(aln_A, aln_B, score, begin, end))\n",
    "\n",
    "balign(\"KEVLA\", \"EVL\")"
   ]
  },
  {
   "cell_type": "code",
   "execution_count": 13,
   "metadata": {},
   "outputs": [
    {
     "output_type": "stream",
     "name": "stdout",
     "text": [
      "Collecting package metadata (current_repodata.json): done\n",
      "Solving environment: done\n",
      "\n",
      "## Package Plan ##\n",
      "\n",
      "  environment location: /home/aliya/bioinf/conda/miniconda3\n",
      "\n",
      "  added / updated specs:\n",
      "    - biopython\n",
      "\n",
      "\n",
      "The following packages will be downloaded:\n",
      "\n",
      "    package                    |            build\n",
      "    ---------------------------|-----------------\n",
      "    biopython-1.78             |   py39h3811e60_2         2.6 MB  conda-forge\n",
      "    ------------------------------------------------------------\n",
      "                                           Total:         2.6 MB\n",
      "\n",
      "The following NEW packages will be INSTALLED:\n",
      "\n",
      "  biopython          conda-forge/linux-64::biopython-1.78-py39h3811e60_2\n",
      "\n",
      "\n",
      "\n",
      "Downloading and Extracting Packages\n",
      "biopython-1.78       | 2.6 MB    | ##################################### | 100% \n",
      "Preparing transaction: done\n",
      "Verifying transaction: done\n",
      "Executing transaction: done\n",
      "\n",
      "Note: you may need to restart the kernel to use updated packages.\n"
     ]
    }
   ],
   "source": [
    "conda install Biopython"
   ]
  },
  {
   "cell_type": "code",
   "execution_count": 31,
   "metadata": {},
   "outputs": [
    {
     "output_type": "execute_result",
     "data": {
      "text/plain": [
       "['STRAFYG',\n",
       " 'VLEHSME',\n",
       " 'LEHSME',\n",
       " 'TRAFYG',\n",
       " 'RAFYG',\n",
       " 'EHSME',\n",
       " 'SILW',\n",
       " 'AFYG',\n",
       " 'HSME',\n",
       " 'FYG',\n",
       " 'ILW',\n",
       " 'SME',\n",
       " 'ME',\n",
       " 'LW',\n",
       " 'YG',\n",
       " 'W',\n",
       " 'E',\n",
       " 'G',\n",
       " 'Y',\n",
       " '']"
      ]
     },
     "metadata": {},
     "execution_count": 31
    }
   ],
   "source": [
    "# 5\n",
    "\"\"\" You have some DNA sequence: AGTACTAGAGCATTCTATGGAG.\n",
    "Find out which peptides could be created from it and sort them by their length.\n",
    "Use as much Biopython modules as possible.\n",
    "\"\"\"\n",
    "from Bio.Seq import Seq\n",
    "\n",
    "def get_peptides(seq):\n",
    "    peptides = set()\n",
    "\n",
    "    for i in range(len(seq)-2):\n",
    "        peptides.add(str(Seq(seq[i:]).translate(to_stop=True)))\n",
    "\n",
    "    return sorted(peptides, key=len, reverse = True)\n",
    "\n",
    "\n",
    "seq = 'AGTACTAGAGCATTCTATGGAG'\n",
    "get_peptides(seq)"
   ]
  },
  {
   "cell_type": "code",
   "execution_count": null,
   "metadata": {},
   "outputs": [],
   "source": [
    "# 6\n",
    "\"\"\" TASK: Try to create one-line function (without (!!!) using Bio package) \n",
    "that returns reverse complementary to a given sequence. \n",
    "Hint: using dictionaty & list comprehensions might be helpful.\n",
    "\"\"\"\n",
    "\n",
    "compl_dict = {'A': 'T', 'C': 'G', 'G': 'C', 'T': 'A'}\n",
    "\n",
    "def rev_compl_one_line(seq):\n",
    "    return \"\".join(compl_dict.get(s) for s in reversed(seq))\n",
    "\n",
    "print(rev_compl_one_line(\"TCGGGCCC\"))"
   ]
  }
 ],
 "metadata": {
  "kernelspec": {
   "display_name": "Python 3",
   "language": "python",
   "name": "python3"
  },
  "language_info": {
   "codemirror_mode": {
    "name": "ipython",
    "version": 3
   },
   "file_extension": ".py",
   "mimetype": "text/x-python",
   "name": "python",
   "nbconvert_exporter": "python",
   "pygments_lexer": "ipython3",
   "version": "3.9.1"
  }
 },
 "nbformat": 4,
 "nbformat_minor": 2
}