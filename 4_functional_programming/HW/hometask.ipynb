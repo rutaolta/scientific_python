{
 "metadata": {
  "language_info": {
   "codemirror_mode": {
    "name": "ipython",
    "version": 3
   },
   "file_extension": ".py",
   "mimetype": "text/x-python",
   "name": "python",
   "nbconvert_exporter": "python",
   "pygments_lexer": "ipython3",
   "version": "3.9.1"
  },
  "orig_nbformat": 2,
  "kernelspec": {
   "name": "python3",
   "display_name": "Python 3",
   "language": "python"
  }
 },
 "nbformat": 4,
 "nbformat_minor": 2,
 "cells": [
  {
   "source": [
    "# Imports"
   ],
   "cell_type": "markdown",
   "metadata": {}
  },
  {
   "cell_type": "code",
   "execution_count": 8,
   "metadata": {},
   "outputs": [],
   "source": [
    "from print_schema import print_schema\n",
    "import json"
   ]
  },
  {
   "source": [
    "# Definitions"
   ],
   "cell_type": "markdown",
   "metadata": {}
  },
  {
   "cell_type": "code",
   "execution_count": 107,
   "metadata": {},
   "outputs": [],
   "source": [
    "def DFS(v, edges, visited):\n",
    "    for u in edges:\n",
    "        if v == u[0]:\n",
    "            if visited[u[1]] == 0:\n",
    "                visited[u[1]] = 1\n",
    "                DFS(u[1], edges, visited)\n",
    "    return\n",
    "\n",
    "def count_descendants(json):\n",
    "    edges = []\n",
    "    graph = {}\n",
    "    for node in json:\n",
    "        for parent in node[\"parents\"]:\n",
    "            edges.append(tuple([parent, node[\"name\"]]))\n",
    "\n",
    "    for node in json:\n",
    "        visited = dict.fromkeys((node[\"name\"] for node in json), 0)\n",
    "        DFS(node[\"name\"], edges, visited)\n",
    "        graph[node[\"name\"]] = sum(visited.values()) + 1\n",
    "        \n",
    "    for i in sorted(graph.items()):\n",
    "        print(i[0], i[1], sep = \" : \")\n",
    "\n",
    "    # print(graph)\n"
   ]
  },
  {
   "source": [
    "# Usage"
   ],
   "cell_type": "markdown",
   "metadata": {}
  },
  {
   "cell_type": "code",
   "execution_count": 111,
   "metadata": {},
   "outputs": [],
   "source": [
    "\n",
    "json1 = json.loads('[{\"name\": \"A\", \"parents\": []}, {\"name\": \"B\", \"parents\": [\"A\", \"C\"]}, {\"name\": \"C\", \"parents\": [\"A\"]}]')\n",
    "json2 = json.loads('[{\"name\": \"B\", \"parents\": [\"A\", \"C\"]}, {\"name\": \"C\", \"parents\": [\"A\"]}, {\"name\": \"A\", \"parents\": []}, {\"name\": \"D\", \"parents\": [\"C\", \"F\"]}, {\"name\": \"E\", \"parents\": [\"D\"]}, {\"name\": \"F\", \"parents\": []}]')"
   ]
  },
  {
   "cell_type": "code",
   "execution_count": 112,
   "metadata": {},
   "outputs": [
    {
     "output_type": "stream",
     "name": "stdout",
     "text": [
      "A : 3\nB : 1\nC : 2\n"
     ]
    }
   ],
   "source": [
    "count_descendants(json1)"
   ]
  },
  {
   "cell_type": "code",
   "execution_count": 113,
   "metadata": {},
   "outputs": [
    {
     "output_type": "stream",
     "name": "stdout",
     "text": [
      "A : 5\nB : 1\nC : 4\nD : 2\nE : 1\nF : 3\n"
     ]
    }
   ],
   "source": [
    "count_descendants(json2)"
   ]
  },
  {
   "cell_type": "code",
   "execution_count": null,
   "metadata": {},
   "outputs": [],
   "source": []
  }
 ]
}