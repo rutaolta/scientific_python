{
 "metadata": {
  "language_info": {
   "codemirror_mode": {
    "name": "ipython",
    "version": 3
   },
   "file_extension": ".py",
   "mimetype": "text/x-python",
   "name": "python",
   "nbconvert_exporter": "python",
   "pygments_lexer": "ipython3",
   "version": "3.9.1"
  },
  "orig_nbformat": 2,
  "kernelspec": {
   "name": "python391jvsc74a57bd03a418b07fd5400f317de4a92c936444f986c31777539c5c11d8d28b86a4eb65d",
   "display_name": "Python 3.9.1 64-bit ('base': conda)"
  },
  "metadata": {
   "interpreter": {
    "hash": "3a418b07fd5400f317de4a92c936444f986c31777539c5c11d8d28b86a4eb65d"
   }
  }
 },
 "nbformat": 4,
 "nbformat_minor": 2,
 "cells": [
  {
   "source": [
    "# Imports"
   ],
   "cell_type": "markdown",
   "metadata": {}
  },
  {
   "source": [
    "import re"
   ],
   "cell_type": "code",
   "metadata": {},
   "execution_count": 27,
   "outputs": []
  },
  {
   "source": [
    "# Defitions"
   ],
   "cell_type": "markdown",
   "metadata": {}
  },
  {
   "cell_type": "code",
   "execution_count": 28,
   "metadata": {},
   "outputs": [],
   "source": [
    "# The probability that if N random DNA strings having the same length as s are constructed with GC-content x, \n",
    "# then at least one of the strings equals s.\n",
    "def get_match(rnd_sample_cnt, gc_content, sample):\n",
    "    at_content = 1 - gc_content\n",
    "    gc = len(re.findall(\"(G|C)\", sample))\n",
    "    at = len(sample) - gc\n",
    "\n",
    "    q = (gc_content / 2) ** gc * (at_content / 2) ** at # probability of the same string\n",
    "\n",
    "    p = 1 - (1 - q) ** rnd_sample_cnt # 1 - probability that each string is not the same\n",
    "\n",
    "    return round(p, 3)\n"
   ]
  },
  {
   "source": [
    "# Usage"
   ],
   "cell_type": "markdown",
   "metadata": {}
  },
  {
   "cell_type": "code",
   "execution_count": 29,
   "metadata": {},
   "outputs": [
    {
     "output_type": "execute_result",
     "data": {
      "text/plain": [
       "0.689"
      ]
     },
     "metadata": {},
     "execution_count": 29
    }
   ],
   "source": [
    "rnd_sample_cnt = 90_000\n",
    "gc_content = 0.6\n",
    "sample = 'ATAGCCGA'\n",
    "\n",
    "\n",
    "get_match(rnd_sample_cnt, gc_content, sample) #0.689"
   ]
  }
 ]
}