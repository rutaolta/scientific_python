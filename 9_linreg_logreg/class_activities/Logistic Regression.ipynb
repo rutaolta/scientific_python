{
 "cells": [
  {
   "cell_type": "code",
   "execution_count": 3,
   "metadata": {},
   "outputs": [],
   "source": [
    "import os\n",
    "import pandas as pd # data processing\n",
    "import numpy as np # working with arrays\n",
    "import itertools # construct specialized tools\n",
    "import matplotlib.pyplot as plt # visualizations\n",
    "import seaborn as sns\n",
    "from matplotlib import rcParams # plot size customization\n",
    "from termcolor import colored as cl # text customization\n",
    "from sklearn.model_selection import train_test_split # splitting the data\n",
    "from sklearn.linear_model import LogisticRegression # model algorithm\n",
    "from sklearn.preprocessing import StandardScaler # data normalization\n",
    "from sklearn.metrics import precision_score # evaluation metric\n",
    "from sklearn.metrics import classification_report # evaluation metric\n",
    "from sklearn.metrics import confusion_matrix # evaluation metric\n",
    "from sklearn.metrics import log_loss # evaluation metric\n",
    "from sklearn.metrics import roc_auc_score\n",
    "from sklearn.metrics import roc_curve\n",
    "\n",
    "rcParams['figure.figsize'] = (5, 5)\n",
    "os.chdir(\"/home/octopus/Documents/2scripts/ScientificPython/3_ML/Lecture9_LinR_LogR_BC/\")"
   ]
  },
  {
   "cell_type": "code",
   "execution_count": 4,
   "metadata": {},
   "outputs": [
    {
     "data": {
      "text/html": [
       "<div>\n",
       "<style scoped>\n",
       "    .dataframe tbody tr th:only-of-type {\n",
       "        vertical-align: middle;\n",
       "    }\n",
       "\n",
       "    .dataframe tbody tr th {\n",
       "        vertical-align: top;\n",
       "    }\n",
       "\n",
       "    .dataframe thead th {\n",
       "        text-align: right;\n",
       "    }\n",
       "</style>\n",
       "<table border=\"1\" class=\"dataframe\">\n",
       "  <thead>\n",
       "    <tr style=\"text-align: right;\">\n",
       "      <th></th>\n",
       "      <th>Pregnancies</th>\n",
       "      <th>Glucose</th>\n",
       "      <th>BloodPressure</th>\n",
       "      <th>SkinThickness</th>\n",
       "      <th>Insulin</th>\n",
       "      <th>BMI</th>\n",
       "      <th>DiabetesPedigreeFunction</th>\n",
       "      <th>Age</th>\n",
       "      <th>Outcome</th>\n",
       "    </tr>\n",
       "  </thead>\n",
       "  <tbody>\n",
       "    <tr>\n",
       "      <th>0</th>\n",
       "      <td>6</td>\n",
       "      <td>148</td>\n",
       "      <td>72</td>\n",
       "      <td>35</td>\n",
       "      <td>0</td>\n",
       "      <td>33.6</td>\n",
       "      <td>0.627</td>\n",
       "      <td>50</td>\n",
       "      <td>1</td>\n",
       "    </tr>\n",
       "    <tr>\n",
       "      <th>1</th>\n",
       "      <td>1</td>\n",
       "      <td>85</td>\n",
       "      <td>66</td>\n",
       "      <td>29</td>\n",
       "      <td>0</td>\n",
       "      <td>26.6</td>\n",
       "      <td>0.351</td>\n",
       "      <td>31</td>\n",
       "      <td>0</td>\n",
       "    </tr>\n",
       "    <tr>\n",
       "      <th>2</th>\n",
       "      <td>8</td>\n",
       "      <td>183</td>\n",
       "      <td>64</td>\n",
       "      <td>0</td>\n",
       "      <td>0</td>\n",
       "      <td>23.3</td>\n",
       "      <td>0.672</td>\n",
       "      <td>32</td>\n",
       "      <td>1</td>\n",
       "    </tr>\n",
       "    <tr>\n",
       "      <th>3</th>\n",
       "      <td>1</td>\n",
       "      <td>89</td>\n",
       "      <td>66</td>\n",
       "      <td>23</td>\n",
       "      <td>94</td>\n",
       "      <td>28.1</td>\n",
       "      <td>0.167</td>\n",
       "      <td>21</td>\n",
       "      <td>0</td>\n",
       "    </tr>\n",
       "    <tr>\n",
       "      <th>4</th>\n",
       "      <td>0</td>\n",
       "      <td>137</td>\n",
       "      <td>40</td>\n",
       "      <td>35</td>\n",
       "      <td>168</td>\n",
       "      <td>43.1</td>\n",
       "      <td>2.288</td>\n",
       "      <td>33</td>\n",
       "      <td>1</td>\n",
       "    </tr>\n",
       "  </tbody>\n",
       "</table>\n",
       "</div>"
      ],
      "text/plain": [
       "   Pregnancies  Glucose  BloodPressure  SkinThickness  Insulin   BMI  \\\n",
       "0            6      148             72             35        0  33.6   \n",
       "1            1       85             66             29        0  26.6   \n",
       "2            8      183             64              0        0  23.3   \n",
       "3            1       89             66             23       94  28.1   \n",
       "4            0      137             40             35      168  43.1   \n",
       "\n",
       "   DiabetesPedigreeFunction  Age  Outcome  \n",
       "0                     0.627   50        1  \n",
       "1                     0.351   31        0  \n",
       "2                     0.672   32        1  \n",
       "3                     0.167   21        0  \n",
       "4                     2.288   33        1  "
      ]
     },
     "execution_count": 4,
     "metadata": {},
     "output_type": "execute_result"
    }
   ],
   "source": [
    "df = pd.read_csv('data/diabetes.csv')\n",
    "# https://www.kaggle.com/uciml/pima-indians-diabetes-database\n",
    "\n",
    "df.head()"
   ]
  },
  {
   "cell_type": "code",
   "execution_count": 5,
   "metadata": {},
   "outputs": [],
   "source": [
    "# df.describe()\n",
    "# sns.pairplot(df)\n",
    "# sns.heatmap(df.corr(), annot=True, cmap=\"Blues\", linewidths=5)"
   ]
  },
  {
   "cell_type": "code",
   "execution_count": 6,
   "metadata": {},
   "outputs": [
    {
     "name": "stdout",
     "output_type": "stream",
     "text": [
      "\u001b[1mX_var samples : \u001b[0m [[6.000e+00 1.480e+02 7.200e+01 3.500e+01 0.000e+00 3.360e+01 6.270e-01\n",
      "  5.000e+01]\n",
      " [1.000e+00 8.500e+01 6.600e+01 2.900e+01 0.000e+00 2.660e+01 3.510e-01\n",
      "  3.100e+01]\n",
      " [8.000e+00 1.830e+02 6.400e+01 0.000e+00 0.000e+00 2.330e+01 6.720e-01\n",
      "  3.200e+01]\n",
      " [1.000e+00 8.900e+01 6.600e+01 2.300e+01 9.400e+01 2.810e+01 1.670e-01\n",
      "  2.100e+01]\n",
      " [0.000e+00 1.370e+02 4.000e+01 3.500e+01 1.680e+02 4.310e+01 2.288e+00\n",
      "  3.300e+01]]\n",
      "\u001b[1my_var samples : \u001b[0m [1 0 1 0 1]\n"
     ]
    }
   ],
   "source": [
    "X_var = np.asarray(df.iloc[:,:-1])\n",
    "y_var = np.asarray(df['Outcome'])\n",
    "\n",
    "print(cl('X_var samples : ', attrs = ['bold']), X_var[:5])\n",
    "print(cl('y_var samples : ', attrs = ['bold']), y_var[:5])"
   ]
  },
  {
   "cell_type": "code",
   "execution_count": 7,
   "metadata": {},
   "outputs": [
    {
     "name": "stdout",
     "output_type": "stream",
     "text": [
      "\u001b[1mX_train samples : \u001b[0m [[  1.     97.     66.     15.    140.     23.2     0.487  22.   ]\n",
      " [  2.     75.     64.     24.     55.     29.7     0.37   33.   ]\n",
      " [  5.    126.     78.     27.     22.     29.6     0.439  40.   ]\n",
      " [  6.    104.     74.     18.    156.     29.9     0.722  41.   ]\n",
      " [  1.    126.     56.     29.    152.     28.7     0.801  21.   ]]\n",
      "\u001b[1mX_test samples : \u001b[0m [[0.00e+00 1.65e+02 9.00e+01 3.30e+01 6.80e+02 5.23e+01 4.27e-01 2.30e+01]\n",
      " [0.00e+00 1.46e+02 7.00e+01 0.00e+00 0.00e+00 3.79e+01 3.34e-01 2.80e+01]\n",
      " [4.00e+00 1.14e+02 6.50e+01 0.00e+00 0.00e+00 2.19e+01 4.32e-01 3.70e+01]\n",
      " [1.10e+01 1.27e+02 1.06e+02 0.00e+00 0.00e+00 3.90e+01 1.90e-01 5.10e+01]\n",
      " [2.00e+00 8.30e+01 6.60e+01 2.30e+01 5.00e+01 3.22e+01 4.97e-01 2.20e+01]]\n",
      "\u001b[1my_train samples : \u001b[0m [0 0 0 1 0 0 1 0 0 1]\n",
      "\u001b[1my_test samples : \u001b[0m [0 1 0 0 0 1 1 0 0 1]\n"
     ]
    }
   ],
   "source": [
    "X_train, X_test, y_train, y_test = train_test_split(X_var, \n",
    "                                                    y_var, \n",
    "                                                    test_size = 0.3)\n",
    "\n",
    "print(cl('X_train samples : ', attrs = ['bold']), X_train[:5])\n",
    "print(cl('X_test samples : ', attrs = ['bold']), X_test[:5])\n",
    "print(cl('y_train samples : ', attrs = ['bold']), y_train[:10])\n",
    "print(cl('y_test samples : ', attrs = ['bold']), y_test[:10])"
   ]
  },
  {
   "cell_type": "code",
   "execution_count": 10,
   "metadata": {},
   "outputs": [
    {
     "name": "stdout",
     "output_type": "stream",
     "text": [
      "\u001b[1mLogisticRegression(solver='liblinear')\u001b[0m\n"
     ]
    }
   ],
   "source": [
    "# Modelling\n",
    "\n",
    "# lr = LogisticRegression()\n",
    "lr = LogisticRegression(solver = 'liblinear')\n",
    "lr.fit(X_train,y_train)\n",
    "\n",
    "print(cl(lr, attrs = ['bold']))"
   ]
  },
  {
   "cell_type": "markdown",
   "metadata": {},
   "source": [
    "The version of Logistic Regression in Scikit-learn, support regularization. Regularization is a technique used to solve the overfitting problem in machine learning models. ‘C’ parameter indicates inverse of regularization strength which must be a positive float. Smaller values specify stronger regularization. Now, let's fit our model with the train set in python."
   ]
  },
  {
   "cell_type": "code",
   "execution_count": 8,
   "metadata": {},
   "outputs": [
    {
     "name": "stdout",
     "output_type": "stream",
     "text": [
      "[0 1]\n",
      "[-5.09340864]\n",
      "[[ 0.10152804  0.02875716 -0.01596423  0.00148488 -0.00101315  0.04502143\n",
      "   0.20678836  0.00394436]]\n"
     ]
    }
   ],
   "source": [
    "print(lr.classes_)\n",
    "print(lr.intercept_)\n",
    "print(lr.coef_)"
   ]
  },
  {
   "cell_type": "code",
   "execution_count": 11,
   "metadata": {},
   "outputs": [
    {
     "name": "stdout",
     "output_type": "stream",
     "text": [
      "\u001b[1myhat samples : \u001b[0m [1 0 0 0 0 1 1 0 0 0]\n",
      "\u001b[1myhat_prob samples : \u001b[0m [[0.47996921 0.52003079]\n",
      " [0.60405408 0.39594592]\n",
      " [0.78442059 0.21557941]\n",
      " [0.51855757 0.48144243]\n",
      " [0.8832369  0.1167631 ]\n",
      " [0.28519933 0.71480067]\n",
      " [0.29049948 0.70950052]\n",
      " [0.87721032 0.12278968]\n",
      " [0.8110618  0.1889382 ]\n",
      " [0.98172616 0.01827384]]\n"
     ]
    }
   ],
   "source": [
    "# Predictions\n",
    "\n",
    "yhat = lr.predict(X_test)\n",
    "yhat_prob = lr.predict_proba(X_test)\n",
    "\n",
    "print(cl('yhat samples : ', attrs = ['bold']), yhat[:10])\n",
    "print(cl('yhat_prob samples : ', attrs = ['bold']), yhat_prob[:10])\n",
    "\n",
    "# prob to be 0 | prob to be 1"
   ]
  },
  {
   "cell_type": "markdown",
   "metadata": {},
   "source": [
    "#### Model evaluation:"
   ]
  },
  {
   "cell_type": "code",
   "execution_count": 10,
   "metadata": {},
   "outputs": [
    {
     "name": "stdout",
     "output_type": "stream",
     "text": [
      "\u001b[1m              precision    recall  f1-score   support\n",
      "\n",
      "           0       0.79      0.92      0.85       151\n",
      "           1       0.78      0.53      0.63        80\n",
      "\n",
      "    accuracy                           0.78       231\n",
      "   macro avg       0.78      0.72      0.74       231\n",
      "weighted avg       0.78      0.78      0.77       231\n",
      "\u001b[0m\n"
     ]
    }
   ],
   "source": [
    "print(cl(classification_report(y_test, yhat), attrs = ['bold']))"
   ]
  },
  {
   "cell_type": "code",
   "execution_count": 12,
   "metadata": {},
   "outputs": [
    {
     "data": {
      "text/plain": [
       "array([[ 46,  40],\n",
       "       [ 19, 126]])"
      ]
     },
     "execution_count": 12,
     "metadata": {},
     "output_type": "execute_result"
    }
   ],
   "source": [
    "confusion_matrix(y_test, yhat, labels = [1,0])"
   ]
  },
  {
   "cell_type": "code",
   "execution_count": 13,
   "metadata": {},
   "outputs": [
    {
     "data": {
      "image/png": "[encoded data removed]",
      "text/plain": [
       "<Figure size 360x360 with 2 Axes>"
      ]
     },
     "metadata": {
      "needs_background": "light"
     },
     "output_type": "display_data"
    }
   ],
   "source": [
    "def plot_confusion_matrix(cm, classes,normalize = False, title = 'Confusion matrix', cmap = plt.cm.Blues):\n",
    "    \n",
    "    if normalize:\n",
    "        cm = cm.astype(float) / cm.sum(axis=1)[:, np.newaxis]\n",
    "\n",
    "    plt.imshow(cm, interpolation = 'nearest', cmap = cmap)\n",
    "    plt.title(title, fontsize = 22)\n",
    "    plt.colorbar()\n",
    "    tick_marks = np.arange(len(classes))\n",
    "    plt.xticks(tick_marks, classes, rotation = 45, fontsize = 13)\n",
    "    plt.yticks(tick_marks, classes, fontsize = 13)\n",
    "\n",
    "    fmt = '.2f' if normalize else 'd'\n",
    "    thresh = cm.max() / 2.\n",
    "    for i, j in itertools.product(range(cm.shape[0]), range(cm.shape[1])):\n",
    "        plt.text(j, i, format(cm[i, j], fmt),\n",
    "                 horizontalalignment = 'center',\n",
    "                 fontsize = 15,\n",
    "                 color = 'white' if cm[i, j] > thresh else 'black')\n",
    "\n",
    "    plt.tight_layout()\n",
    "    plt.ylabel('True label', fontsize = 16)\n",
    "    plt.xlabel('Predicted label', fontsize = 16)\n",
    "\n",
    "# Compute confusion matrix\n",
    "\n",
    "cnf_matrix = confusion_matrix(y_test, yhat, labels = [1,0])\n",
    "np.set_printoptions(precision = 2)\n",
    "\n",
    "\n",
    "# Plot non-normalized confusion matrix\n",
    "\n",
    "plot_confusion_matrix(cnf_matrix, classes = ['outcome=1','outcome=0'], \n",
    "                      normalize = False,  \n",
    "                      title = 'Confusion matrix')"
   ]
  },
  {
   "cell_type": "markdown",
   "metadata": {},
   "source": [
    "The receiver operating characteristic (ROC) curve is another common tool used with binary classifiers. The dotted line represents the ROC curve of a purely random classifier; a good classifier stays as far away from that line as possible (toward the top-left corner)."
   ]
  },
  {
   "cell_type": "code",
   "execution_count": 13,
   "metadata": {},
   "outputs": [
    {
     "data": {
      "image/png": "[encoded data removed]",
      "text/plain": [
       "<Figure size 360x360 with 1 Axes>"
      ]
     },
     "metadata": {
      "needs_background": "light"
     },
     "output_type": "display_data"
    }
   ],
   "source": [
    "logit_roc_auc = roc_auc_score(y_test, lr.predict(X_test))\n",
    "fpr, tpr, thresholds = roc_curve(y_test, lr.predict_proba(X_test)[:,1])\n",
    "plt.figure()\n",
    "plt.plot(fpr, tpr, label='Logistic Regression (area = %0.2f)' % logit_roc_auc)\n",
    "plt.plot([0, 1], [0, 1],'r--')\n",
    "plt.xlim([0.0, 1.0])\n",
    "plt.ylim([0.0, 1.05])\n",
    "plt.xlabel('False Positive Rate')\n",
    "plt.ylabel('True Positive Rate')\n",
    "plt.title('Receiver operating characteristic')\n",
    "plt.legend(loc=\"lower right\")\n",
    "plt.savefig('Log_ROC')\n",
    "plt.show()\n"
   ]
  },
  {
   "cell_type": "code",
   "execution_count": null,
   "metadata": {},
   "outputs": [],
   "source": []
  },
  {
   "cell_type": "code",
   "execution_count": null,
   "metadata": {},
   "outputs": [],
   "source": []
  },
  {
   "cell_type": "markdown",
   "metadata": {},
   "source": [
    "## 'digits' dataset"
   ]
  },
  {
   "cell_type": "code",
   "execution_count": 14,
   "metadata": {},
   "outputs": [],
   "source": [
    "import matplotlib.pyplot as plt\n",
    "import numpy as np\n",
    "from sklearn.datasets import load_digits\n",
    "from sklearn.linear_model import LogisticRegression\n",
    "from sklearn.metrics import classification_report, confusion_matrix\n",
    "from sklearn.model_selection import train_test_split\n",
    "from sklearn.preprocessing import StandardScaler\n",
    "\n",
    "from sklearn.datasets import load_digits"
   ]
  },
  {
   "cell_type": "code",
   "execution_count": 15,
   "metadata": {},
   "outputs": [
    {
     "name": "stdout",
     "output_type": "stream",
     "text": [
      "(1797, 64)\n"
     ]
    }
   ],
   "source": [
    "digits = load_digits()\n",
    "print(digits.data.shape)\n",
    "# Each image has 64 px, with a width of 8 px and a height of 8 px."
   ]
  },
  {
   "cell_type": "markdown",
   "metadata": {},
   "source": [
    "The inputs (𝐱) are vectors with 64 dimensions or values. Each input vector describes one image. Each of the 64 values represents one pixel of the image. The input values are the integers between 0 and 16, depending on the shade of gray for the corresponding pixel. The output (𝑦) for each observation is an integer between 0 and 9, consistent with the digit on the image. There are ten classes in total, each corresponding to one image."
   ]
  },
  {
   "cell_type": "code",
   "execution_count": 16,
   "metadata": {},
   "outputs": [
    {
     "data": {
      "text/plain": [
       "<Figure size 360x360 with 0 Axes>"
      ]
     },
     "metadata": {},
     "output_type": "display_data"
    },
    {
     "data": {
      "image/png": "[encoded data removed]",
      "text/plain": [
       "<Figure size 360x360 with 1 Axes>"
      ]
     },
     "metadata": {
      "needs_background": "light"
     },
     "output_type": "display_data"
    }
   ],
   "source": [
    "plt.gray() \n",
    "plt.matshow(digits.images[0]) \n",
    "plt.show() "
   ]
  },
  {
   "cell_type": "code",
   "execution_count": 17,
   "metadata": {},
   "outputs": [
    {
     "data": {
      "text/plain": [
       "array([[ 0.,  0.,  5., 13.,  9.,  1.,  0.,  0.],\n",
       "       [ 0.,  0., 13., 15., 10., 15.,  5.,  0.],\n",
       "       [ 0.,  3., 15.,  2.,  0., 11.,  8.,  0.],\n",
       "       [ 0.,  4., 12.,  0.,  0.,  8.,  8.,  0.],\n",
       "       [ 0.,  5.,  8.,  0.,  0.,  9.,  8.,  0.],\n",
       "       [ 0.,  4., 11.,  0.,  1., 12.,  7.,  0.],\n",
       "       [ 0.,  2., 14.,  5., 10., 12.,  0.,  0.],\n",
       "       [ 0.,  0.,  6., 13., 10.,  0.,  0.,  0.]])"
      ]
     },
     "execution_count": 17,
     "metadata": {},
     "output_type": "execute_result"
    }
   ],
   "source": [
    "digits.images[0]"
   ]
  },
  {
   "cell_type": "code",
   "execution_count": 18,
   "metadata": {},
   "outputs": [],
   "source": [
    "x, y = load_digits(return_X_y=True)"
   ]
  },
  {
   "cell_type": "code",
   "execution_count": 19,
   "metadata": {},
   "outputs": [
    {
     "name": "stdout",
     "output_type": "stream",
     "text": [
      "1797\n",
      "1797\n"
     ]
    }
   ],
   "source": [
    "print(len(x))\n",
    "print(len(y))"
   ]
  },
  {
   "cell_type": "code",
   "execution_count": 20,
   "metadata": {},
   "outputs": [
    {
     "data": {
      "text/plain": [
       "array([ 0.,  0.,  5., 13.,  9.,  1.,  0.,  0.,  0.,  0., 13., 15., 10.,\n",
       "       15.,  5.,  0.,  0.,  3., 15.,  2.,  0., 11.,  8.,  0.,  0.,  4.,\n",
       "       12.,  0.,  0.,  8.,  8.,  0.,  0.,  5.,  8.,  0.,  0.,  9.,  8.,\n",
       "        0.,  0.,  4., 11.,  0.,  1., 12.,  7.,  0.,  0.,  2., 14.,  5.,\n",
       "       10., 12.,  0.,  0.,  0.,  0.,  6., 13., 10.,  0.,  0.,  0.])"
      ]
     },
     "execution_count": 20,
     "metadata": {},
     "output_type": "execute_result"
    }
   ],
   "source": [
    "x[0]"
   ]
  },
  {
   "cell_type": "code",
   "execution_count": 21,
   "metadata": {},
   "outputs": [
    {
     "name": "stdout",
     "output_type": "stream",
     "text": [
      "0\n",
      "[0 1 2 ... 8 9 8]\n"
     ]
    }
   ],
   "source": [
    "print(y[0])\n",
    "print(y)"
   ]
  },
  {
   "cell_type": "code",
   "execution_count": 22,
   "metadata": {},
   "outputs": [
    {
     "data": {
      "text/plain": [
       "<Figure size 360x360 with 0 Axes>"
      ]
     },
     "metadata": {},
     "output_type": "display_data"
    },
    {
     "data": {
      "image/png": "[encoded data removed]",
      "text/plain": [
       "<Figure size 360x360 with 1 Axes>"
      ]
     },
     "metadata": {
      "needs_background": "light"
     },
     "output_type": "display_data"
    }
   ],
   "source": [
    "plt.gray() \n",
    "plt.matshow(x[0].reshape(8,8)) \n",
    "plt.show() "
   ]
  },
  {
   "cell_type": "code",
   "execution_count": 23,
   "metadata": {},
   "outputs": [],
   "source": [
    "x_train, x_test, y_train, y_test = train_test_split(x, y, \n",
    "                                                    test_size=0.2)\n",
    "# x_train: the part of x used to fit the model\n",
    "# x_test: the part of x used to evaluate the model\n",
    "# y_train: the part of y that corresponds to x_train\n",
    "# y_test: the part of y that corresponds to x_test"
   ]
  },
  {
   "cell_type": "code",
   "execution_count": 24,
   "metadata": {},
   "outputs": [],
   "source": [
    "scaler = StandardScaler()\n",
    "x_train_sc = scaler.fit_transform(x_train)\n",
    "x_test_sc = scaler.fit_transform(x_test)"
   ]
  },
  {
   "cell_type": "markdown",
   "metadata": {},
   "source": [
    "Standardization is the process of transforming data in a way such that the mean of each column becomes equal to zero, and the standard deviation of each column is one. This way, you obtain the same scale for all columns. Take the following steps to standardize your data:\n",
    "1. Calculate the mean and standard deviation for each column.\n",
    "2. Subtract the corresponding mean from each element.\n",
    "3. Divide the obtained difference by the corresponding standard deviation.\n",
    "\n",
    "It’s a good practice to standardize the input data that you use for logistic regression, although in many cases it’s not necessary. Standardization might improve the performance of your algorithm. It helps if you need to compare and interpret the weights. It’s important when you apply penalization because the algorithm is actually penalizing against the large values of the weights."
   ]
  },
  {
   "cell_type": "code",
   "execution_count": 25,
   "metadata": {},
   "outputs": [
    {
     "data": {
      "text/plain": [
       "array([[ 0.  , -0.33, -0.03,  0.26,  0.27,  0.38, -0.41, -0.13],\n",
       "       [-0.07, -0.62,  1.05, -0.23,  0.59,  1.28,  1.16, -0.13],\n",
       "       [-0.05, -0.45,  1.07, -0.34, -0.81,  0.99,  2.27, -0.12],\n",
       "       [-0.04, -0.79, -0.01,  1.22,  0.98,  1.27, -0.63, -0.05],\n",
       "       [ 0.  , -0.68,  0.37,  1.11,  0.62,  0.92, -0.81,  0.  ],\n",
       "       [-0.06,  1.15,  1.23, -0.48, -1.21,  1.37,  0.58, -0.09],\n",
       "       [-0.04,  3.  ,  1.15, -0.47, -0.61,  1.2 ,  0.06, -0.21],\n",
       "       [-0.03, -0.3 ,  0.3 ,  0.67,  0.85,  0.54, -0.5 , -0.19]])"
      ]
     },
     "execution_count": 25,
     "metadata": {},
     "output_type": "execute_result"
    }
   ],
   "source": [
    "x_train_sc[0].reshape(8,8)"
   ]
  },
  {
   "cell_type": "code",
   "execution_count": 26,
   "metadata": {},
   "outputs": [
    {
     "data": {
      "text/plain": [
       "<Figure size 360x360 with 0 Axes>"
      ]
     },
     "metadata": {},
     "output_type": "display_data"
    },
    {
     "data": {
      "image/png": "[encoded data removed]",
      "text/plain": [
       "<Figure size 360x360 with 1 Axes>"
      ]
     },
     "metadata": {
      "needs_background": "light"
     },
     "output_type": "display_data"
    }
   ],
   "source": [
    "plt.gray() \n",
    "plt.matshow(x_train_sc[0].reshape(8,8)) \n",
    "plt.show() "
   ]
  },
  {
   "cell_type": "code",
   "execution_count": 27,
   "metadata": {},
   "outputs": [
    {
     "data": {
      "text/plain": [
       "LogisticRegression(multi_class='multinomial')"
      ]
     },
     "execution_count": 27,
     "metadata": {},
     "output_type": "execute_result"
    }
   ],
   "source": [
    "model = LogisticRegression(multi_class='multinomial')\n",
    "model.fit(x_train_sc, y_train)\n",
    "\n",
    "# Multinomial logistic regression is a classification method that generalizes logistic regression \n",
    "# to multiclass problems, i.e. with more than two possible discrete outcomes."
   ]
  },
  {
   "cell_type": "code",
   "execution_count": 28,
   "metadata": {},
   "outputs": [
    {
     "name": "stdout",
     "output_type": "stream",
     "text": [
      "0.9979123173277662\n",
      "0.9777777777777777\n"
     ]
    }
   ],
   "source": [
    "x_test = scaler.transform(x_test_sc)\n",
    "y_pred = model.predict(x_test_sc)\n",
    "print(model.score(x_train_sc, y_train))\n",
    "print(model.score(x_test_sc, y_test))"
   ]
  },
  {
   "cell_type": "code",
   "execution_count": 29,
   "metadata": {},
   "outputs": [
    {
     "data": {
      "text/plain": [
       "array([[29,  0,  0,  0,  0,  0,  0,  0,  0,  0],\n",
       "       [ 0, 33,  0,  0,  0,  0,  1,  0,  1,  0],\n",
       "       [ 0,  0, 44,  0,  0,  0,  0,  0,  0,  0],\n",
       "       [ 0,  0,  0, 38,  0,  0,  0,  0,  0,  0],\n",
       "       [ 0,  0,  0,  0, 44,  0,  0,  0,  0,  0],\n",
       "       [ 0,  0,  0,  0,  1, 32,  1,  0,  0,  1],\n",
       "       [ 0,  0,  0,  0,  0,  0, 32,  0,  0,  0],\n",
       "       [ 0,  0,  0,  0,  0,  0,  0, 34,  0,  0],\n",
       "       [ 0,  1,  0,  0,  0,  0,  0,  0, 32,  0],\n",
       "       [ 0,  0,  0,  0,  0,  0,  0,  1,  1, 34]])"
      ]
     },
     "execution_count": 29,
     "metadata": {},
     "output_type": "execute_result"
    }
   ],
   "source": [
    "confusion_matrix(y_test, y_pred)"
   ]
  },
  {
   "cell_type": "code",
   "execution_count": 30,
   "metadata": {},
   "outputs": [
    {
     "data": {
      "image/png": "[encoded data removed]",
      "text/plain": [
       "<Figure size 576x576 with 1 Axes>"
      ]
     },
     "metadata": {
      "needs_background": "light"
     },
     "output_type": "display_data"
    }
   ],
   "source": [
    "font_size = 1\n",
    "\n",
    "cm = confusion_matrix(y_test, y_pred)\n",
    "\n",
    "fig, ax = plt.subplots(figsize=(8, 8))\n",
    "ax.imshow(cm)\n",
    "ax.grid(False)\n",
    "ax.set_xlabel('Predicted outputs', fontsize=font_size, color='black')\n",
    "ax.set_ylabel('Actual outputs', fontsize=font_size, color='black')\n",
    "ax.xaxis.set(ticks=range(10))\n",
    "ax.yaxis.set(ticks=range(10))\n",
    "ax.set_ylim(9.5, -0.5)\n",
    "for i in range(10):\n",
    "    for j in range(10):\n",
    "        ax.text(j, i, cm[i, j], ha='center', va='center', color='white')\n",
    "plt.show()"
   ]
  },
  {
   "cell_type": "code",
   "execution_count": 31,
   "metadata": {},
   "outputs": [
    {
     "name": "stdout",
     "output_type": "stream",
     "text": [
      "              precision    recall  f1-score   support\n",
      "\n",
      "           0       1.00      1.00      1.00        29\n",
      "           1       0.97      0.94      0.96        35\n",
      "           2       1.00      1.00      1.00        44\n",
      "           3       1.00      1.00      1.00        38\n",
      "           4       0.98      1.00      0.99        44\n",
      "           5       1.00      0.91      0.96        35\n",
      "           6       0.94      1.00      0.97        32\n",
      "           7       0.97      1.00      0.99        34\n",
      "           8       0.94      0.97      0.96        33\n",
      "           9       0.97      0.94      0.96        36\n",
      "\n",
      "    accuracy                           0.98       360\n",
      "   macro avg       0.98      0.98      0.98       360\n",
      "weighted avg       0.98      0.98      0.98       360\n",
      "\n"
     ]
    }
   ],
   "source": [
    "print(classification_report(y_test, y_pred))"
   ]
  },
  {
   "cell_type": "code",
   "execution_count": null,
   "metadata": {},
   "outputs": [],
   "source": []
  },
  {
   "cell_type": "code",
   "execution_count": null,
   "metadata": {},
   "outputs": [],
   "source": []
  },
  {
   "cell_type": "code",
   "execution_count": null,
   "metadata": {},
   "outputs": [],
   "source": []
  },
  {
   "cell_type": "code",
   "execution_count": null,
   "metadata": {},
   "outputs": [],
   "source": []
  },
  {
   "cell_type": "code",
   "execution_count": null,
   "metadata": {},
   "outputs": [],
   "source": []
  },
  {
   "cell_type": "code",
   "execution_count": null,
   "metadata": {},
   "outputs": [],
   "source": [
    "########################################################\n",
    "# Step: Create a model and train it\n",
    "model = LogisticRegression(solver='liblinear', C=10.0, random_state=0)\n",
    "model.fit(x, y)\n",
    "\n",
    "# Step: Evaluate the model\n",
    "p_pred = model.predict_proba(x)\n",
    "y_pred = model.predict(x)\n",
    "score_ = model.score(x, y)\n",
    "conf_m = confusion_matrix(y, y_pred)\n",
    "report = classification_report(y, y_pred)\n",
    "\n",
    "\n",
    "\n",
    "import statsmodels.api as sm\n",
    "logit_model=sm.Logit(y_train,X_train)\n",
    "result=logit_model.fit()\n",
    "print(result.summary2())\n",
    "########################################################"
   ]
  }
 ],
 "metadata": {
  "kernelspec": {
   "display_name": "Python 3",
   "language": "python",
   "name": "python3"
  },
  "language_info": {
   "codemirror_mode": {
    "name": "ipython",
    "version": 3
   },
   "file_extension": ".py",
   "mimetype": "text/x-python",
   "name": "python",
   "nbconvert_exporter": "python",
   "pygments_lexer": "ipython3",
   "version": "3.7.6"
  }
 },
 "nbformat": 4,
 "nbformat_minor": 4
}
