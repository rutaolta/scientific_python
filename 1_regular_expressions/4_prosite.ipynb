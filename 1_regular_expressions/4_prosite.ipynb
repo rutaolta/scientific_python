{
 "cells": [
  {
   "cell_type": "markdown",
   "metadata": {
    "collapsed": true
   },
   "source": [
    "# Imports"
   ]
  },
  {
   "cell_type": "code",
   "execution_count": 1,
   "metadata": {},
   "outputs": [],
   "source": [
    "import re"
   ]
  },
  {
   "cell_type": "markdown",
   "metadata": {},
   "source": [
    "# Definitions"
   ]
  },
  {
   "cell_type": "code",
   "execution_count": 77,
   "metadata": {},
   "outputs": [],
   "source": [
    "# 1) Download any isocitrate lyase enzyme AA seq from NCBI.\n",
    "# 2) Search a pattern of active site (“Consensus pattern”) of isocitrate lyase enzyme in PROSITE.\n",
    "# 3) Write python script that gives the answer in the following manner: \n",
    "# “Isocitrate lyase (FASTA ID) contains its active site XXXXXX starting from Nth position”\n",
    "\n",
    "\n",
    "def search_sequence(fasta):\n",
    "    return re.search(r'(>.*?])(.*?)$', fasta).group(2)\n",
    "\n",
    "\n",
    "def search_fasta_id(fasta):\n",
    "    return re.search(r'>(.*?) ', fasta).group(1)\n",
    "\n",
    "\n",
    "def search_pattern(pattern, sequence):\n",
    "    res = re.search(pattern, sequence)\n",
    "    return res.group(), res.start() + 1\n",
    "\n",
    "\n",
    "def answer(pattern, fasta):\n",
    "    sequence = search_sequence(fasta)\n",
    "    fasta_id = search_fasta_id(fasta)\n",
    "    active_site, position = search_pattern(pattern, sequence)\n",
    "    return f\"Isocitrate lyase ({fasta_id}) contains its active site {active_site} starting from {position}th position\"\n"
   ]
  },
  {
   "cell_type": "markdown",
   "metadata": {},
   "source": [
    "# Usage"
   ]
  },
  {
   "cell_type": "code",
   "execution_count": 78,
   "metadata": {},
   "outputs": [
    {
     "name": "stdout",
     "output_type": "stream",
     "text": [
      "Isocitrate lyase (ASF67065.1) contains its active site KKCGHM starting from 193th position\n"
     ]
    }
   ],
   "source": [
    "consensus_pattern = 'K[KR]CGH[LMQR]'\n",
    "with open('lyase.fasta', 'r') as file:\n",
    "    sequence = file.read().replace('\\n', '')\n",
    "\n",
    "print(answer(consensus_pattern, sequence))"
   ]
  },
  {
   "cell_type": "code",
   "execution_count": null,
   "metadata": {},
   "outputs": [],
   "source": []
  }
 ],
 "metadata": {
  "kernelspec": {
   "display_name": "Python 3",
   "language": "python",
   "name": "python3"
  },
  "language_info": {
   "codemirror_mode": {
    "name": "ipython",
    "version": 3
   },
   "file_extension": ".py",
   "mimetype": "text/x-python",
   "name": "python",
   "nbconvert_exporter": "python",
   "pygments_lexer": "ipython3",
   "version": "3.7.4"
  }
 },
 "nbformat": 4,
 "nbformat_minor": 1
}
