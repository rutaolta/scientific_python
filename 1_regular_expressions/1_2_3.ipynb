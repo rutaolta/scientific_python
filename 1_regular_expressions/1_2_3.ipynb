{
 "cells": [
  {
   "cell_type": "markdown",
   "metadata": {
    "collapsed": true
   },
   "source": [
    "# Imports"
   ]
  },
  {
   "cell_type": "code",
   "execution_count": null,
   "metadata": {},
   "outputs": [],
   "source": [
    "import re"
   ]
  },
  {
   "cell_type": "markdown",
   "metadata": {},
   "source": [
    "# Definitions"
   ]
  },
  {
   "cell_type": "code",
   "execution_count": 2,
   "metadata": {},
   "outputs": [],
   "source": [
    "# 1. replace all duplicated letters to one\n",
    "def replace_all_dup(s):\n",
    "    return re.sub(r\"(.)\\1+\", r\"\\1\", s)\n",
    "\n",
    "\n",
    "# 2. transform\n",
    "# Mus musculus --> M. musculus\n",
    "# Agalma elegans --> A. elegans\n",
    "# Frillagalma vituazi --> F. vituazi\n",
    "# Cordagalma tottoni --> C. tottoni\n",
    "def transform(s):\n",
    "    return re.sub(r\"(?<=^.)\\w+\", '.', s)\n",
    "\n",
    "\n",
    "# 3. transform with brackets\n",
    "# Mus musculus (Y456) --> M. musculus Y456\n",
    "# Agalma elegans (AB34) --> A. elegans AB34\n",
    "# Frillagalma vituazi --> F. vituazi\n",
    "# Cordagalma tottoni --> C. tottoni\n",
    "def transform_bonus(s):\n",
    "    return re.sub(r\"\\((\\w+)\\)$\", r\"\\1\", re.sub(r\"(?<=^.)\\w+\", '.', s))"
   ]
  },
  {
   "cell_type": "markdown",
   "metadata": {},
   "source": [
    "# Usage"
   ]
  },
  {
   "cell_type": "code",
   "execution_count": null,
   "metadata": {},
   "outputs": [],
   "source": [
    "# 1. replace all duplicated letters to one\n",
    "replace_all_dup_str = 'Genne structture, isoffforms, splicing'\n",
    "print(replace_all_dup_str, ' --> ', replace_all_dup(replace_all_dup_str))"
   ]
  },
  {
   "cell_type": "code",
   "execution_count": null,
   "metadata": {},
   "outputs": [],
   "source": [
    "# 2. transform\n",
    "transform_str = ['Mus musculus', 'Agalma elegans', 'Frillagalma vituazi', 'Cordagalma tottoni']\n",
    "for s in transform_str:\n",
    "    print(s, '-->', transform(s))"
   ]
  },
  {
   "cell_type": "code",
   "execution_count": null,
   "metadata": {},
   "outputs": [],
   "source": [
    "# 3. transform with brackets\n",
    "transform_str = ['Mus musculus (Y456)', 'Agalma elegans (AB34)', 'Frillagalma vituazi', 'Cordagalma tottoni']\n",
    "for s in transform_str:\n",
    "    print(s, '-->', transform_bonus(s))"
   ]
  }
 ],
 "metadata": {
  "kernelspec": {
   "display_name": "Python 3",
   "language": "python",
   "name": "python3"
  },
  "language_info": {
   "codemirror_mode": {
    "name": "ipython",
    "version": 3
   },
   "file_extension": ".py",
   "mimetype": "text/x-python",
   "name": "python",
   "nbconvert_exporter": "python",
   "pygments_lexer": "ipython3",
   "version": "3.7.4"
  }
 },
 "nbformat": 4,
 "nbformat_minor": 1
}
