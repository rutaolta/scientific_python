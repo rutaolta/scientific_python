{
 "cells": [
  {
   "cell_type": "code",
   "execution_count": 43,
   "metadata": {},
   "outputs": [
    {
     "name": "stdout",
     "output_type": "stream",
     "text": [
      "True\n",
      "foo\n",
      "bar\n",
      "foo\\nbar\n",
      "-----------------------------\n",
      "['q', 'w', 'e', 'r', 't', 'y']\n",
      "['q', 'w', 'e', 'r', 't', 'y']\n",
      "-----------------------------\n",
      "['\\\\', 'w']\n",
      "['q', '\\\\', 'w', 'e', 'r', 't', 'y']\n",
      "['\\\\', 'w']\n",
      "['q', '\\\\', 'w', 'e', 'r', 't', 'y']\n"
     ]
    }
   ],
   "source": [
    "'''\n",
    "# What is r\"\" ('python raw string')?\n",
    "A raw string is simply one of ways to represent a string in Python source code.\n",
    "Inside raw string (r\"\") \\ is treated literally.\n",
    "'''\n",
    "\n",
    "print(r\"foo\" == \"foo\")\n",
    "print(\"foo\\nbar\")\n",
    "print(r\"foo\\nbar\")\n",
    "print(\"-----------------------------\")\n",
    "\n",
    "\n",
    "s = \"qwerty\"\n",
    "import re\n",
    "print(re.findall(\"[\\w]\", s))\n",
    "print(re.findall(r\"[\\w]\", s))\n",
    "print(\"-----------------------------\")\n",
    "'''\n",
    "What happened: Python got a raw string, it suppressed \\w's special meaning, \n",
    "so the value remained equal \\w and this is what was passed to the regex engine. \n",
    "In turn, the regex engine treated \\w as a pattern.\n",
    "'''\n",
    "\n",
    "s = \"q\\werty\"\n",
    "print(re.findall(r\"[\\\\w]\", s))\n",
    "print(re.findall(r\"[\\\\\\w]\", s))\n",
    "print(re.findall(r\"[\\\\\\\\w]\", s))\n",
    "print(re.findall(r\"[\\\\\\\\\\w]\", s))\n",
    "# see tutorial :) -> Further we will use r\"\" syntax with re module."
   ]
  },
  {
   "cell_type": "code",
   "execution_count": null,
   "metadata": {},
   "outputs": [],
   "source": [
    "'''\n",
    "Lecture 1 \n",
    "Python RegEx\n",
    "\n",
    "A RegEx, or Regular Expression, is a sequence of characters that forms a search pattern.\n",
    "RegEx can be used to check if a string contains the specified search pattern.\n",
    "'''\n",
    "\n",
    "import re \n",
    "\n",
    "# findall   \n",
    "# split     \n",
    "# search    \n",
    "# sub   \n",
    "\n",
    "txt = \"Python applications in bioinformatics\""
   ]
  },
  {
   "cell_type": "code",
   "execution_count": 44,
   "metadata": {},
   "outputs": [
    {
     "name": "stdout",
     "output_type": "stream",
     "text": [
      "[]\n",
      "['io', 'io']\n",
      "0 2\n"
     ]
    }
   ],
   "source": [
    "# findall  Returns a list containing all matches\n",
    "\n",
    "print(re.findall(r\"ai\", txt))\n",
    "print(re.findall(r\"io\", txt))\n",
    "\n",
    "x1 = re.findall(r\"ai\", txt)\n",
    "x2 = re.findall(r\"io\", txt)\n",
    "\n",
    "print(len(x1), len(x2))"
   ]
  },
  {
   "cell_type": "code",
   "execution_count": 45,
   "metadata": {},
   "outputs": [
    {
     "data": {
      "text/plain": [
       "['applicati', 'bioinformati']"
      ]
     },
     "execution_count": 45,
     "metadata": {},
     "output_type": "execute_result"
    }
   ],
   "source": [
    "re.findall(r\"\\w+ti\", txt)"
   ]
  },
  {
   "cell_type": "code",
   "execution_count": 46,
   "metadata": {},
   "outputs": [
    {
     "data": {
      "text/plain": [
       "['s', 's']"
      ]
     },
     "execution_count": 46,
     "metadata": {},
     "output_type": "execute_result"
    }
   ],
   "source": [
    "re.findall(r\"s\\b\", txt)"
   ]
  },
  {
   "cell_type": "code",
   "execution_count": 47,
   "metadata": {},
   "outputs": [
    {
     "name": "stdout",
     "output_type": "stream",
     "text": [
      "Python applications in bioinformatics\n"
     ]
    }
   ],
   "source": [
    "print(txt)"
   ]
  },
  {
   "cell_type": "code",
   "execution_count": 48,
   "metadata": {},
   "outputs": [
    {
     "data": {
      "text/plain": [
       "['Python application', ' in bioinformatic', '']"
      ]
     },
     "execution_count": 48,
     "metadata": {},
     "output_type": "execute_result"
    }
   ],
   "source": [
    "# split  Returns a list where the string has been split at each match\n",
    "\n",
    "re.split(r\"s\\b\", txt)"
   ]
  },
  {
   "cell_type": "code",
   "execution_count": 49,
   "metadata": {},
   "outputs": [
    {
     "name": "stdout",
     "output_type": "stream",
     "text": [
      "Python applications in bioinformatics\n"
     ]
    }
   ],
   "source": [
    "print(txt)"
   ]
  },
  {
   "cell_type": "code",
   "execution_count": 50,
   "metadata": {},
   "outputs": [
    {
     "name": "stdout",
     "output_type": "stream",
     "text": [
      "Python applications in bioinformatics\n",
      "<re.Match object; span=(0, 37), match='Python applications in bioinformatics'>\n",
      "<re.Match object; span=(2, 3), match='t'>\n",
      "None\n"
     ]
    }
   ],
   "source": [
    "# search    Returns a Match object if there is a match anywhere in the string\n",
    "\n",
    "#             The Match object has properties and methods used to retrieve information about the search, \n",
    "#             and the result:\n",
    "#                 .start()\n",
    "#                 .end()\n",
    "#                 .span() returns a tupple containing the start-, and end positions of the match.\n",
    "#                 .string returns the string passed into the function\n",
    "#                 .group() returns the part of the string where there was a match\n",
    "\n",
    "# Match object:\n",
    "print(txt)\n",
    "print(re.search(r\"^Python.*bioinformatics$\", txt)) \n",
    "print(re.search(r\"t\", txt))\n",
    "print(re.search(r\"w\", txt))"
   ]
  },
  {
   "cell_type": "code",
   "execution_count": 51,
   "metadata": {},
   "outputs": [
    {
     "name": "stdout",
     "output_type": "stream",
     "text": [
      "None\n"
     ]
    }
   ],
   "source": [
    "x = re.search(r\"\\bS\\w+\", txt)\n",
    "print(x)"
   ]
  },
  {
   "cell_type": "code",
   "execution_count": 53,
   "metadata": {},
   "outputs": [
    {
     "name": "stdout",
     "output_type": "stream",
     "text": [
      "None\n"
     ]
    }
   ],
   "source": [
    "# x = re.search(r\"\\bP\", txt)\n",
    "x = re.search(r\"P\\b\", txt) # None\n",
    "\n",
    "print(x)"
   ]
  },
  {
   "cell_type": "code",
   "execution_count": null,
   "metadata": {},
   "outputs": [],
   "source": [
    "# how this 'None' could be used in 'if' statement "
   ]
  },
  {
   "cell_type": "code",
   "execution_count": 54,
   "metadata": {},
   "outputs": [],
   "source": [
    "dna = \"ATCGCGAATTCAC\"\n",
    "if re.search(r\"ATACA\", dna):\n",
    "    print(\"restriction site found!\")"
   ]
  },
  {
   "cell_type": "code",
   "execution_count": 55,
   "metadata": {},
   "outputs": [
    {
     "name": "stdout",
     "output_type": "stream",
     "text": [
      "restriction site found!\n"
     ]
    }
   ],
   "source": [
    "dna = \"ATCGCGAATTCAC\"\n",
    "if re.search(r\"AT[A|T]CA\", dna):\n",
    "    print(\"restriction site found!\")"
   ]
  },
  {
   "cell_type": "code",
   "execution_count": 56,
   "metadata": {},
   "outputs": [
    {
     "name": "stdout",
     "output_type": "stream",
     "text": [
      "ambiguous base found!\n",
      "the base is N\n"
     ]
    }
   ],
   "source": [
    "dna = \"CGATNCGGAACGATC\"\n",
    "m = re.search(r\"[^ATGC]\", dna)\n",
    "\n",
    "if m:\n",
    "    print(\"ambiguous base found!\")\n",
    "    ambig = m.group()\n",
    "    print(\"the base is \" + ambig)"
   ]
  },
  {
   "cell_type": "code",
   "execution_count": 57,
   "metadata": {},
   "outputs": [
    {
     "name": "stdout",
     "output_type": "stream",
     "text": [
      "Python applications in bioinformatics\n"
     ]
    }
   ],
   "source": [
    "print(txt)"
   ]
  },
  {
   "cell_type": "code",
   "execution_count": 58,
   "metadata": {},
   "outputs": [
    {
     "name": "stdout",
     "output_type": "stream",
     "text": [
      "(0, 6)\n",
      "0\n",
      "6\n",
      "Python\n",
      "Python applications in bioinformatics\n"
     ]
    }
   ],
   "source": [
    "x = re.search(r\"\\bP\\w+\", txt)\n",
    "print(x.span())\n",
    "print(x.start())\n",
    "print(x.end())\n",
    "print(x.group())\n",
    "print(x.string)"
   ]
  },
  {
   "cell_type": "code",
   "execution_count": 59,
   "metadata": {},
   "outputs": [
    {
     "name": "stdout",
     "output_type": "stream",
     "text": [
      "(0, 1)\n",
      "0\n",
      "1\n",
      "P\n",
      "Python applications in bioinformatics\n"
     ]
    }
   ],
   "source": [
    "x = re.search(r\"^\\D?\", txt)\n",
    "print(x.span())\n",
    "print(x.start())\n",
    "print(x.end())\n",
    "print(x.group())\n",
    "print(x.string)"
   ]
  },
  {
   "cell_type": "code",
   "execution_count": 60,
   "metadata": {},
   "outputs": [
    {
     "name": "stdout",
     "output_type": "stream",
     "text": [
      "None\n"
     ]
    },
    {
     "ename": "AttributeError",
     "evalue": "'NoneType' object has no attribute 'string'",
     "traceback": [
      "\u001b[0;31m---------------------------------------------------------------------------\u001b[0m",
      "\u001b[0;31mAttributeError\u001b[0m                            Traceback (most recent call last)",
      "\u001b[0;32m<ipython-input-60-087ef0c242bb>\u001b[0m in \u001b[0;36m<module>\u001b[0;34m\u001b[0m\n\u001b[1;32m      1\u001b[0m \u001b[0mx\u001b[0m \u001b[0;34m=\u001b[0m \u001b[0mre\u001b[0m\u001b[0;34m.\u001b[0m\u001b[0msearch\u001b[0m\u001b[0;34m(\u001b[0m\u001b[0;34mr\"fffffff\"\u001b[0m\u001b[0;34m,\u001b[0m \u001b[0mtxt\u001b[0m\u001b[0;34m)\u001b[0m\u001b[0;34m\u001b[0m\u001b[0;34m\u001b[0m\u001b[0m\n\u001b[1;32m      2\u001b[0m \u001b[0mprint\u001b[0m\u001b[0;34m(\u001b[0m\u001b[0mx\u001b[0m\u001b[0;34m)\u001b[0m\u001b[0;34m\u001b[0m\u001b[0;34m\u001b[0m\u001b[0m\n\u001b[0;32m----> 3\u001b[0;31m \u001b[0mprint\u001b[0m\u001b[0;34m(\u001b[0m\u001b[0mx\u001b[0m\u001b[0;34m.\u001b[0m\u001b[0mstring\u001b[0m\u001b[0;34m)\u001b[0m\u001b[0;34m\u001b[0m\u001b[0;34m\u001b[0m\u001b[0m\n\u001b[0m",
      "\u001b[0;31mAttributeError\u001b[0m: 'NoneType' object has no attribute 'string'"
     ],
     "output_type": "error"
    }
   ],
   "source": [
    "x = re.search(r\"fffffff\", txt)\n",
    "print(x)\n",
    "print(x.string)"
   ]
  },
  {
   "cell_type": "code",
   "execution_count": null,
   "metadata": {},
   "outputs": [],
   "source": [
    "# A little bit more exercises:"
   ]
  },
  {
   "cell_type": "code",
   "execution_count": 61,
   "metadata": {},
   "outputs": [
    {
     "name": "stdout",
     "output_type": "stream",
     "text": [
      "Python applications in bioinformatics\n"
     ]
    }
   ],
   "source": [
    "print(txt)"
   ]
  },
  {
   "cell_type": "code",
   "execution_count": 62,
   "metadata": {},
   "outputs": [
    {
     "name": "stdout",
     "output_type": "stream",
     "text": [
      "app\n"
     ]
    }
   ],
   "source": [
    "x = re.search(r\"\\S+?(.)\\1\\d*\", txt)\n",
    "print(x.group())"
   ]
  },
  {
   "cell_type": "code",
   "execution_count": 65,
   "metadata": {},
   "outputs": [
    {
     "name": "stdout",
     "output_type": "stream",
     "text": [
      "app\n"
     ]
    }
   ],
   "source": [
    "x = re.search(r\"\\S+?(.)\\1\\d*\", txt)\n",
    "print(x.group())"
   ]
  },
  {
   "cell_type": "code",
   "execution_count": 66,
   "metadata": {},
   "outputs": [
    {
     "name": "stdout",
     "output_type": "stream",
     "text": [
      "Python\n"
     ]
    }
   ],
   "source": [
    "x = re.search(r\"\\bP\\w+\", txt)\n",
    "print(x.group())"
   ]
  },
  {
   "cell_type": "code",
   "execution_count": 67,
   "metadata": {},
   "outputs": [
    {
     "name": "stdout",
     "output_type": "stream",
     "text": [
      "tions\n"
     ]
    }
   ],
   "source": [
    "x = re.search(r\"ti\\w+\", txt)\n",
    "print(x.group())"
   ]
  },
  {
   "cell_type": "code",
   "execution_count": 68,
   "metadata": {},
   "outputs": [
    {
     "name": "stdout",
     "output_type": "stream",
     "text": [
      "tio\n"
     ]
    }
   ],
   "source": [
    "x = re.search(r\"ti\\w+?\", txt)\n",
    "print(x.group())"
   ]
  },
  {
   "cell_type": "code",
   "execution_count": null,
   "metadata": {},
   "outputs": [],
   "source": []
  },
  {
   "cell_type": "code",
   "execution_count": null,
   "metadata": {},
   "outputs": [],
   "source": []
  },
  {
   "cell_type": "code",
   "execution_count": 69,
   "metadata": {},
   "outputs": [
    {
     "name": "stdout",
     "output_type": "stream",
     "text": [
      "['Hello', 'hello']\n",
      "re.compile('[Hh]ello')\n",
      "['Hello', 'hello']\n"
     ]
    }
   ],
   "source": [
    "# another way to handle these functions:\n",
    "\n",
    "# A pattern can be compiled (converted to an internal representation) to\n",
    "# speed up the search. This step is not mandatory but recommended for large\n",
    "# amounts of text.\n",
    "\n",
    "# Let’s look at findall with a regular pattern \n",
    "# and then at its “compiled” version:\n",
    "\n",
    "print(re.findall(r\"[Hh]ello\",\"Hello world, hello Python!\"))\n",
    "\n",
    "rgx = re.compile(r\"[Hh]ello\")\n",
    "print(rgx)\n",
    "print(rgx.findall(r\"Hello world, hello Python!\")) # Compiled patterns have all methods available."
   ]
  },
  {
   "cell_type": "code",
   "execution_count": null,
   "metadata": {},
   "outputs": [],
   "source": []
  },
  {
   "cell_type": "code",
   "execution_count": null,
   "metadata": {},
   "outputs": [],
   "source": []
  },
  {
   "cell_type": "code",
   "execution_count": 70,
   "metadata": {
    "scrolled": true
   },
   "outputs": [
    {
     "data": {
      "text/plain": [
       "'ATTA'"
      ]
     },
     "execution_count": 70,
     "metadata": {},
     "output_type": "execute_result"
    }
   ],
   "source": [
    "# sub       Replaces one or many matches with a string\n",
    "re.sub(r\"(GC){3,}\", r\"\", \"ATGCGCGCTA\")"
   ]
  },
  {
   "cell_type": "code",
   "execution_count": 71,
   "metadata": {},
   "outputs": [
    {
     "name": "stdout",
     "output_type": "stream",
     "text": [
      "Before: ATGCGCGCTA\n",
      "After: ATTA\n"
     ]
    }
   ],
   "source": [
    "seq=\"ATGCGCGCTA\"\n",
    "regex = re.compile(r\"(GC){3,}\")\n",
    "print(\"Before:\", seq)\n",
    "print(\"After:\", regex.sub(r\"\",seq))"
   ]
  },
  {
   "cell_type": "code",
   "execution_count": 73,
   "metadata": {},
   "outputs": [
    {
     "name": "stdout",
     "output_type": "stream",
     "text": [
      "TATAAG\n",
      "GCGCGC\n"
     ]
    }
   ],
   "source": [
    "# Groups can be labeled to refer to them later. To give a name to a group, use: ?P<name>.   \n",
    "\n",
    "rgx = re.compile(r\"(?P<TBX>TATA..).*(?P<CGisland>(GC){3,})\")\n",
    "seq = \"ATATAAGATGCGCGCGCTTATGCGCGCA\"\n",
    "result = rgx.search(seq)\n",
    "print(result.group('TBX'))\n",
    "print(result.group('CGisland'))"
   ]
  },
  {
   "cell_type": "code",
   "execution_count": 74,
   "metadata": {},
   "outputs": [
    {
     "name": "stdout",
     "output_type": "stream",
     "text": [
      "TATAAG\n",
      "GCGCGC\n"
     ]
    }
   ],
   "source": [
    "print(result.group(1))\n",
    "print(result.group(2))"
   ]
  },
  {
   "cell_type": "code",
   "execution_count": null,
   "metadata": {},
   "outputs": [],
   "source": []
  },
  {
   "cell_type": "code",
   "execution_count": null,
   "metadata": {},
   "outputs": [],
   "source": [
    "# LOOKAROUNDS"
   ]
  },
  {
   "cell_type": "code",
   "execution_count": 76,
   "metadata": {},
   "outputs": [],
   "source": [
    "f = \"foobarbarfoo\""
   ]
  },
  {
   "cell_type": "code",
   "execution_count": 77,
   "metadata": {},
   "outputs": [
    {
     "name": "stdout",
     "output_type": "stream",
     "text": [
      "<re.Match object; span=(3, 6), match='bar'>\n"
     ]
    }
   ],
   "source": [
    "# positive lookahead\n",
    "\n",
    "x = re.search(r\"bar(?=bar)\", f)\n",
    "print(x)"
   ]
  },
  {
   "cell_type": "code",
   "execution_count": 78,
   "metadata": {},
   "outputs": [
    {
     "name": "stdout",
     "output_type": "stream",
     "text": [
      "<re.Match object; span=(6, 9), match='bar'>\n"
     ]
    }
   ],
   "source": [
    "# negative lookahead\n",
    "\n",
    "x = re.search(r\"bar(?!bar)\", f)\n",
    "print(x)"
   ]
  },
  {
   "cell_type": "code",
   "execution_count": 79,
   "metadata": {},
   "outputs": [
    {
     "name": "stdout",
     "output_type": "stream",
     "text": [
      "<re.Match object; span=(3, 6), match='bar'>\n"
     ]
    }
   ],
   "source": [
    "# positive lookbehind\n",
    "\n",
    "x = re.search(r\"(?<=foo)bar\", f)\n",
    "print(x)"
   ]
  },
  {
   "cell_type": "code",
   "execution_count": 80,
   "metadata": {},
   "outputs": [
    {
     "name": "stdout",
     "output_type": "stream",
     "text": [
      "<re.Match object; span=(6, 9), match='bar'>\n"
     ]
    }
   ],
   "source": [
    "# negative lookbehind\n",
    "\n",
    "x = re.search(r\"(?<!foo)bar\", f)\n",
    "print(x)"
   ]
  }
 ],
 "metadata": {
  "kernelspec": {
   "display_name": "Python 3",
   "language": "python",
   "name": "python3"
  },
  "language_info": {
   "codemirror_mode": {
    "name": "ipython",
    "version": 3
   },
   "file_extension": ".py",
   "mimetype": "text/x-python",
   "name": "python",
   "nbconvert_exporter": "python",
   "pygments_lexer": "ipython3",
   "version": "3.7.6"
  }
 },
 "nbformat": 4,
 "nbformat_minor": 2
}
